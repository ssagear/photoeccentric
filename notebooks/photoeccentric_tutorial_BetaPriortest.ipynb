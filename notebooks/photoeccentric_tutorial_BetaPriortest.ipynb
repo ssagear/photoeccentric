{
 "cells": [
  {
   "cell_type": "markdown",
   "metadata": {},
   "source": [
    "# `photoeccentric` Tutorial"
   ]
  },
  {
   "cell_type": "markdown",
   "metadata": {},
   "source": [
    "In this notebook, I'm using the \"extreme\" prior (uniform between 0 < e < 0.1) (ph.extbprior_log_probability) and the beta distribution prior (ph.bprior_log_probability) with default coefficients.\n",
    "\n",
    "I'm testing e=0 with extreme prioir, e=0.9 with beta dist prior and regular (uniform) prior."
   ]
  },
  {
   "cell_type": "code",
   "execution_count": 1,
   "metadata": {},
   "outputs": [],
   "source": [
    "import numpy as np\n",
    "import matplotlib.pyplot as plt\n",
    "import pandas as pd\n",
    "from tqdm import tqdm\n",
    "from astropy.table import Table\n",
    "import astropy.units as u\n",
    "import os\n",
    "\n",
    "# Using `batman` to create & fit fake transit\n",
    "import batman\n",
    "\n",
    "# Using astropy BLS and scipy curve_fit to fit transit\n",
    "from astropy.timeseries import BoxLeastSquares\n",
    "from scipy.optimize import curve_fit\n",
    "\n",
    "import scipy.optimize as opt\n",
    "\n",
    "# Using emcee & corner to find and plot (e, w) distribution\n",
    "import emcee\n",
    "import corner\n",
    "\n",
    "# And importing `photoeccentric`\n",
    "import photoeccentric as ph\n",
    "\n",
    "%load_ext autoreload\n",
    "%autoreload 2\n",
    "\n",
    "pd.set_option('display.float_format', lambda x: '%.5f' % x)\n"
   ]
  },
  {
   "cell_type": "code",
   "execution_count": 2,
   "metadata": {},
   "outputs": [],
   "source": [
    "nwalk = 64\n",
    "nsteps = 1000\n",
    "ndiscard = 500\n",
    "arrlen = (nsteps-ndiscard)*nwalk"
   ]
  },
  {
   "cell_type": "markdown",
   "metadata": {},
   "source": [
    "I'll define the conversions between solar mass -> kg and solar radius -> meters for convenience."
   ]
  },
  {
   "cell_type": "code",
   "execution_count": 3,
   "metadata": {},
   "outputs": [],
   "source": [
    "smass_kg = 1.9885e30  # Solar mass (kg)\n",
    "srad_m = 696.34e6 # Solar radius (m)"
   ]
  },
  {
   "cell_type": "markdown",
   "metadata": {},
   "source": [
    "## The Sample"
   ]
  },
  {
   "cell_type": "markdown",
   "metadata": {},
   "source": [
    "I'm using the sample of \"cool KOIs\" from [Muirhead et al. 2013](https://iopscience.iop.org/article/10.1088/0067-0049/213/1/5), and their properites from spectroscopy published here."
   ]
  },
  {
   "cell_type": "code",
   "execution_count": 4,
   "metadata": {},
   "outputs": [],
   "source": [
    "muirhead_data = pd.read_csv(\"datafiles/Muirhead2013_isochrones/muirhead_data_incmissing.txt\", sep=\" \")"
   ]
  },
  {
   "cell_type": "markdown",
   "metadata": {},
   "source": [
    "\n",
    "I'm reading in a file containing data for all Kepler planets from the Exoplanet Archive (`planets`), then only taking these data for planets in the Muirhead et al. 2013 sample (`spectplanets`)."
   ]
  },
  {
   "cell_type": "code",
   "execution_count": 5,
   "metadata": {},
   "outputs": [],
   "source": [
    "# ALL Kepler planets from exo archive\n",
    "planets = pd.read_csv('datafiles/exoplanetarchive/cumulative_kois.csv')\n",
    "\n",
    "# Take the Kepler planet archive entries for the planets in Muirhead et al. 2013 sample\n",
    "# TODO: Vet based on KOI not KIC\n",
    "spectplanets = planets[planets['kepid'].isin(list(muirhead_data['KIC']))]\n",
    "\n",
    "# spectplanets.to_csv('spectplanets.csv')"
   ]
  },
  {
   "cell_type": "markdown",
   "metadata": {},
   "source": [
    "Now, I'm reading in the entire Kepler/Gaia dataset from [gaia-kepler.fun]. I'm again matching these data with the objects in our sample (`muirhead_gaia`). I'm using the DR2 data with a 4 arcsecond search radius.\n",
    "\n",
    "Then I'll combine the spectroscopy data with Kepler/Gaia data for our sample."
   ]
  },
  {
   "cell_type": "code",
   "execution_count": 7,
   "metadata": {},
   "outputs": [],
   "source": [
    "# Kepler-Gaia Data\n",
    "kpgaia = Table.read('datafiles/Kepler-Gaia/kepler_dr2_1arcsec.fits', format='fits').to_pandas();\n",
    "\n",
    "# Kepler-Gaia data for only the objects in our sample\n",
    "muirhead_gaia = kpgaia[kpgaia['kepid'].isin(list(muirhead_data.KIC))]\n",
    "muirhead_gaia = muirhead_gaia.rename(columns={\"source_id\": \"m_source_id\"})\n",
    "muirhead_gaia.to_csv('muirhead_gaia_1as.csv')\n",
    "\n",
    "# Combined spectroscopy data + Gaia/Kepler data for our sample\n",
    "muirhead_comb = pd.merge(muirhead_data, muirhead_gaia, how='inner', left_on='KIC', right_on='kepid')\n",
    "muirhead_comb.to_csv('muirhead_comb_1as.csv')\n",
    "\n",
    "# Only targets from table above with published luminosities from Gaia\n",
    "muirhead_comb_lums = muirhead_comb[muirhead_comb.lum_val.notnull()]\n",
    "muirhead_comb_lums.to_csv('muirhead_comb_lums_1as.csv')"
   ]
  },
  {
   "cell_type": "markdown",
   "metadata": {},
   "source": [
    "# Defining a \"test planet\""
   ]
  },
  {
   "cell_type": "markdown",
   "metadata": {},
   "source": [
    "I'm going to pick a random planet from our sample to test how well `photoeccentric` works. Here, I'm picking Kepler-1582 b, a super-Earth orbiting an M dwarf [Exoplanet Catalog Entry](https://exoplanets.nasa.gov/exoplanet-catalog/2457/kepler-1582-b/). It has an orbital period of about 5 days.\n",
    "\n",
    "First, I'll use the spectroscopy data from Muirhead et al. 2013 and Gaia luminosities to constrain the mass and radius of the host star beyond the constraint published in the Exoplanet Archive. I'll do this by matching these data with stellar isochrones [MESA](https://iopscience.iop.org/article/10.3847/0004-637X/823/2/102) (check this ciation) and using the masses/radii from the matching isochrones to constrian the stellar density."
   ]
  },
  {
   "cell_type": "code",
   "execution_count": 264,
   "metadata": {},
   "outputs": [],
   "source": [
    "# Kepler ID for Kepler-1582 b\n",
    "kepid = 5868793\n",
    "kepname = spectplanets.loc[spectplanets['kepid'] == kepid].kepler_name.values[0]\n",
    "\n",
    "kp1582b = muirhead_comb.loc[muirhead_comb['KIC'] == kepid]\n"
   ]
  },
  {
   "cell_type": "code",
   "execution_count": 265,
   "metadata": {},
   "outputs": [],
   "source": [
    "# Read in MESA isochrones\n",
    "isochrones = pd.read_csv('datafiles/Muirhead2013_isochrones/isochrones_sdss_spitzer_lowmass.dat', sep='\\s\\s+', engine='python')\n"
   ]
  },
  {
   "cell_type": "markdown",
   "metadata": {},
   "source": [
    "##### Using `ph.fit_isochrone_lum()` to match isochrones to stellar data"
   ]
  },
  {
   "cell_type": "code",
   "execution_count": 266,
   "metadata": {},
   "outputs": [
    {
     "name": "stderr",
     "output_type": "stream",
     "text": [
      "100%|██████████| 738479/738479 [00:55<00:00, 13379.60it/s] \n"
     ]
    }
   ],
   "source": [
    "iso_lums = ph.fit_isochrone_lum(kp1582b, muirhead_comb_lums, isochrones, gaia_lum=False, source='Muirhead')"
   ]
  },
  {
   "cell_type": "code",
   "execution_count": 267,
   "metadata": {},
   "outputs": [],
   "source": [
    "# Write to csv, then read back in (prevents python notebook from lagging)\n",
    "iso_lums.to_csv(\"datafiles/isochrones/iso_lums_\" + str(kepid) + \".csv\")"
   ]
  },
  {
   "cell_type": "code",
   "execution_count": 268,
   "metadata": {},
   "outputs": [],
   "source": [
    "isodf = pd.read_csv(\"datafiles/isochrones/iso_lums_\" + str(kepid) + \".csv\")"
   ]
  },
  {
   "cell_type": "code",
   "execution_count": 269,
   "metadata": {},
   "outputs": [
    {
     "data": {
      "text/html": [
       "<div>\n",
       "<style scoped>\n",
       "    .dataframe tbody tr th:only-of-type {\n",
       "        vertical-align: middle;\n",
       "    }\n",
       "\n",
       "    .dataframe tbody tr th {\n",
       "        vertical-align: top;\n",
       "    }\n",
       "\n",
       "    .dataframe thead th {\n",
       "        text-align: right;\n",
       "    }\n",
       "</style>\n",
       "<table border=\"1\" class=\"dataframe\">\n",
       "  <thead>\n",
       "    <tr style=\"text-align: right;\">\n",
       "      <th></th>\n",
       "      <th>Unnamed: 0</th>\n",
       "      <th>mstar</th>\n",
       "      <th>logt</th>\n",
       "      <th>logl_ls</th>\n",
       "      <th>logg</th>\n",
       "      <th>radius</th>\n",
       "      <th>feh</th>\n",
       "      <th>afe</th>\n",
       "      <th>age</th>\n",
       "      <th>u</th>\n",
       "      <th>...</th>\n",
       "      <th>i</th>\n",
       "      <th>z</th>\n",
       "      <th>J</th>\n",
       "      <th>H</th>\n",
       "      <th>Ks</th>\n",
       "      <th>Kp</th>\n",
       "      <th>IRAC1</th>\n",
       "      <th>IRAC2</th>\n",
       "      <th>KIC</th>\n",
       "      <th>KOI</th>\n",
       "    </tr>\n",
       "  </thead>\n",
       "  <tbody>\n",
       "    <tr>\n",
       "      <th>0</th>\n",
       "      <td>256557</td>\n",
       "      <td>0.15080</td>\n",
       "      <td>3.51100</td>\n",
       "      <td>-2.50700</td>\n",
       "      <td>5.13100</td>\n",
       "      <td>0.17490</td>\n",
       "      <td>-0.15000</td>\n",
       "      <td>0.00000</td>\n",
       "      <td>0.70000</td>\n",
       "      <td>17.08000</td>\n",
       "      <td>...</td>\n",
       "      <td>11.24000</td>\n",
       "      <td>10.58000</td>\n",
       "      <td>9.14000</td>\n",
       "      <td>8.58600</td>\n",
       "      <td>8.34800</td>\n",
       "      <td>11.88000</td>\n",
       "      <td>8.18700</td>\n",
       "      <td>8.07500</td>\n",
       "      <td>nan</td>\n",
       "      <td>nan</td>\n",
       "    </tr>\n",
       "    <tr>\n",
       "      <th>1</th>\n",
       "      <td>271054</td>\n",
       "      <td>0.17090</td>\n",
       "      <td>3.51100</td>\n",
       "      <td>-2.36500</td>\n",
       "      <td>5.05700</td>\n",
       "      <td>0.20270</td>\n",
       "      <td>-0.13000</td>\n",
       "      <td>0.00000</td>\n",
       "      <td>0.40000</td>\n",
       "      <td>16.66000</td>\n",
       "      <td>...</td>\n",
       "      <td>10.89000</td>\n",
       "      <td>10.22000</td>\n",
       "      <td>8.78100</td>\n",
       "      <td>8.23100</td>\n",
       "      <td>7.99100</td>\n",
       "      <td>11.52000</td>\n",
       "      <td>7.83000</td>\n",
       "      <td>7.71400</td>\n",
       "      <td>nan</td>\n",
       "      <td>nan</td>\n",
       "    </tr>\n",
       "    <tr>\n",
       "      <th>2</th>\n",
       "      <td>271150</td>\n",
       "      <td>0.16090</td>\n",
       "      <td>3.51100</td>\n",
       "      <td>-2.44400</td>\n",
       "      <td>5.09900</td>\n",
       "      <td>0.18740</td>\n",
       "      <td>-0.13000</td>\n",
       "      <td>0.00000</td>\n",
       "      <td>0.60000</td>\n",
       "      <td>16.89000</td>\n",
       "      <td>...</td>\n",
       "      <td>11.08000</td>\n",
       "      <td>10.42000</td>\n",
       "      <td>8.97900</td>\n",
       "      <td>8.42800</td>\n",
       "      <td>8.18800</td>\n",
       "      <td>11.72000</td>\n",
       "      <td>8.02700</td>\n",
       "      <td>7.91300</td>\n",
       "      <td>nan</td>\n",
       "      <td>nan</td>\n",
       "    </tr>\n",
       "    <tr>\n",
       "      <th>3</th>\n",
       "      <td>271248</td>\n",
       "      <td>0.15080</td>\n",
       "      <td>3.51100</td>\n",
       "      <td>-2.52100</td>\n",
       "      <td>5.14000</td>\n",
       "      <td>0.17310</td>\n",
       "      <td>-0.13000</td>\n",
       "      <td>0.00000</td>\n",
       "      <td>0.80000</td>\n",
       "      <td>17.12000</td>\n",
       "      <td>...</td>\n",
       "      <td>11.28000</td>\n",
       "      <td>10.61000</td>\n",
       "      <td>9.17200</td>\n",
       "      <td>8.62000</td>\n",
       "      <td>8.38100</td>\n",
       "      <td>11.92000</td>\n",
       "      <td>8.22100</td>\n",
       "      <td>8.10800</td>\n",
       "      <td>nan</td>\n",
       "      <td>nan</td>\n",
       "    </tr>\n",
       "    <tr>\n",
       "      <th>4</th>\n",
       "      <td>278376</td>\n",
       "      <td>0.17090</td>\n",
       "      <td>3.51100</td>\n",
       "      <td>-2.36500</td>\n",
       "      <td>5.05600</td>\n",
       "      <td>0.20290</td>\n",
       "      <td>-0.12000</td>\n",
       "      <td>0.00000</td>\n",
       "      <td>0.40000</td>\n",
       "      <td>16.66000</td>\n",
       "      <td>...</td>\n",
       "      <td>10.89000</td>\n",
       "      <td>10.22000</td>\n",
       "      <td>8.78100</td>\n",
       "      <td>8.23200</td>\n",
       "      <td>7.99100</td>\n",
       "      <td>11.53000</td>\n",
       "      <td>7.83000</td>\n",
       "      <td>7.71400</td>\n",
       "      <td>nan</td>\n",
       "      <td>nan</td>\n",
       "    </tr>\n",
       "    <tr>\n",
       "      <th>...</th>\n",
       "      <td>...</td>\n",
       "      <td>...</td>\n",
       "      <td>...</td>\n",
       "      <td>...</td>\n",
       "      <td>...</td>\n",
       "      <td>...</td>\n",
       "      <td>...</td>\n",
       "      <td>...</td>\n",
       "      <td>...</td>\n",
       "      <td>...</td>\n",
       "      <td>...</td>\n",
       "      <td>...</td>\n",
       "      <td>...</td>\n",
       "      <td>...</td>\n",
       "      <td>...</td>\n",
       "      <td>...</td>\n",
       "      <td>...</td>\n",
       "      <td>...</td>\n",
       "      <td>...</td>\n",
       "      <td>...</td>\n",
       "      <td>...</td>\n",
       "    </tr>\n",
       "    <tr>\n",
       "      <th>40486</th>\n",
       "      <td>738379</td>\n",
       "      <td>0.18100</td>\n",
       "      <td>3.49300</td>\n",
       "      <td>-2.41500</td>\n",
       "      <td>5.03700</td>\n",
       "      <td>0.21360</td>\n",
       "      <td>0.50000</td>\n",
       "      <td>0.00000</td>\n",
       "      <td>13.90000</td>\n",
       "      <td>16.87000</td>\n",
       "      <td>...</td>\n",
       "      <td>11.22000</td>\n",
       "      <td>10.39000</td>\n",
       "      <td>8.81900</td>\n",
       "      <td>8.32800</td>\n",
       "      <td>8.06500</td>\n",
       "      <td>11.88000</td>\n",
       "      <td>7.87400</td>\n",
       "      <td>7.74000</td>\n",
       "      <td>nan</td>\n",
       "      <td>nan</td>\n",
       "    </tr>\n",
       "    <tr>\n",
       "      <th>40487</th>\n",
       "      <td>738380</td>\n",
       "      <td>0.19110</td>\n",
       "      <td>3.49500</td>\n",
       "      <td>-2.37000</td>\n",
       "      <td>5.02200</td>\n",
       "      <td>0.22330</td>\n",
       "      <td>0.50000</td>\n",
       "      <td>0.00000</td>\n",
       "      <td>13.90000</td>\n",
       "      <td>16.71000</td>\n",
       "      <td>...</td>\n",
       "      <td>11.10000</td>\n",
       "      <td>10.28000</td>\n",
       "      <td>8.71000</td>\n",
       "      <td>8.21700</td>\n",
       "      <td>7.95600</td>\n",
       "      <td>11.76000</td>\n",
       "      <td>7.76800</td>\n",
       "      <td>7.63400</td>\n",
       "      <td>nan</td>\n",
       "      <td>nan</td>\n",
       "    </tr>\n",
       "    <tr>\n",
       "      <th>40488</th>\n",
       "      <td>738431</td>\n",
       "      <td>0.17090</td>\n",
       "      <td>3.49200</td>\n",
       "      <td>-2.46200</td>\n",
       "      <td>5.05300</td>\n",
       "      <td>0.20370</td>\n",
       "      <td>0.50000</td>\n",
       "      <td>0.00000</td>\n",
       "      <td>14.00000</td>\n",
       "      <td>17.04000</td>\n",
       "      <td>...</td>\n",
       "      <td>11.35000</td>\n",
       "      <td>10.52000</td>\n",
       "      <td>8.93400</td>\n",
       "      <td>8.44300</td>\n",
       "      <td>8.17900</td>\n",
       "      <td>12.02000</td>\n",
       "      <td>7.98500</td>\n",
       "      <td>7.85100</td>\n",
       "      <td>nan</td>\n",
       "      <td>nan</td>\n",
       "    </tr>\n",
       "    <tr>\n",
       "      <th>40489</th>\n",
       "      <td>738432</td>\n",
       "      <td>0.18100</td>\n",
       "      <td>3.49300</td>\n",
       "      <td>-2.41500</td>\n",
       "      <td>5.03700</td>\n",
       "      <td>0.21360</td>\n",
       "      <td>0.50000</td>\n",
       "      <td>0.00000</td>\n",
       "      <td>14.00000</td>\n",
       "      <td>16.87000</td>\n",
       "      <td>...</td>\n",
       "      <td>11.22000</td>\n",
       "      <td>10.39000</td>\n",
       "      <td>8.81900</td>\n",
       "      <td>8.32700</td>\n",
       "      <td>8.06500</td>\n",
       "      <td>11.88000</td>\n",
       "      <td>7.87400</td>\n",
       "      <td>7.73900</td>\n",
       "      <td>nan</td>\n",
       "      <td>nan</td>\n",
       "    </tr>\n",
       "    <tr>\n",
       "      <th>40490</th>\n",
       "      <td>738433</td>\n",
       "      <td>0.19110</td>\n",
       "      <td>3.49500</td>\n",
       "      <td>-2.37000</td>\n",
       "      <td>5.02100</td>\n",
       "      <td>0.22330</td>\n",
       "      <td>0.50000</td>\n",
       "      <td>0.00000</td>\n",
       "      <td>14.00000</td>\n",
       "      <td>16.71000</td>\n",
       "      <td>...</td>\n",
       "      <td>11.09000</td>\n",
       "      <td>10.28000</td>\n",
       "      <td>8.70900</td>\n",
       "      <td>8.21600</td>\n",
       "      <td>7.95500</td>\n",
       "      <td>11.76000</td>\n",
       "      <td>7.76800</td>\n",
       "      <td>7.63300</td>\n",
       "      <td>nan</td>\n",
       "      <td>nan</td>\n",
       "    </tr>\n",
       "  </tbody>\n",
       "</table>\n",
       "<p>40491 rows × 22 columns</p>\n",
       "</div>"
      ],
      "text/plain": [
       "       Unnamed: 0   mstar    logt  logl_ls    logg  radius      feh     afe  \\\n",
       "0          256557 0.15080 3.51100 -2.50700 5.13100 0.17490 -0.15000 0.00000   \n",
       "1          271054 0.17090 3.51100 -2.36500 5.05700 0.20270 -0.13000 0.00000   \n",
       "2          271150 0.16090 3.51100 -2.44400 5.09900 0.18740 -0.13000 0.00000   \n",
       "3          271248 0.15080 3.51100 -2.52100 5.14000 0.17310 -0.13000 0.00000   \n",
       "4          278376 0.17090 3.51100 -2.36500 5.05600 0.20290 -0.12000 0.00000   \n",
       "...           ...     ...     ...      ...     ...     ...      ...     ...   \n",
       "40486      738379 0.18100 3.49300 -2.41500 5.03700 0.21360  0.50000 0.00000   \n",
       "40487      738380 0.19110 3.49500 -2.37000 5.02200 0.22330  0.50000 0.00000   \n",
       "40488      738431 0.17090 3.49200 -2.46200 5.05300 0.20370  0.50000 0.00000   \n",
       "40489      738432 0.18100 3.49300 -2.41500 5.03700 0.21360  0.50000 0.00000   \n",
       "40490      738433 0.19110 3.49500 -2.37000 5.02100 0.22330  0.50000 0.00000   \n",
       "\n",
       "           age        u  ...        i        z       J       H      Ks  \\\n",
       "0      0.70000 17.08000  ... 11.24000 10.58000 9.14000 8.58600 8.34800   \n",
       "1      0.40000 16.66000  ... 10.89000 10.22000 8.78100 8.23100 7.99100   \n",
       "2      0.60000 16.89000  ... 11.08000 10.42000 8.97900 8.42800 8.18800   \n",
       "3      0.80000 17.12000  ... 11.28000 10.61000 9.17200 8.62000 8.38100   \n",
       "4      0.40000 16.66000  ... 10.89000 10.22000 8.78100 8.23200 7.99100   \n",
       "...        ...      ...  ...      ...      ...     ...     ...     ...   \n",
       "40486 13.90000 16.87000  ... 11.22000 10.39000 8.81900 8.32800 8.06500   \n",
       "40487 13.90000 16.71000  ... 11.10000 10.28000 8.71000 8.21700 7.95600   \n",
       "40488 14.00000 17.04000  ... 11.35000 10.52000 8.93400 8.44300 8.17900   \n",
       "40489 14.00000 16.87000  ... 11.22000 10.39000 8.81900 8.32700 8.06500   \n",
       "40490 14.00000 16.71000  ... 11.09000 10.28000 8.70900 8.21600 7.95500   \n",
       "\n",
       "            Kp   IRAC1   IRAC2  KIC  KOI  \n",
       "0     11.88000 8.18700 8.07500  nan  nan  \n",
       "1     11.52000 7.83000 7.71400  nan  nan  \n",
       "2     11.72000 8.02700 7.91300  nan  nan  \n",
       "3     11.92000 8.22100 8.10800  nan  nan  \n",
       "4     11.53000 7.83000 7.71400  nan  nan  \n",
       "...        ...     ...     ...  ...  ...  \n",
       "40486 11.88000 7.87400 7.74000  nan  nan  \n",
       "40487 11.76000 7.76800 7.63400  nan  nan  \n",
       "40488 12.02000 7.98500 7.85100  nan  nan  \n",
       "40489 11.88000 7.87400 7.73900  nan  nan  \n",
       "40490 11.76000 7.76800 7.63300  nan  nan  \n",
       "\n",
       "[40491 rows x 22 columns]"
      ]
     },
     "execution_count": 269,
     "metadata": {},
     "output_type": "execute_result"
    }
   ],
   "source": [
    "isodf"
   ]
  },
  {
   "cell_type": "markdown",
   "metadata": {},
   "source": [
    "I'm determining the mass and radius constraints of this star based on the isochrones that were consistent with the observational data."
   ]
  },
  {
   "cell_type": "code",
   "execution_count": 270,
   "metadata": {},
   "outputs": [],
   "source": [
    "mstar = isodf[\"mstar\"].mean()\n",
    "mstar_err = isodf[\"mstar\"].std()\n",
    "\n",
    "rstar = isodf[\"radius\"].mean()\n",
    "rstar_err = isodf[\"radius\"].std()"
   ]
  },
  {
   "cell_type": "markdown",
   "metadata": {},
   "source": [
    "##### Using `ph.find_density_dist_symmetric()` to create a stellar density distribution from symmetric (Gaussian) distributions based on mstar and rstar (from isochrones). \n",
    "Note: this does not necessarily mean the resulting density distribution will appear symmetric."
   ]
  },
  {
   "cell_type": "code",
   "execution_count": 271,
   "metadata": {
    "scrolled": true
   },
   "outputs": [],
   "source": [
    "rho_star, mass, radius = ph.find_density_dist_symmetric(mstar, mstar_err, rstar, rstar_err, arrlen)"
   ]
  },
  {
   "cell_type": "code",
   "execution_count": 272,
   "metadata": {},
   "outputs": [
    {
     "data": {
      "text/plain": [
       "Text(0.5, 0, 'Stellar Density Histogram (kg m^-3)')"
      ]
     },
     "execution_count": 272,
     "metadata": {},
     "output_type": "execute_result"
    },
    {
     "data": {
      "image/png": "[encoded data removed]",
      "text/plain": [
       "<Figure size 432x288 with 1 Axes>"
      ]
     },
     "metadata": {
      "needs_background": "light"
     },
     "output_type": "display_data"
    }
   ],
   "source": [
    "plt.hist(rho_star, bins=20)\n",
    "plt.xlabel('Stellar Density Histogram (kg m^-3)', fontsize=20)"
   ]
  },
  {
   "cell_type": "markdown",
   "metadata": {},
   "source": [
    "# Creating a fake light curve based on a real planet"
   ]
  },
  {
   "cell_type": "markdown",
   "metadata": {},
   "source": [
    "I'm pulling the planet parameters of Kepler-1582 b from the exoplanet archive using `ph.planet_params_from_archive()`. This will give me the published period, Rp/Rs, and inclination constraints of this planet. (It will also return some other parameters, but we don't need those right now).\n",
    "\n",
    "I'm calculating a/Rs using `ph.calc_a()`, instead of using the a/Rs constraint from the Exoplanet Archive. The reason is because a/Rs must be consistent with the density calculated above from spectroscopy/Gaia for the photoeccentric effect to work correctly, and the published a/Rs is often inconsistent. a/Rs depends on the orbital period, Mstar, and Rstar."
   ]
  },
  {
   "cell_type": "code",
   "execution_count": 273,
   "metadata": {},
   "outputs": [
    {
     "name": "stdout",
     "output_type": "stream",
     "text": [
      "Stellar mass (Msun):  0.17438311970562165 Stellar radius (Rsun):  0.19884797856314\n",
      "Period (Days):  4.83809469 Rp/Rs:  0.036066\n",
      "a/Rs:  33.79155851141583\n",
      "i (deg):  89.98\n"
     ]
    }
   ],
   "source": [
    "period, period_uerr, period_lerr, rprs, rprs_uerr, rprs_lerr, a_arc, a_uerr_arc, a_lerr_arc, i, e_arc, w_arc = ph.planet_params_from_archive(spectplanets, kepname)\n",
    "\n",
    "# We calculate a_rs to ensure that it's consistent with the spec/Gaia stellar density.\n",
    "a_rs = ph.calc_a(period*86400.0, mstar*smass_kg, rstar*srad_m)\n",
    "a_rs_err = np.mean((a_uerr_arc, a_lerr_arc))\n",
    "\n",
    "print('Stellar mass (Msun): ', mstar, 'Stellar radius (Rsun): ', rstar)\n",
    "print('Period (Days): ', period, 'Rp/Rs: ', rprs)\n",
    "print('a/Rs: ', a_rs)\n",
    "print('i (deg): ', i)"
   ]
  },
  {
   "cell_type": "markdown",
   "metadata": {},
   "source": [
    "Now, I'll create a fake transit using `batman`.\n",
    "I'm creating a model with the period, Rp/Rs, a/Rs, and inclination specified by the Kepler catalog entry and the density constraints.\n",
    "\n",
    "I'll create the transit model with an $e$ and $w$ of my choice. This will allow me to test whether `photoeccentric` accurately recovers the $(e,w)$ combination I have input. I'll start with $e = 0.0$ and $w = 90.0$ degrees."
   ]
  },
  {
   "cell_type": "markdown",
   "metadata": {},
   "source": [
    "## $e = 0.0$, $\\omega = 90.0$"
   ]
  },
  {
   "cell_type": "code",
   "execution_count": 274,
   "metadata": {},
   "outputs": [],
   "source": [
    "# 30 minute cadence\n",
    "cadence = 0.02142857142857143\n",
    "\n",
    "time = np.arange(-25, 25, cadence)"
   ]
  },
  {
   "cell_type": "markdown",
   "metadata": {},
   "source": [
    "The function `ph.integrate_lcfitter()` evaluates flux at every minute, than sums over every 30 minutes to simultae the Kepler integration time."
   ]
  },
  {
   "cell_type": "code",
   "execution_count": 275,
   "metadata": {},
   "outputs": [],
   "source": [
    "# Calculate flux from transit model\n",
    "e = 0.0\n",
    "w = 90.0\n",
    "flux = ph.integratedlc(time, period, rprs, a_rs, 0.0, i, 90.0)\n",
    "\n",
    "# Adding some gaussian noise\n",
    "noise = np.random.normal(0,0.00006,len(time))\n",
    "nflux = flux+noise\n",
    "\n",
    "flux_err = np.array([0.00006]*len(nflux))"
   ]
  },
  {
   "cell_type": "code",
   "execution_count": 276,
   "metadata": {},
   "outputs": [
    {
     "data": {
      "text/plain": [
       "Text(0, 0.5, 'Flux')"
      ]
     },
     "execution_count": 276,
     "metadata": {},
     "output_type": "execute_result"
    },
    {
     "data": {
      "image/png": "[encoded data removed]",
      "text/plain": [
       "<Figure size 432x288 with 1 Axes>"
      ]
     },
     "metadata": {
      "needs_background": "light"
     },
     "output_type": "display_data"
    }
   ],
   "source": [
    "plt.errorbar(time, nflux, yerr=flux_err)\n",
    "plt.xlabel('Time')\n",
    "plt.ylabel('Flux')\n",
    "#plt.xlim(-1, 1)"
   ]
  },
  {
   "cell_type": "markdown",
   "metadata": {},
   "source": [
    "## Fitting the transit"
   ]
  },
  {
   "cell_type": "markdown",
   "metadata": {},
   "source": [
    "I'm using the Astropy BLS method to determine the period of the fake light curve. I'll use the power spectrum to create a PDF of the possible periods for this planet. I'm fitting the period and the other planet parameters separately."
   ]
  },
  {
   "cell_type": "code",
   "execution_count": 277,
   "metadata": {},
   "outputs": [],
   "source": [
    "periodPDF = ph.get_period_dist(time, nflux, 4, 6, arrlen)"
   ]
  },
  {
   "cell_type": "code",
   "execution_count": 278,
   "metadata": {},
   "outputs": [
    {
     "name": "stdout",
     "output_type": "stream",
     "text": [
      "Period fit:  4.828282828282829\n"
     ]
    }
   ],
   "source": [
    "print('Period fit: ', ph.mode(periodPDF))\n",
    "pdist = periodPDF\n",
    "per_guess = ph.mode(pdist)"
   ]
  },
  {
   "cell_type": "markdown",
   "metadata": {},
   "source": [
    "Now, I'm fitting the transit shape with `emcee`. $Rp/Rs$, $a/Rs$, $i$, and $w$ are allowed to vary as free parameters. \n",
    "\n",
    "The transit fitter, `ph.planetlc_fitter`, fixes $e = 0.0$, even if the input eccentricity is not zero! This means that if e != 0, the transit fitter will fit the wrong values for $a/Rs$ and $i$ -- but they will be wrong in such a way that reveals the eccentricity of the orbit. More on that in the next section.\n",
    "\n",
    "I enter an initial guess based on what I estimate the fit parameters will be. For this one, I'll enter values pretty close to what I input."
   ]
  },
  {
   "cell_type": "code",
   "execution_count": 279,
   "metadata": {},
   "outputs": [],
   "source": [
    "ttimes = np.concatenate((-np.arange(0, time[-1], period)[1:], np.arange(0, time[-1], period)))\n",
    "ttimes = np.sort(ttimes)\n",
    "\n",
    "time1, nflux1, fluxerr1 = ph.get_transit_cutout_full(ttimes, 4, time, nflux, flux_err)"
   ]
  },
  {
   "cell_type": "code",
   "execution_count": 280,
   "metadata": {},
   "outputs": [],
   "source": [
    "mid = ph.get_mid(time1)\n",
    "ptime1 = ph.get_ptime(time1, mid, 29)"
   ]
  },
  {
   "cell_type": "code",
   "execution_count": 284,
   "metadata": {},
   "outputs": [
    {
     "name": "stderr",
     "output_type": "stream",
     "text": [
      "100%|██████████| 1000/1000 [02:56<00:00,  5.66it/s]\n"
     ]
    }
   ],
   "source": [
    "# Inital guess: period, rprs, a/Rs, i, t0\n",
    "p0 = [per_guess, rprs, 35, 89.9, 0]\n",
    "\n",
    "dr = 'e_' + str(0) + '_w_' + str(w)\n",
    "direct = 'plots_tutorial/' + dr + '/'\n",
    "\n",
    "if not os.path.exists(direct):\n",
    "    os.mkdir(direct)\n",
    "\n",
    "# EMCEE Transit Model Fitting\n",
    "_, _, pdist, rdist, adist, idist, t0dist = ph.mcmc_fitter(p0, time1, ptime1, nflux1, fluxerr1, nwalk, nsteps, ndiscard, e, w, direct)\n"
   ]
  },
  {
   "cell_type": "code",
   "execution_count": 285,
   "metadata": {},
   "outputs": [],
   "source": [
    "per_f = ph.mode(pdist)\n",
    "rprs_f = ph.mode(rdist)\n",
    "a_f = ph.mode(adist)\n",
    "i_f = ph.mode(idist)\n",
    "t0_f = ph.mode(t0dist)"
   ]
  },
  {
   "cell_type": "code",
   "execution_count": 286,
   "metadata": {},
   "outputs": [],
   "source": [
    "# Create a light curve with the fit parameters\n",
    "fit1 = ph.integratedlc_fitter(time1, per_f, rprs_f, a_f, i_f, t0_f)"
   ]
  },
  {
   "cell_type": "code",
   "execution_count": 287,
   "metadata": {},
   "outputs": [
    {
     "name": "stdout",
     "output_type": "stream",
     "text": [
      "Stellar mass (Msun):  0.17438311970562165 Stellar radius (Rsun):  0.19884797856314\n",
      "\n",
      "\n",
      "Input params:\n",
      "Rp/Rs:  0.036066\n",
      "a/Rs:  33.79155851141583\n",
      "i (deg):  89.98\n",
      "\n",
      "\n",
      "Fit params:\n",
      "Rp/Rs:  0.03616076691396665\n",
      "a/Rs:  32.92895446280659\n",
      "i (deg):  89.96829945358245\n"
     ]
    },
    {
     "data": {
      "image/png": "[encoded data removed]",
      "text/plain": [
       "<Figure size 432x288 with 1 Axes>"
      ]
     },
     "metadata": {
      "needs_background": "light"
     },
     "output_type": "display_data"
    }
   ],
   "source": [
    "plt.errorbar(time1, nflux1, yerr=fluxerr1, c='blue', alpha=0.5, label='Original LC')\n",
    "plt.plot(time1, fit1, c='red', alpha=1.0, label='Fit LC')\n",
    "#plt.xlim(-0.1, 0.1)\n",
    "plt.legend()\n",
    "\n",
    "print('Stellar mass (Msun): ', mstar, 'Stellar radius (Rsun): ', rstar)\n",
    "\n",
    "print('\\n')\n",
    "\n",
    "print('Input params:')\n",
    "print('Rp/Rs: ', rprs)\n",
    "print('a/Rs: ', a_rs)\n",
    "print('i (deg): ', i)\n",
    "\n",
    "print('\\n')\n",
    "\n",
    "print('Fit params:')\n",
    "print('Rp/Rs: ', rprs_f)\n",
    "print('a/Rs: ', a_f)\n",
    "print('i (deg): ', i_f)"
   ]
  },
  {
   "cell_type": "markdown",
   "metadata": {},
   "source": [
    "### Determining T14 and T23"
   ]
  },
  {
   "cell_type": "markdown",
   "metadata": {},
   "source": [
    "A crucial step to determining the $(e, w)$ distribution from the transit is calculating the total and full transit durations. T14 is the total transit duration (the time between first and fourth contact). T23 is the full transit duration (i.e. the time during which the entire planet disk is in front of the star, the time between second and third contact.)\n",
    "\n",
    "\n",
    "Here, I'm using equations 14 and 15 from [this textbook](https://sites.astro.caltech.edu/~lah/review/transits_occultations.winn.pdf). We calculate T14 and T23 assuming the orbit must be circular, and using the fit parameters assuming the orbit is circular. (If the orbit is not circular, T14 and T23 will not be correct -- but this is what we want, because they will differ from the true T14 and T23 in a way that reveals the eccentricity of the orbit.)"
   ]
  },
  {
   "cell_type": "code",
   "execution_count": 288,
   "metadata": {},
   "outputs": [],
   "source": [
    "T14dist = ph.get_T14(pdist, rdist, adist, idist)\n",
    "T14errs = ph.get_sigmas(T14dist)\n",
    "\n",
    "T23dist = ph.get_T23(pdist, rdist, adist, idist)\n",
    "T23errs = ph.get_sigmas(T23dist)"
   ]
  },
  {
   "cell_type": "markdown",
   "metadata": {},
   "source": [
    "# Get $g$"
   ]
  },
  {
   "attachments": {
    "image.png": {
     "image/png": "[encoded data removed]"
    }
   },
   "cell_type": "markdown",
   "metadata": {},
   "source": [
    "Finally, we can use all the values above to determine $\\rho_{circ}$. $\\rho_{circ}$ is what we would calculate the stellar density to be if we knew that the orbit was definitely perfectly circular. We  will compare $\\rho_{circ}$ to $\\rho_{star}$ (the true, observed stellar density we calculated from spectroscopy/Gaia), and get $g(e, w)$:\n",
    "![image.png](attachment:image.png)"
   ]
  },
  {
   "attachments": {
    "image.png": {
     "image/png": "[encoded data removed]"
    }
   },
   "cell_type": "markdown",
   "metadata": {},
   "source": [
    "which is also defined as ![image.png](attachment:image.png)"
   ]
  },
  {
   "cell_type": "markdown",
   "metadata": {},
   "source": [
    "Thus, if the orbit is circular $(e = 0)$, then $g$ should equal 1. If the orbit is not circular $(e != 0)$, then $\\rho_{circ}$ should differ from $\\rho_{star}$, and $g$ should be something other than 1. We can draw a $(e, w)$ distribution based on the value we calcaulte for $g(e,w)$!"
   ]
  },
  {
   "cell_type": "markdown",
   "metadata": {},
   "source": [
    "`ph.get_g_distribution()` will help us determine the value of g. This function takes the observed $\\rho_{star}$ as well as the fit (circular) transit parameters and calculated transit durations, and calculates $\\rho_{circ}$ and $g(e,w)$ based on equations 6 and 7 in [Dawson & Johnson 2012](https://arxiv.org/pdf/1203.5537.pdf)."
   ]
  },
  {
   "cell_type": "code",
   "execution_count": 289,
   "metadata": {},
   "outputs": [],
   "source": [
    "gs, rho_c = ph.get_g_distribution(rho_star, pdist, rdist, T14dist, T23dist)\n",
    "\n",
    "g_mean = ph.mode(gs)\n",
    "g_sigma = np.mean(np.abs(ph.get_sigmas(gs)))"
   ]
  },
  {
   "cell_type": "markdown",
   "metadata": {},
   "source": [
    "Print $g$ and $\\sigma_{g}$:"
   ]
  },
  {
   "cell_type": "code",
   "execution_count": 290,
   "metadata": {},
   "outputs": [
    {
     "data": {
      "text/plain": [
       "0.9163403993813932"
      ]
     },
     "execution_count": 290,
     "metadata": {},
     "output_type": "execute_result"
    }
   ],
   "source": [
    "g_mean"
   ]
  },
  {
   "cell_type": "code",
   "execution_count": 291,
   "metadata": {},
   "outputs": [
    {
     "data": {
      "text/plain": [
       "0.14869388939037925"
      ]
     },
     "execution_count": 291,
     "metadata": {},
     "output_type": "execute_result"
    }
   ],
   "source": [
    "g_sigma"
   ]
  },
  {
   "cell_type": "markdown",
   "metadata": {},
   "source": [
    "The mean of $g$ is about 1.0, which means that $\\rho_{circ}$ agrees with $\\rho_{star}$ and the eccentricity of this transit must be zero, which is exactly what we input! We can take $g$ and $\\sigma_{g}$ and use MCMC (`emcee`) to determine the surface of most likely $(e,w)$.\n",
    "\n",
    "`photoeccentric` has the probability function for $(e,w)$ from $g$ built in to `ph.log_probability()`."
   ]
  },
  {
   "cell_type": "code",
   "execution_count": 292,
   "metadata": {},
   "outputs": [],
   "source": [
    "#Guesses\n",
    "w_guess = 0.0\n",
    "e_guess = 0.0\n",
    "\n",
    "solnx = (w_guess, e_guess)\n",
    "pos = solnx + 1e-4 * np.random.randn(32, 2)\n",
    "nwalkers, ndim = pos.shape"
   ]
  },
  {
   "cell_type": "code",
   "execution_count": 293,
   "metadata": {
    "scrolled": true
   },
   "outputs": [
    {
     "name": "stderr",
     "output_type": "stream",
     "text": [
      "  0%|          | 0/5000 [00:00<?, ?it/s]/Users/ssagear/anaconda3/lib/python3.8/site-packages/emcee/moves/red_blue.py:99: RuntimeWarning: invalid value encountered in double_scalars\n",
      "  lnpdiff = f + nlp - state.log_prob[j]\n",
      "100%|██████████| 5000/5000 [00:05<00:00, 840.26it/s]\n"
     ]
    }
   ],
   "source": [
    "sampler = emcee.EnsembleSampler(nwalkers, ndim, ph.bprior_log_probability, args=(g_mean, g_sigma), threads=4)\n",
    "sampler.run_mcmc(pos, 5000, progress=True);"
   ]
  },
  {
   "cell_type": "code",
   "execution_count": 294,
   "metadata": {},
   "outputs": [
    {
     "data": {
      "image/png": "[encoded data removed]",
      "text/plain": [
       "<Figure size 396x396 with 4 Axes>"
      ]
     },
     "metadata": {
      "needs_background": "light"
     },
     "output_type": "display_data"
    }
   ],
   "source": [
    "labels = [\"w\", \"e\"]\n",
    "\n",
    "flat_samples = sampler.get_chain(discard=100, thin=15, flat=True)\n",
    "fig = corner.corner(flat_samples, labels=labels, title_kwargs={\"fontsize\": 12}, truths=[w, e], plot_contours=True)"
   ]
  },
  {
   "cell_type": "code",
   "execution_count": 295,
   "metadata": {},
   "outputs": [
    {
     "data": {
      "text/plain": [
       "Text(0.5, 0, 'e')"
      ]
     },
     "execution_count": 295,
     "metadata": {},
     "output_type": "execute_result"
    },
    {
     "data": {
      "image/png": "[encoded data removed]",
      "text/plain": [
       "<Figure size 432x288 with 1 Axes>"
      ]
     },
     "metadata": {
      "needs_background": "light"
     },
     "output_type": "display_data"
    }
   ],
   "source": [
    "plt.hist(flat_samples[:,1])\n",
    "plt.xlim(0,1)\n",
    "plt.xlabel('e')"
   ]
  },
  {
   "cell_type": "markdown",
   "metadata": {},
   "source": [
    "And here is the corner plot for the most likely values of $(e, w)$ that correspond to $g = 1$. The $e$ distribution peaks at 0!"
   ]
  },
  {
   "cell_type": "markdown",
   "metadata": {},
   "source": [
    "# $e=0.9$, $w=-90.0$"
   ]
  },
  {
   "cell_type": "code",
   "execution_count": 296,
   "metadata": {},
   "outputs": [],
   "source": [
    "time = np.arange(-25, 25, cadence)"
   ]
  },
  {
   "cell_type": "code",
   "execution_count": 297,
   "metadata": {},
   "outputs": [],
   "source": [
    "# Calculate flux from transit model\n",
    "e = 0.9\n",
    "w = -90.0\n",
    "flux = ph.integratedlc(time, period, rprs, a_rs, 0.9, i, -90.0)\n",
    "\n",
    "# Adding some gaussian noise\n",
    "noise = np.random.normal(0,0.00006,len(time))\n",
    "nflux = flux+noise\n",
    "\n",
    "flux_err = np.array([0.00006]*len(nflux))"
   ]
  },
  {
   "cell_type": "markdown",
   "metadata": {},
   "source": [
    "## Fitting the transit"
   ]
  },
  {
   "cell_type": "markdown",
   "metadata": {},
   "source": [
    "Using astropy BLS:"
   ]
  },
  {
   "cell_type": "code",
   "execution_count": 298,
   "metadata": {},
   "outputs": [],
   "source": [
    "periodPDF = ph.get_period_dist(time, nflux, 4, 6, arrlen)"
   ]
  },
  {
   "cell_type": "code",
   "execution_count": 299,
   "metadata": {
    "scrolled": true
   },
   "outputs": [
    {
     "name": "stdout",
     "output_type": "stream",
     "text": [
      "Period fit:  4.828282828282829\n"
     ]
    }
   ],
   "source": [
    "print('Period fit: ', ph.mode(periodPDF))\n",
    "pdist = periodPDF"
   ]
  },
  {
   "cell_type": "code",
   "execution_count": 300,
   "metadata": {},
   "outputs": [],
   "source": [
    "ttimes = np.concatenate((-np.arange(0, time[-1], period)[1:], np.arange(0, time[-1], period)))\n",
    "ttimes = np.sort(ttimes)\n",
    "\n",
    "time1, nflux1, fluxerr1 = ph.get_transit_cutout_full(ttimes, 4, time, nflux, flux_err)"
   ]
  },
  {
   "cell_type": "code",
   "execution_count": 301,
   "metadata": {},
   "outputs": [],
   "source": [
    "mid = ph.get_mid(time1)\n",
    "ptime1 = ph.get_ptime(time1, mid, 29)"
   ]
  },
  {
   "cell_type": "code",
   "execution_count": 302,
   "metadata": {},
   "outputs": [
    {
     "name": "stderr",
     "output_type": "stream",
     "text": [
      "100%|██████████| 1000/1000 [03:06<00:00,  5.37it/s]\n"
     ]
    }
   ],
   "source": [
    "# Inital guess: period, rprs, a/Rs, i, w\n",
    "p0 = [per_guess, rprs, 45, 89.9, 0.0]\n",
    "\n",
    "dr = 'e_' + str(0) + '_w_' + str(w)\n",
    "direct = 'plots_tutorial/' + dr + '/'\n",
    "\n",
    "if not os.path.exists(direct):\n",
    "    os.mkdir(direct)\n",
    "\n",
    "# EMCEE Transit Model Fitting\n",
    "_, _, pdist, rdist, adist, idist, t0dist = ph.mcmc_fitter(p0, time1, ptime1, nflux1, fluxerr1, nwalk, nsteps, ndiscard, e, w, direct)\n",
    "\n"
   ]
  },
  {
   "cell_type": "code",
   "execution_count": 303,
   "metadata": {},
   "outputs": [],
   "source": [
    "per_f = ph.mode(pdist)\n",
    "rprs_f = ph.mode(rdist)\n",
    "a_f = ph.mode(adist)\n",
    "i_f = ph.mode(idist)\n",
    "t0_f = ph.mode(t0dist)"
   ]
  },
  {
   "cell_type": "code",
   "execution_count": 304,
   "metadata": {},
   "outputs": [],
   "source": [
    "# Create a light curve with the fit parameters\n",
    "fit1 = ph.integratedlc_fitter(time1, per_f, rprs_f, a_f, i_f, t0_f)"
   ]
  },
  {
   "cell_type": "code",
   "execution_count": 305,
   "metadata": {},
   "outputs": [
    {
     "name": "stdout",
     "output_type": "stream",
     "text": [
      "Stellar mass (Msun):  0.17438311970562165 Stellar radius (Rsun):  0.19884797856314\n",
      "\n",
      "\n",
      "Input params:\n",
      "Rp/Rs:  0.036066\n",
      "a/Rs:  33.79155851141583\n",
      "i (deg):  89.98\n",
      "\n",
      "\n",
      "Fit params:\n",
      "Rp/Rs:  0.03630156472145815\n",
      "a/Rs:  7.792254993353966\n",
      "i (deg):  87.63058365535537\n"
     ]
    },
    {
     "data": {
      "image/png": "[encoded data removed]",
      "text/plain": [
       "<Figure size 432x288 with 1 Axes>"
      ]
     },
     "metadata": {
      "needs_background": "light"
     },
     "output_type": "display_data"
    }
   ],
   "source": [
    "plt.errorbar(time1, nflux1, yerr=fluxerr1, c='blue', alpha=0.5, label='Original LC')\n",
    "plt.plot(time1, fit1, c='red', alpha=1.0, label='Fit LC')\n",
    "#plt.xlim(-0.1, 0.1)\n",
    "plt.legend()\n",
    "\n",
    "print('Stellar mass (Msun): ', mstar, 'Stellar radius (Rsun): ', rstar)\n",
    "\n",
    "print('\\n')\n",
    "\n",
    "print('Input params:')\n",
    "print('Rp/Rs: ', rprs)\n",
    "print('a/Rs: ', a_rs)\n",
    "print('i (deg): ', i)\n",
    "\n",
    "print('\\n')\n",
    "\n",
    "print('Fit params:')\n",
    "print('Rp/Rs: ', rprs_f)\n",
    "print('a/Rs: ', a_f)\n",
    "print('i (deg): ', i_f)"
   ]
  },
  {
   "cell_type": "code",
   "execution_count": 306,
   "metadata": {},
   "outputs": [],
   "source": [
    "T14dist = ph.get_T14(pdist, rdist, adist, idist)\n",
    "T14errs = ph.get_sigmas(T14dist)\n",
    "\n",
    "T23dist = ph.get_T23(pdist, rdist, adist, idist)\n",
    "T23errs = ph.get_sigmas(T23dist)"
   ]
  },
  {
   "cell_type": "code",
   "execution_count": 307,
   "metadata": {},
   "outputs": [],
   "source": [
    "gs, rho_c = ph.get_g_distribution(rho_star, pdist, rdist, T14dist, T23dist)\n",
    "\n",
    "g_mean = ph.mode(gs)\n",
    "g_sigma = np.mean(np.abs(ph.get_sigmas(gs)))"
   ]
  },
  {
   "cell_type": "markdown",
   "metadata": {},
   "source": [
    "Print $g$ and $\\sigma_{g}$:"
   ]
  },
  {
   "cell_type": "code",
   "execution_count": 308,
   "metadata": {},
   "outputs": [
    {
     "data": {
      "text/plain": [
       "0.22411516920460312"
      ]
     },
     "execution_count": 308,
     "metadata": {},
     "output_type": "execute_result"
    }
   ],
   "source": [
    "g_mean"
   ]
  },
  {
   "cell_type": "code",
   "execution_count": 309,
   "metadata": {},
   "outputs": [
    {
     "data": {
      "text/plain": [
       "0.026465965290750806"
      ]
     },
     "execution_count": 309,
     "metadata": {},
     "output_type": "execute_result"
    }
   ],
   "source": [
    "g_sigma"
   ]
  },
  {
   "cell_type": "code",
   "execution_count": 310,
   "metadata": {},
   "outputs": [],
   "source": [
    "#Guesses\n",
    "w_guess = 0.0\n",
    "e_guess = 0.0\n",
    "\n",
    "solnx = (w_guess, e_guess)\n",
    "pos = solnx + 1e-4 * np.random.randn(32, 2)\n",
    "nwalkers, ndim = pos.shape"
   ]
  },
  {
   "cell_type": "code",
   "execution_count": 311,
   "metadata": {
    "scrolled": true
   },
   "outputs": [
    {
     "name": "stderr",
     "output_type": "stream",
     "text": [
      "  0%|          | 0/5000 [00:00<?, ?it/s]/Users/ssagear/anaconda3/lib/python3.8/site-packages/emcee/moves/red_blue.py:99: RuntimeWarning: invalid value encountered in double_scalars\n",
      "  lnpdiff = f + nlp - state.log_prob[j]\n",
      "100%|██████████| 5000/5000 [00:06<00:00, 795.68it/s]\n"
     ]
    }
   ],
   "source": [
    "sampler = emcee.EnsembleSampler(nwalkers, ndim, ph.bprior_log_probability, args=(g_mean, g_sigma), threads=4)\n",
    "sampler.run_mcmc(pos, 5000, progress=True);"
   ]
  },
  {
   "cell_type": "code",
   "execution_count": 312,
   "metadata": {},
   "outputs": [
    {
     "data": {
      "image/png": "[encoded data removed]",
      "text/plain": [
       "<Figure size 396x396 with 4 Axes>"
      ]
     },
     "metadata": {
      "needs_background": "light"
     },
     "output_type": "display_data"
    }
   ],
   "source": [
    "labels = [\"w\", \"e\"]\n",
    "\n",
    "flat_samples = sampler.get_chain(discard=100, thin=15, flat=True)\n",
    "fig = corner.corner(flat_samples, labels=labels, show_titles=True, title_kwargs={\"fontsize\": 12}, truths=[90.0, 0.3], quantiles=[0.16, 0.5, 0.84], plot_contours=True)"
   ]
  },
  {
   "cell_type": "markdown",
   "metadata": {},
   "source": [
    "# $e=0.0$, $w=90.0$"
   ]
  },
  {
   "cell_type": "code",
   "execution_count": 313,
   "metadata": {},
   "outputs": [],
   "source": [
    "time = np.arange(-25, 25, cadence)"
   ]
  },
  {
   "cell_type": "code",
   "execution_count": 314,
   "metadata": {},
   "outputs": [],
   "source": [
    "# Calculate flux from transit model\n",
    "e = 0.0\n",
    "w = 90.0\n",
    "flux = ph.integratedlc(time, period, rprs, a_rs, 0.0, i, 90.0)\n",
    "\n",
    "# Adding some gaussian noise\n",
    "noise = np.random.normal(0,0.00006,len(time))\n",
    "nflux = flux+noise\n",
    "\n",
    "flux_err = np.array([0.00006]*len(nflux))"
   ]
  },
  {
   "cell_type": "markdown",
   "metadata": {},
   "source": [
    "## Fitting the transit"
   ]
  },
  {
   "cell_type": "code",
   "execution_count": 315,
   "metadata": {},
   "outputs": [],
   "source": [
    "periodPDF = ph.get_period_dist(time, nflux, 4, 6, arrlen)"
   ]
  },
  {
   "cell_type": "code",
   "execution_count": 316,
   "metadata": {},
   "outputs": [
    {
     "name": "stdout",
     "output_type": "stream",
     "text": [
      "Period fit:  4.828282828282829\n"
     ]
    }
   ],
   "source": [
    "print('Period fit: ', ph.mode(periodPDF))\n",
    "pdist = periodPDF"
   ]
  },
  {
   "cell_type": "code",
   "execution_count": 317,
   "metadata": {},
   "outputs": [],
   "source": [
    "ttimes = np.concatenate((-np.arange(0, time[-1], period)[1:], np.arange(0, time[-1], period)))\n",
    "ttimes = np.sort(ttimes)\n",
    "\n",
    "time1, nflux1, fluxerr1 = ph.get_transit_cutout_full(ttimes, 4, time, nflux, flux_err)"
   ]
  },
  {
   "cell_type": "code",
   "execution_count": 318,
   "metadata": {},
   "outputs": [],
   "source": [
    "mid = ph.get_mid(time1)\n",
    "ptime1 = ph.get_ptime(time1, mid, 29)"
   ]
  },
  {
   "cell_type": "code",
   "execution_count": 319,
   "metadata": {},
   "outputs": [
    {
     "name": "stderr",
     "output_type": "stream",
     "text": [
      "100%|██████████| 1000/1000 [02:57<00:00,  5.64it/s]\n"
     ]
    }
   ],
   "source": [
    "# Inital guess: period, rprs, a/Rs, i, w\n",
    "p0 = [per_guess, rprs, 45, 89.9, 0.0]\n",
    "\n",
    "dr = 'e_' + str(0) + '_w_' + str(w)\n",
    "direct = 'plots_tutorial/' + dr + '/'\n",
    "\n",
    "if not os.path.exists(direct):\n",
    "    os.mkdir(direct)\n",
    "\n",
    "# EMCEE Transit Model Fitting\n",
    "_, _, pdist, rdist, adist, idist, t0dist = ph.mcmc_fitter(p0, time1, ptime1, nflux1, fluxerr1, nwalk, nsteps, ndiscard, e, w, direct)\n",
    "\n"
   ]
  },
  {
   "cell_type": "code",
   "execution_count": 320,
   "metadata": {},
   "outputs": [],
   "source": [
    "per_f = ph.mode(pdist)\n",
    "rprs_f = ph.mode(rdist)\n",
    "a_f = ph.mode(adist)\n",
    "i_f = ph.mode(idist)\n",
    "t0_f = ph.mode(t0dist)"
   ]
  },
  {
   "cell_type": "code",
   "execution_count": 321,
   "metadata": {},
   "outputs": [],
   "source": [
    "# Create a light curve with the fit parameters\n",
    "fit1 = ph.integratedlc_fitter(time1, per_f, rprs_f, a_f, i_f, t0_f)"
   ]
  },
  {
   "cell_type": "code",
   "execution_count": 322,
   "metadata": {},
   "outputs": [
    {
     "name": "stdout",
     "output_type": "stream",
     "text": [
      "Stellar mass (Msun):  0.17438311970562165 Stellar radius (Rsun):  0.19884797856314\n",
      "\n",
      "\n",
      "Input params:\n",
      "Rp/Rs:  0.036066\n",
      "a/Rs:  33.79155851141583\n",
      "i (deg):  89.98\n",
      "t0: 0\n",
      "\n",
      "\n",
      "Fit params:\n",
      "Rp/Rs:  0.03609853221463932\n",
      "a/Rs:  33.48345751556381\n",
      "i (deg):  89.97218168737584\n",
      "t0:  -0.00034447345478745355\n"
     ]
    },
    {
     "data": {
      "image/png": "[encoded data removed]",
      "text/plain": [
       "<Figure size 432x288 with 1 Axes>"
      ]
     },
     "metadata": {
      "needs_background": "light"
     },
     "output_type": "display_data"
    }
   ],
   "source": [
    "plt.errorbar(time1, nflux1, yerr=fluxerr1, c='blue', alpha=0.5, label='Original LC')\n",
    "plt.plot(time1, fit1, c='red', alpha=1.0, label='Fit LC')\n",
    "#plt.xlim(-0.1, 0.1)\n",
    "plt.legend()\n",
    "\n",
    "print('Stellar mass (Msun): ', mstar, 'Stellar radius (Rsun): ', rstar)\n",
    "\n",
    "print('\\n')\n",
    "\n",
    "print('Input params:')\n",
    "print('Rp/Rs: ', rprs)\n",
    "print('a/Rs: ', a_rs)\n",
    "print('i (deg): ', i)\n",
    "print('t0: 0')\n",
    "\n",
    "print('\\n')\n",
    "\n",
    "print('Fit params:')\n",
    "print('Rp/Rs: ', rprs_f)\n",
    "print('a/Rs: ', a_f)\n",
    "print('i (deg): ', i_f)\n",
    "print('t0: ', t0_f)"
   ]
  },
  {
   "cell_type": "code",
   "execution_count": 323,
   "metadata": {},
   "outputs": [],
   "source": [
    "T14dist = ph.get_T14(pdist, rdist, adist, idist)\n",
    "T14errs = ph.get_sigmas(T14dist)\n",
    "\n",
    "T23dist = ph.get_T23(pdist, rdist, adist, idist)\n",
    "T23errs = ph.get_sigmas(T23dist)"
   ]
  },
  {
   "cell_type": "code",
   "execution_count": 324,
   "metadata": {},
   "outputs": [],
   "source": [
    "gs, rho_c = ph.get_g_distribution(rho_star, pdist, rdist, T14dist, T23dist)\n",
    "\n",
    "g_mean = ph.mode(gs)\n",
    "g_sigma = np.mean(np.abs(ph.get_sigmas(gs)))"
   ]
  },
  {
   "cell_type": "markdown",
   "metadata": {},
   "source": [
    "Print $g$ and $\\sigma_{g}$:"
   ]
  },
  {
   "cell_type": "code",
   "execution_count": 325,
   "metadata": {},
   "outputs": [
    {
     "data": {
      "text/plain": [
       "0.9094024758117458"
      ]
     },
     "execution_count": 325,
     "metadata": {},
     "output_type": "execute_result"
    }
   ],
   "source": [
    "g_mean"
   ]
  },
  {
   "cell_type": "code",
   "execution_count": 326,
   "metadata": {},
   "outputs": [
    {
     "data": {
      "text/plain": [
       "0.14177028735674002"
      ]
     },
     "execution_count": 326,
     "metadata": {},
     "output_type": "execute_result"
    }
   ],
   "source": [
    "g_sigma"
   ]
  },
  {
   "cell_type": "code",
   "execution_count": 327,
   "metadata": {},
   "outputs": [],
   "source": [
    "#Guesses\n",
    "w_guess = 0.0\n",
    "e_guess = 0.0\n",
    "\n",
    "solnx = (w_guess, e_guess)\n",
    "pos = solnx + 1e-4 * np.random.randn(32, 2)\n",
    "nwalkers, ndim = pos.shape"
   ]
  },
  {
   "cell_type": "code",
   "execution_count": 328,
   "metadata": {
    "scrolled": true
   },
   "outputs": [
    {
     "name": "stderr",
     "output_type": "stream",
     "text": [
      "  0%|          | 0/5000 [00:00<?, ?it/s]/Users/ssagear/anaconda3/lib/python3.8/site-packages/emcee/moves/red_blue.py:99: RuntimeWarning: invalid value encountered in double_scalars\n",
      "  lnpdiff = f + nlp - state.log_prob[j]\n",
      "100%|██████████| 5000/5000 [00:05<00:00, 870.15it/s]\n"
     ]
    }
   ],
   "source": [
    "sampler = emcee.EnsembleSampler(nwalkers, ndim, ph.bprior_log_probability, args=(g_mean, g_sigma), threads=4)\n",
    "sampler.run_mcmc(pos, 5000, progress=True);"
   ]
  },
  {
   "cell_type": "code",
   "execution_count": 329,
   "metadata": {},
   "outputs": [
    {
     "data": {
      "image/png": "[encoded data removed]",
      "text/plain": [
       "<Figure size 396x396 with 4 Axes>"
      ]
     },
     "metadata": {
      "needs_background": "light"
     },
     "output_type": "display_data"
    }
   ],
   "source": [
    "labels = [\"w\", \"e\"]\n",
    "\n",
    "flat_samples = sampler.get_chain(discard=100, thin=15, flat=True)\n",
    "fig = corner.corner(flat_samples, labels=labels, show_titles=True, title_kwargs={\"fontsize\": 12}, truths=[w, e], quantiles=[0.16, 0.5, 0.84], plot_contours=True)"
   ]
  },
  {
   "cell_type": "code",
   "execution_count": null,
   "metadata": {},
   "outputs": [],
   "source": []
  },
  {
   "cell_type": "code",
   "execution_count": null,
   "metadata": {},
   "outputs": [],
   "source": []
  },
  {
   "cell_type": "code",
   "execution_count": null,
   "metadata": {},
   "outputs": [],
   "source": []
  },
  {
   "cell_type": "code",
   "execution_count": null,
   "metadata": {},
   "outputs": [],
   "source": []
  },
  {
   "cell_type": "code",
   "execution_count": null,
   "metadata": {},
   "outputs": [],
   "source": []
  },
  {
   "cell_type": "code",
   "execution_count": null,
   "metadata": {},
   "outputs": [],
   "source": []
  },
  {
   "cell_type": "code",
   "execution_count": null,
   "metadata": {},
   "outputs": [],
   "source": []
  },
  {
   "cell_type": "code",
   "execution_count": null,
   "metadata": {},
   "outputs": [],
   "source": []
  },
  {
   "cell_type": "code",
   "execution_count": null,
   "metadata": {},
   "outputs": [],
   "source": []
  }
 ],
 "metadata": {
  "kernelspec": {
   "display_name": "Python 3",
   "language": "python",
   "name": "python3"
  },
  "language_info": {
   "codemirror_mode": {
    "name": "ipython",
    "version": 3
   },
   "file_extension": ".py",
   "mimetype": "text/x-python",
   "name": "python",
   "nbconvert_exporter": "python",
   "pygments_lexer": "ipython3",
   "version": "3.8.5"
  }
 },
 "nbformat": 4,
 "nbformat_minor": 4
}
