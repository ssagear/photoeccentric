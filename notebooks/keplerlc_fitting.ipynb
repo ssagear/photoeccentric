{
 "cells": [
  {
   "cell_type": "markdown",
   "metadata": {},
   "source": [
    "# fitting real Kepler light curves"
   ]
  },
  {
   "cell_type": "code",
   "execution_count": 1,
   "metadata": {},
   "outputs": [],
   "source": [
    "import numpy as np\n",
    "import matplotlib.pyplot as plt\n",
    "import pandas as pd\n",
    "from tqdm import tqdm\n",
    "from astropy.table import Table\n",
    "import astropy.units as u\n",
    "import scipy\n",
    "from scipy import signal\n",
    "\n",
    "\n",
    "from astropy.io import fits\n",
    "\n",
    "# Using astropy BLS and scipy curve_fit to fit transit\n",
    "from astropy.timeseries import BoxLeastSquares\n",
    "from scipy.optimize import curve_fit\n",
    "\n",
    "import scipy.optimize as opt\n",
    "\n",
    "# Using emcee & corner to find and plot (e, w) distribution\n",
    "import emcee\n",
    "import corner\n",
    "\n",
    "# And importing `photoeccentric`\n",
    "import photoeccentric as ph\n",
    "\n",
    "# Random stuff\n",
    "import scipy.constants as c\n",
    "import os\n",
    "\n",
    "%load_ext autoreload\n",
    "%autoreload 2\n",
    "\n",
    "%matplotlib inline\n",
    "\n",
    "plt.rcParams['figure.figsize'] = [12, 8]"
   ]
  },
  {
   "cell_type": "code",
   "execution_count": 2,
   "metadata": {},
   "outputs": [],
   "source": [
    "nwalk = 64\n",
    "nsteps_d = 1500\n",
    "ndiscard_d = 1000\n",
    "arrlen = (nsteps_d-ndiscard_d)*nwalk"
   ]
  },
  {
   "cell_type": "code",
   "execution_count": 3,
   "metadata": {},
   "outputs": [],
   "source": [
    "smass_kg = 1.9885e30  # Solar mass (kg)\n",
    "srad_m = 696.34e6 # Solar radius (m)"
   ]
  },
  {
   "cell_type": "markdown",
   "metadata": {},
   "source": [
    "## Reading in Sample Data"
   ]
  },
  {
   "cell_type": "code",
   "execution_count": 6,
   "metadata": {},
   "outputs": [],
   "source": [
    "spectplanets = pd.read_csv('datafiles2/spectplanets.csv')\n",
    "muirhead_comb = pd.read_csv('datafiles2/muirhead_comb.csv')\n",
    "muirhead_comb_lums = pd.read_csv('datafiles2/muirhead_comb_lums.csv')\n",
    "muirhead_lamost = pd.read_csv('datafiles2/muirhead_lamost.csv')"
   ]
  },
  {
   "cell_type": "code",
   "execution_count": 7,
   "metadata": {},
   "outputs": [],
   "source": [
    "KICs = np.sort(np.unique(np.array(muirhead_comb['KIC'])))\n",
    "KOIs = np.sort(np.unique(np.array(muirhead_comb['KOI'])))"
   ]
  },
  {
   "cell_type": "code",
   "execution_count": 8,
   "metadata": {},
   "outputs": [],
   "source": [
    "strkois = [str(i) for i in KOIs]"
   ]
  },
  {
   "cell_type": "code",
   "execution_count": 9,
   "metadata": {},
   "outputs": [],
   "source": [
    "strkois = ['KOI ' + i for i in strkois]"
   ]
  },
  {
   "cell_type": "code",
   "execution_count": 10,
   "metadata": {},
   "outputs": [],
   "source": [
    "# Some of these are false positives, e.g. KOI 961\n",
    "\n",
    "# KOIs"
   ]
  },
  {
   "cell_type": "code",
   "execution_count": 11,
   "metadata": {},
   "outputs": [],
   "source": [
    "#np.savetxt('MuirheadKOIs.txt', strkois, fmt='%s')"
   ]
  },
  {
   "cell_type": "code",
   "execution_count": 12,
   "metadata": {},
   "outputs": [],
   "source": [
    "lcpath = '/Users/ssagear/Dropbox (UFL)/Research/MetallicityProject/photoeccentric/notebooks/datafiles/sample_LCs/'\n",
    "lclist = []\n",
    "\n",
    "for i in range(len(KICs)):\n",
    "    templst = []\n",
    "    for subdir, dirs, files in os.walk(lcpath):\n",
    "        for file in files:\n",
    "            if str(KICs[i]) in file:\n",
    "                templst.append(os.path.join(subdir, file))\n",
    "    lclist.append(templst)"
   ]
  },
  {
   "cell_type": "code",
   "execution_count": 13,
   "metadata": {},
   "outputs": [],
   "source": [
    "def get_stitched_lcs(KOI):\n",
    "    \n",
    "    files = lclist[int(np.argwhere(KOIs==KOI))]\n",
    "    \n",
    "    time = []\n",
    "    flux = []\n",
    "    flux_err = []\n",
    "    \n",
    "    for file in files:\n",
    "        hdu = fits.open(file)\n",
    "        time.append(list(hdu[1].data['TIME'] + hdu[1].header['BJDREFI']))\n",
    "        flux_p = hdu[1].data['PDCSAP_FLUX']\n",
    "        flux_err_p = hdu[1].data['PDCSAP_FLUX_ERR']\n",
    "        \n",
    "        fmed = np.nanmedian(flux_p)\n",
    "    \n",
    "        \n",
    "        flux.append(list(flux_p/fmed))\n",
    "        flux_err.append(list(flux_err_p/fmed))\n",
    "\n",
    "\n",
    "        #hdu.close()\n",
    "    \n",
    "    return hdu, time, flux, flux_err"
   ]
  },
  {
   "cell_type": "code",
   "execution_count": 19,
   "metadata": {},
   "outputs": [],
   "source": [
    "hdu, t, f, fe = get_stitched_lcs('898')"
   ]
  },
  {
   "cell_type": "code",
   "execution_count": 20,
   "metadata": {},
   "outputs": [],
   "source": [
    "#plt.errorbar(t[0], f[0], yerr=fe[0], fmt='o')"
   ]
  },
  {
   "cell_type": "code",
   "execution_count": 21,
   "metadata": {},
   "outputs": [],
   "source": [
    "alltime_noclip = []\n",
    "allflux_noclip = []\n",
    "allfluxerr_noclip = []\n",
    "\n",
    "for sublist in t:\n",
    "    for item in sublist:\n",
    "        alltime_noclip.append(item)\n",
    "        \n",
    "for sublist in f:\n",
    "    for item in sublist:\n",
    "        allflux_noclip.append(item)\n",
    "        \n",
    "for sublist in fe:\n",
    "    for item in sublist:\n",
    "        allfluxerr_noclip.append(item)"
   ]
  },
  {
   "cell_type": "code",
   "execution_count": 22,
   "metadata": {},
   "outputs": [],
   "source": [
    "def sigma_clip(time, flux, fluxerr, sig=4):\n",
    "    for i in tqdm(range(len(flux))):\n",
    "        if flux[i] > np.nanmean(flux) + sig*np.nanstd(flux) or flux[i] < np.nanmean(flux) - sig*np.nanstd(flux):\n",
    "            time[i] = np.nan\n",
    "            flux[i] = np.nan\n",
    "            fluxerr[i] = np.nan\n",
    "            \n",
    "    return time, flux, fluxerr\n",
    "            "
   ]
  },
  {
   "cell_type": "code",
   "execution_count": 24,
   "metadata": {},
   "outputs": [
    {
     "data": {
      "text/plain": [
       "Text(0.5, 1.0, 'KOI 898')"
      ]
     },
     "execution_count": 24,
     "metadata": {},
     "output_type": "execute_result"
    },
    {
     "data": {
      "image/png": "[encoded data removed]",
      "text/plain": [
       "<Figure size 864x576 with 1 Axes>"
      ]
     },
     "metadata": {
      "needs_background": "light"
     },
     "output_type": "display_data"
    }
   ],
   "source": [
    "# alltime, allflux, allfluxerr = sigma_clip(alltime_noclip, allflux_noclip, allfluxerr_noclip, sig=4)\n",
    "\n",
    "alltime, allflux, allfluxerr = alltime_noclip, allflux_noclip, allfluxerr_noclip\n",
    "\n",
    "plt.scatter(alltime, allflux, s=1)\n",
    "plt.title('KOI 898')"
   ]
  },
  {
   "cell_type": "markdown",
   "metadata": {},
   "source": [
    "# Kepler- b"
   ]
  },
  {
   "cell_type": "code",
   "execution_count": 27,
   "metadata": {},
   "outputs": [],
   "source": [
    "#midpoints = np.unique(list(midjd[midjd['planetname'] == 'Kepler-83 b']['midpointjd']))\n",
    "#midpoints_errs = np.unique(list(midjd[midjd['username'] == 'KOI ' + '947']['propmidpointunc']))"
   ]
  },
  {
   "cell_type": "code",
   "execution_count": 29,
   "metadata": {},
   "outputs": [],
   "source": [
    "#len(midpoints)"
   ]
  },
  {
   "cell_type": "code",
   "execution_count": 30,
   "metadata": {},
   "outputs": [
    {
     "ename": "NameError",
     "evalue": "name 'midpoints' is not defined",
     "output_type": "error",
     "traceback": [
      "\u001b[0;31m---------------------------------------------------------------------------\u001b[0m",
      "\u001b[0;31mNameError\u001b[0m                                 Traceback (most recent call last)",
      "\u001b[0;32m<ipython-input-30-f8a84ef4265f>\u001b[0m in \u001b[0;36m<module>\u001b[0;34m\u001b[0m\n\u001b[1;32m      2\u001b[0m \u001b[0mcmerrors\u001b[0m \u001b[0;34m=\u001b[0m \u001b[0;34m[\u001b[0m\u001b[0;34m]\u001b[0m\u001b[0;34m\u001b[0m\u001b[0;34m\u001b[0m\u001b[0m\n\u001b[1;32m      3\u001b[0m \u001b[0;34m\u001b[0m\u001b[0m\n\u001b[0;32m----> 4\u001b[0;31m \u001b[0;32mfor\u001b[0m \u001b[0mj\u001b[0m \u001b[0;32min\u001b[0m \u001b[0mrange\u001b[0m\u001b[0;34m(\u001b[0m\u001b[0mlen\u001b[0m\u001b[0;34m(\u001b[0m\u001b[0mmidpoints\u001b[0m\u001b[0;34m)\u001b[0m\u001b[0;34m)\u001b[0m\u001b[0;34m:\u001b[0m\u001b[0;34m\u001b[0m\u001b[0;34m\u001b[0m\u001b[0m\n\u001b[0m\u001b[1;32m      5\u001b[0m     \u001b[0;32mif\u001b[0m \u001b[0mnp\u001b[0m\u001b[0;34m.\u001b[0m\u001b[0mnanmin\u001b[0m\u001b[0;34m(\u001b[0m\u001b[0malltime\u001b[0m\u001b[0;34m)\u001b[0m \u001b[0;34m<\u001b[0m \u001b[0mmidpoints\u001b[0m\u001b[0;34m[\u001b[0m\u001b[0mj\u001b[0m\u001b[0;34m]\u001b[0m \u001b[0;34m<\u001b[0m \u001b[0mnp\u001b[0m\u001b[0;34m.\u001b[0m\u001b[0mnanmax\u001b[0m\u001b[0;34m(\u001b[0m\u001b[0malltime\u001b[0m\u001b[0;34m)\u001b[0m\u001b[0;34m:\u001b[0m\u001b[0;34m\u001b[0m\u001b[0;34m\u001b[0m\u001b[0m\n\u001b[1;32m      6\u001b[0m         \u001b[0mcmtimes\u001b[0m\u001b[0;34m.\u001b[0m\u001b[0mappend\u001b[0m\u001b[0;34m(\u001b[0m\u001b[0mmidpoints\u001b[0m\u001b[0;34m[\u001b[0m\u001b[0mj\u001b[0m\u001b[0;34m]\u001b[0m\u001b[0;34m)\u001b[0m\u001b[0;34m\u001b[0m\u001b[0;34m\u001b[0m\u001b[0m\n",
      "\u001b[0;31mNameError\u001b[0m: name 'midpoints' is not defined"
     ]
    }
   ],
   "source": [
    "cmtimes = []\n",
    "cmerrors = []\n",
    "\n",
    "for j in range(len(midpoints)):\n",
    "    if np.nanmin(alltime) < midpoints[j] < np.nanmax(alltime):\n",
    "        cmtimes.append(midpoints[j])\n",
    "        cmerrors.append(midpoints_errs[j])"
   ]
  },
  {
   "cell_type": "code",
   "execution_count": 20,
   "metadata": {},
   "outputs": [],
   "source": [
    "def get_KIC(KOI, muirhead_comb):\n",
    "    return muirhead_comb[muirhead_comb['KOI'] == str(KOI)].KIC.item()"
   ]
  },
  {
   "cell_type": "code",
   "execution_count": 175,
   "metadata": {},
   "outputs": [],
   "source": [
    "def fit_Kepler_lc(KOI, time, flux, flux_err, period, nbuffer, midjd_path, spectplanets, muirhead_comb):\n",
    "    \n",
    "    # Get alt IDs\n",
    "    kepid = get_KIC(KOI, muirhead_comb)\n",
    "    kepname = spectplanets.loc[spectplanets['kepid'] == kepid].kepler_name.values[0]\n",
    "    \n",
    "    dr = str(KOI)\n",
    "    direct = 'segfits/' + dr + '/'\n",
    "\n",
    "    if not os.path.exists(direct):\n",
    "        os.mkdir(direct)\n",
    "    \n",
    "    # Get stellar params\n",
    "    isodf = pd.read_csv(\"datafiles/isochrones/iso_lums_\" + str(kepid) + \".csv\")\n",
    "    \n",
    "    mstar = isodf[\"mstar\"].mean()\n",
    "    mstar_err = isodf[\"mstar\"].std()\n",
    "\n",
    "    rstar = isodf[\"radius\"].mean()\n",
    "    rstar_err = isodf[\"radius\"].std()\n",
    "    \n",
    "    # Get planet params\n",
    "    period, period_uerr, period_lerr, rprs, rprs_uerr, rprs_lerr, a_arc, a_uerr_arc, a_lerr_arc, i, e_arc, w_arc = ph.planet_params_from_archive(spectplanets, kepname)\n",
    "\n",
    "    # We calculate a_rs to ensure that it's consistent with the spec/Gaia stellar density.\n",
    "    a_rs = ph.calc_a(period*86400.0, mstar*smass_kg, rstar*srad_m)\n",
    "    a_rs_err = np.mean((a_uerr_arc, a_lerr_arc))\n",
    "\n",
    "    print('Stellar mass (Msun): ', mstar, 'Stellar radius (Rsun): ', rstar)\n",
    "    print('Period (Days): ', period, 'Rp/Rs: ', rprs)\n",
    "    print('a/Rs: ', a_rs)\n",
    "    print('i (deg): ', i)\n",
    "    \n",
    "    \n",
    "    midpoints = np.unique(list(midjd[midjd['planetname'] == 'Kepler-737 b']['midpointjd']))\n",
    "    \n",
    "    cmtimes = []\n",
    "\n",
    "    for j in range(len(midpoints)):\n",
    "        if np.nanmin(time) < midpoints[j] < np.nanmax(time):\n",
    "            cmtimes.append(midpoints[j])\n",
    "            \n",
    "    \n",
    "    for ind in range(len(cmerrors)):\n",
    "\n",
    "        try:\n",
    "        \n",
    "            transitmid = cmtimes[ind]\n",
    "\n",
    "            tindex = int(np.where(alltime == ph.find_nearest(alltime, transitmid))[0])\n",
    "\n",
    "            t1 = np.array(time[tindex-nbuffer:tindex+nbuffer]) - transitmid\n",
    "            f1 = np.array(flux[tindex-nbuffer:tindex+nbuffer])\n",
    "            fe1 = np.array(flux_err[tindex-nbuffer:tindex+nbuffer])\n",
    "\n",
    "            tindex = int(np.where(time == ph.find_nearest(time, transitmid))[0])\n",
    "\n",
    "            idx = np.isfinite(t1) & np.isfinite(f1)\n",
    "\n",
    "            disc = 4\n",
    "            m, b = np.polyfit(np.concatenate((t1[idx][:disc], t1[idx][-disc:])), np.concatenate((f1[idx][:disc], f1[idx][-disc:])), 1)\n",
    "\n",
    "            linfit = m*t1 + b\n",
    "            fnorm = (f1-linfit)+1\n",
    "            \n",
    "            plt.cla()\n",
    "            plt.errorbar(t1, f1, yerr=fe1, fmt='o', c='blue')\n",
    "            plt.plot(t1, linfit, c='green')\n",
    "            plt.xlabel('Time')\n",
    "            plt.ylabel('Rel. Flux')\n",
    "            plt.axvline(0, c='r')\n",
    "            plt.savefig(direct + str(KOI) + 'segment' + str(ind) + '.png')\n",
    "\n",
    "            mid = ph.get_mid(time)\n",
    "            ptime = ph.get_ptime(t1, mid, 29)\n",
    "\n",
    "            fnorm = np.nan_to_num(fnorm, nan=1.0)\n",
    "            fe1 = np.nan_to_num(fe1, nan=np.nanmedian(fe1))\n",
    "\n",
    "\n",
    "            # Inital guess: rprs, a/Rs, i, w\n",
    "            p0 = [rprs, a_rs, i, 0]\n",
    "\n",
    "            # EMCEE Transit Model Fitting\n",
    "            _, _, rdist, adist, idist, t0dist = ph.mcmc_fitter_noper(p0, period, t1, ptime, fnorm, fe1, nwalk, nsteps_d, ndiscard_d, 'X', 'X', direct, plot_Tburnin=False, plot_Tcorner=False)\n",
    "            \n",
    "            # Create a light curve with the fit parameters\n",
    "            mcmcfit = ph.integratedlc_fitter(t1, period, ph.mode(rdist), ph.mode(adist), ph.mode(idist), ph.mode(t0dist))\n",
    "            truefit = ph.integratedlc_fitter(t1, period, rprs, a_rs, i, 0)\n",
    "\n",
    "            plt.cla()\n",
    "            plt.errorbar(t1, fnorm, yerr=fe1, c='blue', alpha=0.5, label='Original LC', fmt=\"o\", capsize=0)\n",
    "            plt.scatter(t1, mcmcfit, c='red', alpha=1.0, label='Fit LC')\n",
    "            plt.plot(t1, mcmcfit, c='red', alpha=1.0)\n",
    "            plt.plot(t1, truefit, c='green', alpha=1.0)\n",
    "            \n",
    "            textstr = '\\n'.join((\n",
    "            r'$\\mathrm{Rp/Rs}=%.2f$' % (ph.mode(rdist), ),\n",
    "            r'$\\mathrm{a_rs}=%.2f$' % (ph.mode(adist), ),\n",
    "            r'$\\mathrm{i}=%.2f$' % (ph.mode(idist), ),\n",
    "            r'$\\mathrm{t0}=%.2f$' % (ph.mode(t0dist), )))\n",
    "            plt.title(textstr)\n",
    "\n",
    "            plt.legend()\n",
    "            \n",
    "            plt.savefig(direct + str(KOI) + 'segment' + str(ind) + 'fit.png')\n",
    "            \n",
    "            \n",
    "        # Skip if transit mid-time falls outside of Kepler observations\n",
    "        except TypeError:\n",
    "            continue\n",
    "\n"
   ]
  },
  {
   "cell_type": "code",
   "execution_count": 176,
   "metadata": {},
   "outputs": [],
   "source": [
    "midjd = pd.read_csv('/Users/ssagear/Downloads/transits_2021.06.18_12.57.01.csv', comment='#')\n",
    "\n",
    "period = 28.59915399"
   ]
  },
  {
   "cell_type": "code",
   "execution_count": 177,
   "metadata": {
    "scrolled": true
   },
   "outputs": [
    {
     "name": "stdout",
     "output_type": "stream",
     "text": [
      "Stellar mass (Msun):  0.48797798116154106 Stellar radius (Rsun):  0.4690682721275218\n",
      "Period (Days):  28.59914031 Rp/Rs:  0.036375\n",
      "a/Rs:  65.99499728728715\n",
      "i (deg):  89.99\n"
     ]
    },
    {
     "name": "stderr",
     "output_type": "stream",
     "text": [
      "100%|██████████| 1500/1500 [00:43<00:00, 34.69it/s]\n",
      "100%|██████████| 1500/1500 [00:43<00:00, 34.55it/s]\n",
      "100%|██████████| 1500/1500 [00:43<00:00, 34.35it/s]\n",
      "100%|██████████| 1500/1500 [00:43<00:00, 34.87it/s]\n",
      "100%|██████████| 1500/1500 [00:42<00:00, 35.48it/s]\n",
      "100%|██████████| 1500/1500 [00:41<00:00, 36.09it/s]\n",
      "100%|██████████| 1500/1500 [00:41<00:00, 35.87it/s]\n",
      "100%|██████████| 1500/1500 [00:42<00:00, 35.47it/s]\n",
      "100%|██████████| 1500/1500 [00:41<00:00, 36.22it/s]\n",
      "100%|██████████| 1500/1500 [00:41<00:00, 36.22it/s]\n",
      "100%|██████████| 1500/1500 [00:41<00:00, 36.03it/s]\n",
      "100%|██████████| 1500/1500 [00:48<00:00, 31.15it/s]\n",
      "100%|██████████| 1500/1500 [00:48<00:00, 30.84it/s]\n",
      "100%|██████████| 1500/1500 [00:41<00:00, 35.94it/s]\n",
      "100%|██████████| 1500/1500 [00:41<00:00, 36.09it/s]\n",
      "100%|██████████| 1500/1500 [00:42<00:00, 35.61it/s]\n",
      "100%|██████████| 1500/1500 [00:41<00:00, 36.15it/s]\n",
      "100%|██████████| 1500/1500 [00:41<00:00, 36.04it/s]\n",
      "100%|██████████| 1500/1500 [00:41<00:00, 36.03it/s]\n",
      "100%|██████████| 1500/1500 [00:41<00:00, 36.29it/s]\n",
      "100%|██████████| 1500/1500 [00:40<00:00, 36.61it/s]\n",
      "100%|██████████| 1500/1500 [00:43<00:00, 34.33it/s]\n",
      "100%|██████████| 1500/1500 [00:41<00:00, 36.17it/s]\n",
      "100%|██████████| 1500/1500 [00:41<00:00, 35.98it/s]\n",
      "100%|██████████| 1500/1500 [00:41<00:00, 36.05it/s]\n",
      "100%|██████████| 1500/1500 [00:59<00:00, 25.23it/s]\n",
      "100%|██████████| 1500/1500 [00:41<00:00, 36.04it/s]\n",
      "100%|██████████| 1500/1500 [00:41<00:00, 36.02it/s]\n",
      "100%|██████████| 1500/1500 [00:41<00:00, 36.09it/s]\n",
      "100%|██████████| 1500/1500 [05:43<00:00,  4.37it/s]  \n",
      "100%|██████████| 1500/1500 [17:08<00:00,  1.46it/s]  \n",
      "100%|██████████| 1500/1500 [08:27<00:00,  2.96it/s]  \n",
      "100%|██████████| 1500/1500 [00:46<00:00, 32.32it/s]\n",
      "100%|██████████| 1500/1500 [00:44<00:00, 33.54it/s]\n",
      " 21%|██▏       | 321/1500 [00:11<00:34, 33.76it/s]Traceback (most recent call last):\n",
      "  File \"/Users/ssagear/anaconda3/lib/python3.8/site-packages/emcee/ensemble.py\", line 545, in __call__\n",
      "    return self.f(x, *self.args, **self.kwargs)\n",
      "  File \"/Users/ssagear/Dropbox (UFL)/Research/MetallicityProject/photoeccentric/photoeccentric/photoeccentric.py\", line 975, in tfit_noper_log_probability\n",
      "    return lp + tfit_noper_log_likelihood(theta, per, time, ptime, flux, flux_err)\n",
      "  File \"/Users/ssagear/Dropbox (UFL)/Research/MetallicityProject/photoeccentric/photoeccentric/photoeccentric.py\", line 949, in tfit_noper_log_likelihood\n",
      "    model = integratedlc_fitter(time, per, rp, a, inc, t0)\n",
      "  File \"/Users/ssagear/Dropbox (UFL)/Research/MetallicityProject/photoeccentric/photoeccentric/lcfitter.py\", line 164, in integratedlc_fitter\n",
      "    ptime = get_ptime(time, get_mid(time), 29)\n",
      "  File \"/Users/ssagear/Dropbox (UFL)/Research/MetallicityProject/photoeccentric/photoeccentric/lcfitter.py\", line 271, in get_ptime\n",
      "    ettemp = np.linspace(time[i]-mid, time[i]+mid, num, endpoint=True)\n",
      "  File \"<__array_function__ internals>\", line 5, in linspace\n",
      "  File \"/Users/ssagear/anaconda3/lib/python3.8/site-packages/numpy/core/function_base.py\", line 175, in linspace\n",
      "    return y.astype(dtype, copy=False)\n",
      "KeyboardInterrupt\n",
      " 22%|██▏       | 323/1500 [00:11<00:43, 27.26it/s]\n"
     ]
    },
    {
     "name": "stdout",
     "output_type": "stream",
     "text": [
      "emcee: Exception while calling your likelihood function:\n",
      "  params: [ 0.8886676  26.15280519  3.58338743  0.19263593]\n",
      "  args: (28.59914031, array([-0.18642636, -0.16599303, -0.14555959, -0.12512636, -0.10469292,\n",
      "       -0.08425959, -0.06382635, -0.04339291, -0.02295958, -0.00252624,\n",
      "        0.0179071 ,  0.03834043,  0.05877377,  0.07920711,  0.09964045,\n",
      "        0.12007379,  0.14050712,  0.16094046]), array([-0.19664346, -0.19591366, -0.19518387, -0.19445408, -0.19372429,\n",
      "       -0.19299449, -0.1922647 , -0.19153491, -0.19080512, -0.19007533,\n",
      "       -0.18934553, -0.18861574, -0.18788595, -0.18715616, -0.18642636,\n",
      "       -0.18569657, -0.18496678, -0.18423699, -0.1835072 , -0.1827774 ,\n",
      "       -0.18204761, -0.18131782, -0.18058803, -0.17985823, -0.17912844,\n",
      "       -0.17839865, -0.17766886, -0.17693907, -0.17620927, -0.17621012,\n",
      "       -0.17548033, -0.17475054, -0.17402074, -0.17329095, -0.17256116,\n",
      "       -0.17183137, -0.17110157, -0.17037178, -0.16964199, -0.1689122 ,\n",
      "       -0.16818241, -0.16745261, -0.16672282, -0.16599303, -0.16526324,\n",
      "       -0.16453344, -0.16380365, -0.16307386, -0.16234407, -0.16161428,\n",
      "       -0.16088448, -0.16015469, -0.1594249 , -0.15869511, -0.15796531,\n",
      "       -0.15723552, -0.15650573, -0.15577594, -0.15577669, -0.15504689,\n",
      "       -0.1543171 , -0.15358731, -0.15285752, -0.15212772, -0.15139793,\n",
      "       -0.15066814, -0.14993835, -0.14920856, -0.14847876, -0.14774897,\n",
      "       -0.14701918, -0.14628939, -0.14555959, -0.1448298 , -0.14410001,\n",
      "       -0.14337022, -0.14264043, -0.14191063, -0.14118084, -0.14045105,\n",
      "       -0.13972126, -0.13899146, -0.13826167, -0.13753188, -0.13680209,\n",
      "       -0.1360723 , -0.1353425 , -0.13534345, -0.13461366, -0.13388387,\n",
      "       -0.13315407, -0.13242428, -0.13169449, -0.1309647 , -0.1302349 ,\n",
      "       -0.12950511, -0.12877532, -0.12804553, -0.12731574, -0.12658594,\n",
      "       -0.12585615, -0.12512636, -0.12439657, -0.12366677, -0.12293698,\n",
      "       -0.12220719, -0.1214774 , -0.12074761, -0.12001781, -0.11928802,\n",
      "       -0.11855823, -0.11782844, -0.11709864, -0.11636885, -0.11563906,\n",
      "       -0.11490927, -0.11491001, -0.11418022, -0.11345043, -0.11272064,\n",
      "       -0.11199085, -0.11126105, -0.11053126, -0.10980147, -0.10907168,\n",
      "       -0.10834188, -0.10761209, -0.1068823 , -0.10615251, -0.10542272,\n",
      "       -0.10469292, -0.10396313, -0.10323334, -0.10250355, -0.10177375,\n",
      "       -0.10104396, -0.10031417, -0.09958438, -0.09885459, -0.09812479,\n",
      "       -0.097395  , -0.09666521, -0.09593542, -0.09520562, -0.09447583,\n",
      "       -0.09447668, -0.09374689, -0.09301709, -0.0922873 , -0.09155751,\n",
      "       -0.09082772, -0.09009793, -0.08936813, -0.08863834, -0.08790855,\n",
      "       -0.08717876, -0.08644896, -0.08571917, -0.08498938, -0.08425959,\n",
      "       -0.0835298 , -0.0828    , -0.08207021, -0.08134042, -0.08061063,\n",
      "       -0.07988083, -0.07915104, -0.07842125, -0.07769146, -0.07696167,\n",
      "       -0.07623187, -0.07550208, -0.07477229, -0.0740425 , -0.07404344,\n",
      "       -0.07331365, -0.07258386, -0.07185407, -0.07112427, -0.07039448,\n",
      "       -0.06966469, -0.0689349 , -0.0682051 , -0.06747531, -0.06674552,\n",
      "       -0.06601573, -0.06528594, -0.06455614, -0.06382635, -0.06309656,\n",
      "       -0.06236677, -0.06163697, -0.06090718, -0.06017739, -0.0594476 ,\n",
      "       -0.05871781, -0.05798801, -0.05725822, -0.05652843, -0.05579864,\n",
      "       -0.05506884, -0.05433905, -0.05360926, -0.05361001, -0.05288021,\n",
      "       -0.05215042, -0.05142063, -0.05069084, -0.04996104, -0.04923125,\n",
      "       -0.04850146, -0.04777167, -0.04704188, -0.04631208, -0.04558229,\n",
      "       -0.0448525 , -0.04412271, -0.04339291, -0.04266312, -0.04193333,\n",
      "       -0.04120354, -0.04047375, -0.03974395, -0.03901416, -0.03828437,\n",
      "       -0.03755458, -0.03682478, -0.03609499, -0.0353652 , -0.03463541,\n",
      "       -0.03390562, -0.03317582, -0.03317667, -0.03244688, -0.03171708,\n",
      "       -0.03098729, -0.0302575 , -0.02952771, -0.02879792, -0.02806812,\n",
      "       -0.02733833, -0.02660854, -0.02587875, -0.02514895, -0.02441916,\n",
      "       -0.02368937, -0.02295958, -0.02222979, -0.02149999, -0.0207702 ,\n",
      "       -0.02004041, -0.01931062, -0.01858082, -0.01785103, -0.01712124,\n",
      "       -0.01639145, -0.01566166, -0.01493186, -0.01420207, -0.01347228,\n",
      "       -0.01274249, -0.01274333, -0.01201354, -0.01128375, -0.01055396,\n",
      "       -0.00982416, -0.00909437, -0.00836458, -0.00763479, -0.00690499,\n",
      "       -0.0061752 , -0.00544541, -0.00471562, -0.00398583, -0.00325603,\n",
      "       -0.00252624, -0.00179645, -0.00106666, -0.00033686,  0.00039293,\n",
      "        0.00112272,  0.00185251,  0.0025823 ,  0.0033121 ,  0.00404189,\n",
      "        0.00477168,  0.00550147,  0.00623127,  0.00696106,  0.00769085,\n",
      "        0.00769001,  0.0084198 ,  0.00914959,  0.00987938,  0.01060917,\n",
      "        0.01133897,  0.01206876,  0.01279855,  0.01352834,  0.01425813,\n",
      "        0.01498793,  0.01571772,  0.01644751,  0.0171773 ,  0.0179071 ,\n",
      "        0.01863689,  0.01936668,  0.02009647,  0.02082626,  0.02155606,\n",
      "        0.02228585,  0.02301564,  0.02374543,  0.02447523,  0.02520502,\n",
      "        0.02593481,  0.0266646 ,  0.02739439,  0.02812419,  0.02812334,\n",
      "        0.02885313,  0.02958293,  0.03031272,  0.03104251,  0.0317723 ,\n",
      "        0.0325021 ,  0.03323189,  0.03396168,  0.03469147,  0.03542126,\n",
      "        0.03615106,  0.03688085,  0.03761064,  0.03834043,  0.03907023,\n",
      "        0.03980002,  0.04052981,  0.0412596 ,  0.04198939,  0.04271919,\n",
      "        0.04344898,  0.04417877,  0.04490856,  0.04563836,  0.04636815,\n",
      "        0.04709794,  0.04782773,  0.04855752,  0.04855668,  0.04928647,\n",
      "        0.05001626,  0.05074606,  0.05147585,  0.05220564,  0.05293543,\n",
      "        0.05366523,  0.05439502,  0.05512481,  0.0558546 ,  0.05658439,\n",
      "        0.05731419,  0.05804398,  0.05877377,  0.05950356,  0.06023336,\n",
      "        0.06096315,  0.06169294,  0.06242273,  0.06315252,  0.06388232,\n",
      "        0.06461211,  0.0653419 ,  0.06607169,  0.06680149,  0.06753128,\n",
      "        0.06826107,  0.06899086,  0.06899002,  0.06971981,  0.0704496 ,\n",
      "        0.07117939,  0.07190919,  0.07263898,  0.07336877,  0.07409856,\n",
      "        0.07482836,  0.07555815,  0.07628794,  0.07701773,  0.07774752,\n",
      "        0.07847732,  0.07920711,  0.0799369 ,  0.08066669,  0.08139649,\n",
      "        0.08212628,  0.08285607,  0.08358586,  0.08431565,  0.08504545,\n",
      "        0.08577524,  0.08650503,  0.08723482,  0.08796462,  0.08869441,\n",
      "        0.0894242 ,  0.08942336,  0.09015315,  0.09088294,  0.09161273,\n",
      "        0.09234252,  0.09307232,  0.09380211,  0.0945319 ,  0.09526169,\n",
      "        0.09599149,  0.09672128,  0.09745107,  0.09818086,  0.09891065,\n",
      "        0.09964045,  0.10037024,  0.10110003,  0.10182982,  0.10255962,\n",
      "        0.10328941,  0.1040192 ,  0.10474899,  0.10547878,  0.10620858,\n",
      "        0.10693837,  0.10766816,  0.10839795,  0.10912775,  0.10985754,\n",
      "        0.10985669,  0.11058649,  0.11131628,  0.11204607,  0.11277586,\n",
      "        0.11350566,  0.11423545,  0.11496524,  0.11569503,  0.11642482,\n",
      "        0.11715462,  0.11788441,  0.1186142 ,  0.11934399,  0.12007379,\n",
      "        0.12080358,  0.12153337,  0.12226316,  0.12299295,  0.12372275,\n",
      "        0.12445254,  0.12518233,  0.12591212,  0.12664192,  0.12737171,\n",
      "        0.1281015 ,  0.12883129,  0.12956108,  0.13029088,  0.13029003,\n",
      "        0.13101983,  0.13174962,  0.13247941,  0.1332092 ,  0.13393899,\n",
      "        0.13466879,  0.13539858,  0.13612837,  0.13685816,  0.13758796,\n",
      "        0.13831775,  0.13904754,  0.13977733,  0.14050712,  0.14123692,\n",
      "        0.14196671,  0.1426965 ,  0.14342629,  0.14415609,  0.14488588,\n",
      "        0.14561567,  0.14634546,  0.14707525,  0.14780505,  0.14853484,\n",
      "        0.14926463,  0.14999442,  0.15072422,  0.15072337,  0.15145316,\n",
      "        0.15218296,  0.15291275,  0.15364254,  0.15437233,  0.15510213,\n",
      "        0.15583192,  0.15656171,  0.1572915 ,  0.15802129,  0.15875109,\n",
      "        0.15948088,  0.16021067,  0.16094046,  0.16167026,  0.16240005,\n",
      "        0.16312984,  0.16385963,  0.16458942,  0.16531922,  0.16604901,\n",
      "        0.1667788 ,  0.16750859,  0.16823839,  0.16896818,  0.16969797,\n",
      "        0.17042776,  0.17115755]), array([0.99998817, 1.00048001, 0.99987501, 0.99971108, 0.99903931,\n",
      "       1.00039018, 0.99926673, 1.00035557, 1.00030489, 0.99986904,\n",
      "       0.99839607, 0.99885906, 0.99964892, 1.00032411, 0.99917122,\n",
      "       1.00027329, 1.00038044, 1.00012078]), array([0.00068957, 0.0006896 , 0.00068957, 0.00068949, 0.00068939,\n",
      "       0.00068954, 0.00068948, 0.00068955, 0.00068948, 0.0006895 ,\n",
      "       0.00068933, 0.00068938, 0.00068939, 0.0006896 , 0.00068948,\n",
      "       0.00068959, 0.00068953, 0.00068949], dtype=float32))\n",
      "  kwargs: {}\n",
      "  exception:\n"
     ]
    },
    {
     "ename": "KeyboardInterrupt",
     "evalue": "",
     "output_type": "error",
     "traceback": [
      "\u001b[0;31m---------------------------------------------------------------------------\u001b[0m",
      "\u001b[0;31mKeyboardInterrupt\u001b[0m                         Traceback (most recent call last)",
      "\u001b[0;32m<ipython-input-177-87110e93775c>\u001b[0m in \u001b[0;36m<module>\u001b[0;34m\u001b[0m\n\u001b[0;32m----> 1\u001b[0;31m \u001b[0mfit_Kepler_lc\u001b[0m\u001b[0;34m(\u001b[0m\u001b[0;36m947\u001b[0m\u001b[0;34m,\u001b[0m \u001b[0malltime\u001b[0m\u001b[0;34m,\u001b[0m \u001b[0mallflux\u001b[0m\u001b[0;34m,\u001b[0m \u001b[0mallfluxerr\u001b[0m\u001b[0;34m,\u001b[0m \u001b[0mperiod\u001b[0m\u001b[0;34m,\u001b[0m \u001b[0;36m9\u001b[0m\u001b[0;34m,\u001b[0m \u001b[0mmidjd\u001b[0m\u001b[0;34m,\u001b[0m \u001b[0mspectplanets\u001b[0m\u001b[0;34m,\u001b[0m \u001b[0mmuirhead_comb\u001b[0m\u001b[0;34m)\u001b[0m\u001b[0;34m\u001b[0m\u001b[0;34m\u001b[0m\u001b[0m\n\u001b[0m",
      "\u001b[0;32m<ipython-input-175-1415a686181e>\u001b[0m in \u001b[0;36mfit_Kepler_lc\u001b[0;34m(KOI, time, flux, flux_err, period, nbuffer, midjd_path, spectplanets, muirhead_comb)\u001b[0m\n\u001b[1;32m     83\u001b[0m \u001b[0;34m\u001b[0m\u001b[0m\n\u001b[1;32m     84\u001b[0m             \u001b[0;31m# EMCEE Transit Model Fitting\u001b[0m\u001b[0;34m\u001b[0m\u001b[0;34m\u001b[0m\u001b[0;34m\u001b[0m\u001b[0m\n\u001b[0;32m---> 85\u001b[0;31m             \u001b[0m_\u001b[0m\u001b[0;34m,\u001b[0m \u001b[0m_\u001b[0m\u001b[0;34m,\u001b[0m \u001b[0mrdist\u001b[0m\u001b[0;34m,\u001b[0m \u001b[0madist\u001b[0m\u001b[0;34m,\u001b[0m \u001b[0midist\u001b[0m\u001b[0;34m,\u001b[0m \u001b[0mt0dist\u001b[0m \u001b[0;34m=\u001b[0m \u001b[0mph\u001b[0m\u001b[0;34m.\u001b[0m\u001b[0mmcmc_fitter_noper\u001b[0m\u001b[0;34m(\u001b[0m\u001b[0mp0\u001b[0m\u001b[0;34m,\u001b[0m \u001b[0mperiod\u001b[0m\u001b[0;34m,\u001b[0m \u001b[0mt1\u001b[0m\u001b[0;34m,\u001b[0m \u001b[0mptime\u001b[0m\u001b[0;34m,\u001b[0m \u001b[0mfnorm\u001b[0m\u001b[0;34m,\u001b[0m \u001b[0mfe1\u001b[0m\u001b[0;34m,\u001b[0m \u001b[0mnwalk\u001b[0m\u001b[0;34m,\u001b[0m \u001b[0mnsteps_d\u001b[0m\u001b[0;34m,\u001b[0m \u001b[0mndiscard_d\u001b[0m\u001b[0;34m,\u001b[0m \u001b[0;34m'X'\u001b[0m\u001b[0;34m,\u001b[0m \u001b[0;34m'X'\u001b[0m\u001b[0;34m,\u001b[0m \u001b[0mdirect\u001b[0m\u001b[0;34m,\u001b[0m \u001b[0mplot_Tburnin\u001b[0m\u001b[0;34m=\u001b[0m\u001b[0;32mFalse\u001b[0m\u001b[0;34m,\u001b[0m \u001b[0mplot_Tcorner\u001b[0m\u001b[0;34m=\u001b[0m\u001b[0;32mFalse\u001b[0m\u001b[0;34m)\u001b[0m\u001b[0;34m\u001b[0m\u001b[0;34m\u001b[0m\u001b[0m\n\u001b[0m\u001b[1;32m     86\u001b[0m \u001b[0;34m\u001b[0m\u001b[0m\n\u001b[1;32m     87\u001b[0m             \u001b[0;31m# Create a light curve with the fit parameters\u001b[0m\u001b[0;34m\u001b[0m\u001b[0;34m\u001b[0m\u001b[0;34m\u001b[0m\u001b[0m\n",
      "\u001b[0;32m~/Dropbox (UFL)/Research/MetallicityProject/photoeccentric/photoeccentric/photoeccentric.py\u001b[0m in \u001b[0;36mmcmc_fitter_noper\u001b[0;34m(guess_transit, per, time, ptime, nflux, flux_err, nwalk, nsteps, ndiscard, e, w, directory, plot_Tburnin, plot_Tcorner)\u001b[0m\n\u001b[1;32m   1033\u001b[0m \u001b[0;34m\u001b[0m\u001b[0m\n\u001b[1;32m   1034\u001b[0m     \u001b[0msampler\u001b[0m \u001b[0;34m=\u001b[0m \u001b[0memcee\u001b[0m\u001b[0;34m.\u001b[0m\u001b[0mEnsembleSampler\u001b[0m\u001b[0;34m(\u001b[0m\u001b[0mnwalkers\u001b[0m\u001b[0;34m,\u001b[0m \u001b[0mndim\u001b[0m\u001b[0;34m,\u001b[0m \u001b[0mtfit_noper_log_probability\u001b[0m\u001b[0;34m,\u001b[0m \u001b[0margs\u001b[0m\u001b[0;34m=\u001b[0m\u001b[0;34m(\u001b[0m\u001b[0mper\u001b[0m\u001b[0;34m,\u001b[0m \u001b[0mtime\u001b[0m\u001b[0;34m,\u001b[0m \u001b[0mptime\u001b[0m\u001b[0;34m,\u001b[0m \u001b[0mnflux\u001b[0m\u001b[0;34m,\u001b[0m \u001b[0mflux_err\u001b[0m\u001b[0;34m)\u001b[0m\u001b[0;34m,\u001b[0m \u001b[0mthreads\u001b[0m\u001b[0;34m=\u001b[0m\u001b[0;36m4\u001b[0m\u001b[0;34m)\u001b[0m\u001b[0;34m\u001b[0m\u001b[0;34m\u001b[0m\u001b[0m\n\u001b[0;32m-> 1035\u001b[0;31m     \u001b[0msampler\u001b[0m\u001b[0;34m.\u001b[0m\u001b[0mrun_mcmc\u001b[0m\u001b[0;34m(\u001b[0m\u001b[0mpos\u001b[0m\u001b[0;34m,\u001b[0m \u001b[0mnsteps\u001b[0m\u001b[0;34m,\u001b[0m \u001b[0mprogress\u001b[0m\u001b[0;34m=\u001b[0m\u001b[0;32mTrue\u001b[0m\u001b[0;34m)\u001b[0m\u001b[0;34m;\u001b[0m\u001b[0;34m\u001b[0m\u001b[0;34m\u001b[0m\u001b[0m\n\u001b[0m\u001b[1;32m   1036\u001b[0m     \u001b[0msamples\u001b[0m \u001b[0;34m=\u001b[0m \u001b[0msampler\u001b[0m\u001b[0;34m.\u001b[0m\u001b[0mget_chain\u001b[0m\u001b[0;34m(\u001b[0m\u001b[0;34m)\u001b[0m\u001b[0;34m\u001b[0m\u001b[0;34m\u001b[0m\u001b[0m\n\u001b[1;32m   1037\u001b[0m \u001b[0;34m\u001b[0m\u001b[0m\n",
      "\u001b[0;32m~/anaconda3/lib/python3.8/site-packages/emcee/ensemble.py\u001b[0m in \u001b[0;36mrun_mcmc\u001b[0;34m(self, initial_state, nsteps, **kwargs)\u001b[0m\n\u001b[1;32m    382\u001b[0m \u001b[0;34m\u001b[0m\u001b[0m\n\u001b[1;32m    383\u001b[0m         \u001b[0mresults\u001b[0m \u001b[0;34m=\u001b[0m \u001b[0;32mNone\u001b[0m\u001b[0;34m\u001b[0m\u001b[0;34m\u001b[0m\u001b[0m\n\u001b[0;32m--> 384\u001b[0;31m         \u001b[0;32mfor\u001b[0m \u001b[0mresults\u001b[0m \u001b[0;32min\u001b[0m \u001b[0mself\u001b[0m\u001b[0;34m.\u001b[0m\u001b[0msample\u001b[0m\u001b[0;34m(\u001b[0m\u001b[0minitial_state\u001b[0m\u001b[0;34m,\u001b[0m \u001b[0miterations\u001b[0m\u001b[0;34m=\u001b[0m\u001b[0mnsteps\u001b[0m\u001b[0;34m,\u001b[0m \u001b[0;34m**\u001b[0m\u001b[0mkwargs\u001b[0m\u001b[0;34m)\u001b[0m\u001b[0;34m:\u001b[0m\u001b[0;34m\u001b[0m\u001b[0;34m\u001b[0m\u001b[0m\n\u001b[0m\u001b[1;32m    385\u001b[0m             \u001b[0;32mpass\u001b[0m\u001b[0;34m\u001b[0m\u001b[0;34m\u001b[0m\u001b[0m\n\u001b[1;32m    386\u001b[0m \u001b[0;34m\u001b[0m\u001b[0m\n",
      "\u001b[0;32m~/anaconda3/lib/python3.8/site-packages/emcee/ensemble.py\u001b[0m in \u001b[0;36msample\u001b[0;34m(self, initial_state, log_prob0, rstate0, blobs0, iterations, tune, skip_initial_state_check, thin_by, thin, store, progress)\u001b[0m\n\u001b[1;32m    341\u001b[0m \u001b[0;34m\u001b[0m\u001b[0m\n\u001b[1;32m    342\u001b[0m                     \u001b[0;31m# Propose\u001b[0m\u001b[0;34m\u001b[0m\u001b[0;34m\u001b[0m\u001b[0;34m\u001b[0m\u001b[0m\n\u001b[0;32m--> 343\u001b[0;31m                     \u001b[0mstate\u001b[0m\u001b[0;34m,\u001b[0m \u001b[0maccepted\u001b[0m \u001b[0;34m=\u001b[0m \u001b[0mmove\u001b[0m\u001b[0;34m.\u001b[0m\u001b[0mpropose\u001b[0m\u001b[0;34m(\u001b[0m\u001b[0mmodel\u001b[0m\u001b[0;34m,\u001b[0m \u001b[0mstate\u001b[0m\u001b[0;34m)\u001b[0m\u001b[0;34m\u001b[0m\u001b[0;34m\u001b[0m\u001b[0m\n\u001b[0m\u001b[1;32m    344\u001b[0m                     \u001b[0mstate\u001b[0m\u001b[0;34m.\u001b[0m\u001b[0mrandom_state\u001b[0m \u001b[0;34m=\u001b[0m \u001b[0mself\u001b[0m\u001b[0;34m.\u001b[0m\u001b[0mrandom_state\u001b[0m\u001b[0;34m\u001b[0m\u001b[0;34m\u001b[0m\u001b[0m\n\u001b[1;32m    345\u001b[0m \u001b[0;34m\u001b[0m\u001b[0m\n",
      "\u001b[0;32m~/anaconda3/lib/python3.8/site-packages/emcee/moves/red_blue.py\u001b[0m in \u001b[0;36mpropose\u001b[0;34m(self, model, state)\u001b[0m\n\u001b[1;32m     91\u001b[0m \u001b[0;34m\u001b[0m\u001b[0m\n\u001b[1;32m     92\u001b[0m             \u001b[0;31m# Compute the lnprobs of the proposed position.\u001b[0m\u001b[0;34m\u001b[0m\u001b[0;34m\u001b[0m\u001b[0;34m\u001b[0m\u001b[0m\n\u001b[0;32m---> 93\u001b[0;31m             \u001b[0mnew_log_probs\u001b[0m\u001b[0;34m,\u001b[0m \u001b[0mnew_blobs\u001b[0m \u001b[0;34m=\u001b[0m \u001b[0mmodel\u001b[0m\u001b[0;34m.\u001b[0m\u001b[0mcompute_log_prob_fn\u001b[0m\u001b[0;34m(\u001b[0m\u001b[0mq\u001b[0m\u001b[0;34m)\u001b[0m\u001b[0;34m\u001b[0m\u001b[0;34m\u001b[0m\u001b[0m\n\u001b[0m\u001b[1;32m     94\u001b[0m \u001b[0;34m\u001b[0m\u001b[0m\n\u001b[1;32m     95\u001b[0m             \u001b[0;31m# Loop over the walkers and update them accordingly.\u001b[0m\u001b[0;34m\u001b[0m\u001b[0;34m\u001b[0m\u001b[0;34m\u001b[0m\u001b[0m\n",
      "\u001b[0;32m~/anaconda3/lib/python3.8/site-packages/emcee/ensemble.py\u001b[0m in \u001b[0;36mcompute_log_prob\u001b[0;34m(self, coords)\u001b[0m\n\u001b[1;32m    424\u001b[0m             \u001b[0;32melse\u001b[0m\u001b[0;34m:\u001b[0m\u001b[0;34m\u001b[0m\u001b[0;34m\u001b[0m\u001b[0m\n\u001b[1;32m    425\u001b[0m                 \u001b[0mmap_func\u001b[0m \u001b[0;34m=\u001b[0m \u001b[0mmap\u001b[0m\u001b[0;34m\u001b[0m\u001b[0;34m\u001b[0m\u001b[0m\n\u001b[0;32m--> 426\u001b[0;31m             results = list(\n\u001b[0m\u001b[1;32m    427\u001b[0m                 \u001b[0mmap_func\u001b[0m\u001b[0;34m(\u001b[0m\u001b[0mself\u001b[0m\u001b[0;34m.\u001b[0m\u001b[0mlog_prob_fn\u001b[0m\u001b[0;34m,\u001b[0m \u001b[0;34m(\u001b[0m\u001b[0mp\u001b[0m\u001b[0;34m[\u001b[0m\u001b[0mi\u001b[0m\u001b[0;34m]\u001b[0m \u001b[0;32mfor\u001b[0m \u001b[0mi\u001b[0m \u001b[0;32min\u001b[0m \u001b[0mrange\u001b[0m\u001b[0;34m(\u001b[0m\u001b[0mlen\u001b[0m\u001b[0;34m(\u001b[0m\u001b[0mp\u001b[0m\u001b[0;34m)\u001b[0m\u001b[0;34m)\u001b[0m\u001b[0;34m)\u001b[0m\u001b[0;34m)\u001b[0m\u001b[0;34m\u001b[0m\u001b[0;34m\u001b[0m\u001b[0m\n\u001b[1;32m    428\u001b[0m             )\n",
      "\u001b[0;32m~/anaconda3/lib/python3.8/site-packages/emcee/ensemble.py\u001b[0m in \u001b[0;36m__call__\u001b[0;34m(self, x)\u001b[0m\n\u001b[1;32m    543\u001b[0m     \u001b[0;32mdef\u001b[0m \u001b[0m__call__\u001b[0m\u001b[0;34m(\u001b[0m\u001b[0mself\u001b[0m\u001b[0;34m,\u001b[0m \u001b[0mx\u001b[0m\u001b[0;34m)\u001b[0m\u001b[0;34m:\u001b[0m\u001b[0;34m\u001b[0m\u001b[0;34m\u001b[0m\u001b[0m\n\u001b[1;32m    544\u001b[0m         \u001b[0;32mtry\u001b[0m\u001b[0;34m:\u001b[0m\u001b[0;34m\u001b[0m\u001b[0;34m\u001b[0m\u001b[0m\n\u001b[0;32m--> 545\u001b[0;31m             \u001b[0;32mreturn\u001b[0m \u001b[0mself\u001b[0m\u001b[0;34m.\u001b[0m\u001b[0mf\u001b[0m\u001b[0;34m(\u001b[0m\u001b[0mx\u001b[0m\u001b[0;34m,\u001b[0m \u001b[0;34m*\u001b[0m\u001b[0mself\u001b[0m\u001b[0;34m.\u001b[0m\u001b[0margs\u001b[0m\u001b[0;34m,\u001b[0m \u001b[0;34m**\u001b[0m\u001b[0mself\u001b[0m\u001b[0;34m.\u001b[0m\u001b[0mkwargs\u001b[0m\u001b[0;34m)\u001b[0m\u001b[0;34m\u001b[0m\u001b[0;34m\u001b[0m\u001b[0m\n\u001b[0m\u001b[1;32m    546\u001b[0m         \u001b[0;32mexcept\u001b[0m\u001b[0;34m:\u001b[0m  \u001b[0;31m# pragma: no cover\u001b[0m\u001b[0;34m\u001b[0m\u001b[0;34m\u001b[0m\u001b[0m\n\u001b[1;32m    547\u001b[0m             \u001b[0;32mimport\u001b[0m \u001b[0mtraceback\u001b[0m\u001b[0;34m\u001b[0m\u001b[0;34m\u001b[0m\u001b[0m\n",
      "\u001b[0;32m~/Dropbox (UFL)/Research/MetallicityProject/photoeccentric/photoeccentric/photoeccentric.py\u001b[0m in \u001b[0;36mtfit_noper_log_probability\u001b[0;34m(theta, per, time, ptime, flux, flux_err)\u001b[0m\n\u001b[1;32m    973\u001b[0m     \u001b[0;32mif\u001b[0m \u001b[0;32mnot\u001b[0m \u001b[0mnp\u001b[0m\u001b[0;34m.\u001b[0m\u001b[0misfinite\u001b[0m\u001b[0;34m(\u001b[0m\u001b[0mlp\u001b[0m\u001b[0;34m)\u001b[0m\u001b[0;34m:\u001b[0m\u001b[0;34m\u001b[0m\u001b[0;34m\u001b[0m\u001b[0m\n\u001b[1;32m    974\u001b[0m         \u001b[0;32mreturn\u001b[0m \u001b[0;34m-\u001b[0m\u001b[0mnp\u001b[0m\u001b[0;34m.\u001b[0m\u001b[0minf\u001b[0m\u001b[0;34m\u001b[0m\u001b[0;34m\u001b[0m\u001b[0m\n\u001b[0;32m--> 975\u001b[0;31m     \u001b[0;32mreturn\u001b[0m \u001b[0mlp\u001b[0m \u001b[0;34m+\u001b[0m \u001b[0mtfit_noper_log_likelihood\u001b[0m\u001b[0;34m(\u001b[0m\u001b[0mtheta\u001b[0m\u001b[0;34m,\u001b[0m \u001b[0mper\u001b[0m\u001b[0;34m,\u001b[0m \u001b[0mtime\u001b[0m\u001b[0;34m,\u001b[0m \u001b[0mptime\u001b[0m\u001b[0;34m,\u001b[0m \u001b[0mflux\u001b[0m\u001b[0;34m,\u001b[0m \u001b[0mflux_err\u001b[0m\u001b[0;34m)\u001b[0m\u001b[0;34m\u001b[0m\u001b[0;34m\u001b[0m\u001b[0m\n\u001b[0m\u001b[1;32m    976\u001b[0m \u001b[0;34m\u001b[0m\u001b[0m\n\u001b[1;32m    977\u001b[0m \u001b[0;31m##############################################################################################\u001b[0m\u001b[0;34m\u001b[0m\u001b[0;34m\u001b[0m\u001b[0;34m\u001b[0m\u001b[0m\n",
      "\u001b[0;32m~/Dropbox (UFL)/Research/MetallicityProject/photoeccentric/photoeccentric/photoeccentric.py\u001b[0m in \u001b[0;36mtfit_noper_log_likelihood\u001b[0;34m(theta, per, time, ptime, flux, flux_err)\u001b[0m\n\u001b[1;32m    947\u001b[0m     \u001b[0mrp\u001b[0m\u001b[0;34m,\u001b[0m \u001b[0ma\u001b[0m\u001b[0;34m,\u001b[0m \u001b[0minc\u001b[0m\u001b[0;34m,\u001b[0m \u001b[0mt0\u001b[0m \u001b[0;34m=\u001b[0m \u001b[0mtheta\u001b[0m\u001b[0;34m\u001b[0m\u001b[0;34m\u001b[0m\u001b[0m\n\u001b[1;32m    948\u001b[0m \u001b[0;34m\u001b[0m\u001b[0m\n\u001b[0;32m--> 949\u001b[0;31m     \u001b[0mmodel\u001b[0m \u001b[0;34m=\u001b[0m \u001b[0mintegratedlc_fitter\u001b[0m\u001b[0;34m(\u001b[0m\u001b[0mtime\u001b[0m\u001b[0;34m,\u001b[0m \u001b[0mper\u001b[0m\u001b[0;34m,\u001b[0m \u001b[0mrp\u001b[0m\u001b[0;34m,\u001b[0m \u001b[0ma\u001b[0m\u001b[0;34m,\u001b[0m \u001b[0minc\u001b[0m\u001b[0;34m,\u001b[0m \u001b[0mt0\u001b[0m\u001b[0;34m)\u001b[0m\u001b[0;34m\u001b[0m\u001b[0;34m\u001b[0m\u001b[0m\n\u001b[0m\u001b[1;32m    950\u001b[0m     \u001b[0msigma2\u001b[0m \u001b[0;34m=\u001b[0m \u001b[0mflux_err\u001b[0m \u001b[0;34m**\u001b[0m \u001b[0;36m2\u001b[0m\u001b[0;34m\u001b[0m\u001b[0;34m\u001b[0m\u001b[0m\n\u001b[1;32m    951\u001b[0m \u001b[0;34m\u001b[0m\u001b[0m\n",
      "\u001b[0;32m~/Dropbox (UFL)/Research/MetallicityProject/photoeccentric/photoeccentric/lcfitter.py\u001b[0m in \u001b[0;36mintegratedlc_fitter\u001b[0;34m(time, per, rp, ars, inc, t0)\u001b[0m\n\u001b[1;32m    162\u001b[0m \u001b[0;34m\u001b[0m\u001b[0m\n\u001b[1;32m    163\u001b[0m     \u001b[0;31m#times to calculate light curve\u001b[0m\u001b[0;34m\u001b[0m\u001b[0;34m\u001b[0m\u001b[0;34m\u001b[0m\u001b[0m\n\u001b[0;32m--> 164\u001b[0;31m     \u001b[0mptime\u001b[0m \u001b[0;34m=\u001b[0m \u001b[0mget_ptime\u001b[0m\u001b[0;34m(\u001b[0m\u001b[0mtime\u001b[0m\u001b[0;34m,\u001b[0m \u001b[0mget_mid\u001b[0m\u001b[0;34m(\u001b[0m\u001b[0mtime\u001b[0m\u001b[0;34m)\u001b[0m\u001b[0;34m,\u001b[0m \u001b[0;36m29\u001b[0m\u001b[0;34m)\u001b[0m\u001b[0;34m\u001b[0m\u001b[0;34m\u001b[0m\u001b[0m\n\u001b[0m\u001b[1;32m    165\u001b[0m \u001b[0;34m\u001b[0m\u001b[0m\n\u001b[1;32m    166\u001b[0m     \u001b[0mm\u001b[0m \u001b[0;34m=\u001b[0m \u001b[0mbatman\u001b[0m\u001b[0;34m.\u001b[0m\u001b[0mTransitModel\u001b[0m\u001b[0;34m(\u001b[0m\u001b[0mparams\u001b[0m\u001b[0;34m,\u001b[0m \u001b[0mptime\u001b[0m\u001b[0;34m)\u001b[0m\u001b[0;34m\u001b[0m\u001b[0;34m\u001b[0m\u001b[0m\n",
      "\u001b[0;32m~/Dropbox (UFL)/Research/MetallicityProject/photoeccentric/photoeccentric/lcfitter.py\u001b[0m in \u001b[0;36mget_ptime\u001b[0;34m(time, mid, num)\u001b[0m\n\u001b[1;32m    269\u001b[0m \u001b[0;34m\u001b[0m\u001b[0m\n\u001b[1;32m    270\u001b[0m     \u001b[0;32mfor\u001b[0m \u001b[0mi\u001b[0m \u001b[0;32min\u001b[0m \u001b[0mrange\u001b[0m\u001b[0;34m(\u001b[0m\u001b[0mlen\u001b[0m\u001b[0;34m(\u001b[0m\u001b[0mtime\u001b[0m\u001b[0;34m)\u001b[0m\u001b[0;34m)\u001b[0m\u001b[0;34m:\u001b[0m\u001b[0;34m\u001b[0m\u001b[0;34m\u001b[0m\u001b[0m\n\u001b[0;32m--> 271\u001b[0;31m         \u001b[0mettemp\u001b[0m \u001b[0;34m=\u001b[0m \u001b[0mnp\u001b[0m\u001b[0;34m.\u001b[0m\u001b[0mlinspace\u001b[0m\u001b[0;34m(\u001b[0m\u001b[0mtime\u001b[0m\u001b[0;34m[\u001b[0m\u001b[0mi\u001b[0m\u001b[0;34m]\u001b[0m\u001b[0;34m-\u001b[0m\u001b[0mmid\u001b[0m\u001b[0;34m,\u001b[0m \u001b[0mtime\u001b[0m\u001b[0;34m[\u001b[0m\u001b[0mi\u001b[0m\u001b[0;34m]\u001b[0m\u001b[0;34m+\u001b[0m\u001b[0mmid\u001b[0m\u001b[0;34m,\u001b[0m \u001b[0mnum\u001b[0m\u001b[0;34m,\u001b[0m \u001b[0mendpoint\u001b[0m\u001b[0;34m=\u001b[0m\u001b[0;32mTrue\u001b[0m\u001b[0;34m)\u001b[0m\u001b[0;34m\u001b[0m\u001b[0;34m\u001b[0m\u001b[0m\n\u001b[0m\u001b[1;32m    272\u001b[0m         \u001b[0mettemp\u001b[0m \u001b[0;34m=\u001b[0m \u001b[0mlist\u001b[0m\u001b[0;34m(\u001b[0m\u001b[0mettemp\u001b[0m\u001b[0;34m)\u001b[0m\u001b[0;34m\u001b[0m\u001b[0;34m\u001b[0m\u001b[0m\n\u001b[1;32m    273\u001b[0m \u001b[0;34m\u001b[0m\u001b[0m\n",
      "\u001b[0;32m<__array_function__ internals>\u001b[0m in \u001b[0;36mlinspace\u001b[0;34m(*args, **kwargs)\u001b[0m\n",
      "\u001b[0;32m~/anaconda3/lib/python3.8/site-packages/numpy/core/function_base.py\u001b[0m in \u001b[0;36mlinspace\u001b[0;34m(start, stop, num, endpoint, retstep, dtype, axis)\u001b[0m\n\u001b[1;32m    173\u001b[0m         \u001b[0;32mreturn\u001b[0m \u001b[0my\u001b[0m\u001b[0;34m.\u001b[0m\u001b[0mastype\u001b[0m\u001b[0;34m(\u001b[0m\u001b[0mdtype\u001b[0m\u001b[0;34m,\u001b[0m \u001b[0mcopy\u001b[0m\u001b[0;34m=\u001b[0m\u001b[0;32mFalse\u001b[0m\u001b[0;34m)\u001b[0m\u001b[0;34m,\u001b[0m \u001b[0mstep\u001b[0m\u001b[0;34m\u001b[0m\u001b[0;34m\u001b[0m\u001b[0m\n\u001b[1;32m    174\u001b[0m     \u001b[0;32melse\u001b[0m\u001b[0;34m:\u001b[0m\u001b[0;34m\u001b[0m\u001b[0;34m\u001b[0m\u001b[0m\n\u001b[0;32m--> 175\u001b[0;31m         \u001b[0;32mreturn\u001b[0m \u001b[0my\u001b[0m\u001b[0;34m.\u001b[0m\u001b[0mastype\u001b[0m\u001b[0;34m(\u001b[0m\u001b[0mdtype\u001b[0m\u001b[0;34m,\u001b[0m \u001b[0mcopy\u001b[0m\u001b[0;34m=\u001b[0m\u001b[0;32mFalse\u001b[0m\u001b[0;34m)\u001b[0m\u001b[0;34m\u001b[0m\u001b[0;34m\u001b[0m\u001b[0m\n\u001b[0m\u001b[1;32m    176\u001b[0m \u001b[0;34m\u001b[0m\u001b[0m\n\u001b[1;32m    177\u001b[0m \u001b[0;34m\u001b[0m\u001b[0m\n",
      "\u001b[0;31mKeyboardInterrupt\u001b[0m: "
     ]
    },
    {
     "data": {
      "image/png": "[encoded data removed]",
      "text/plain": [
       "<Figure size 864x576 with 1 Axes>"
      ]
     },
     "metadata": {
      "needs_background": "light"
     },
     "output_type": "display_data"
    }
   ],
   "source": [
    "fit_Kepler_lc(947, alltime, allflux, allfluxerr, period, 9, midjd, spectplanets, muirhead_comb)"
   ]
  },
  {
   "cell_type": "code",
   "execution_count": 46,
   "metadata": {},
   "outputs": [],
   "source": [
    "period = 28.59915399\n",
    "\n",
    "t0 = hdu[1].header['BJDREFI']\n",
    "tm1 = hdu[1].header['BJDREFI']+period*100\n",
    "tmidtimes = np.arange(t0, tm1, period)"
   ]
  },
  {
   "cell_type": "code",
   "execution_count": 47,
   "metadata": {},
   "outputs": [],
   "source": [
    "midjd = pd.read_csv('/Users/ssagear/Dropbox (UFL)/Research/MetallicityProject/photoeccentric/notebooks/datafiles/keplerstellar/transitmpts/MuirheadKOIs_4_MPTS.csv', comment='#')\n"
   ]
  },
  {
   "cell_type": "code",
   "execution_count": 48,
   "metadata": {},
   "outputs": [],
   "source": [
    "midpoints = [item for item in midjd[midjd['username'] == 'KOI 947']['midpointjd']]\n",
    "midpoints_errs = [item for item in midjd[midjd['username'] == 'KOI 947']['propmidpointunc']]"
   ]
  },
  {
   "cell_type": "code",
   "execution_count": 49,
   "metadata": {},
   "outputs": [],
   "source": [
    "cmtimes = []\n",
    "cmerrors = []\n",
    "\n",
    "for j in range(len(midpoints)):\n",
    "    if alltime[0] < midpoints[j] < alltime[-1]:\n",
    "        cmtimes.append(midpoints[j])\n",
    "        cmerrors.append(midpoints_errs[j])"
   ]
  },
  {
   "cell_type": "code",
   "execution_count": 50,
   "metadata": {},
   "outputs": [],
   "source": [
    "#cmtimes[6] = cmtimes[6] + 0.017\n",
    "#cmtimes[-6] = cmtimes[-6] - 0.017\n",
    "\n",
    "mp = 1\n",
    "\n",
    "transitmid = cmtimes[mp]\n",
    "transitmid_err = cmerrors[mp]\n",
    "\n",
    "transitmid = cmtimes[mp]"
   ]
  },
  {
   "cell_type": "code",
   "execution_count": 51,
   "metadata": {},
   "outputs": [],
   "source": [
    "start = hdu[1].header['TSTART'] + hdu[1].header['BJDREFI']\n",
    "end = hdu[1].header['TSTOP'] + hdu[1].header['BJDREFI']"
   ]
  },
  {
   "cell_type": "code",
   "execution_count": 52,
   "metadata": {},
   "outputs": [],
   "source": [
    "mid = ph.get_mid(alltime)"
   ]
  },
  {
   "cell_type": "code",
   "execution_count": 53,
   "metadata": {},
   "outputs": [],
   "source": [
    "tindex = int(np.where(alltime == ph.find_nearest(alltime, transitmid))[0])"
   ]
  },
  {
   "cell_type": "code",
   "execution_count": 54,
   "metadata": {},
   "outputs": [],
   "source": [
    "n = 6\n",
    "\n",
    "t1 = np.array(alltime[tindex-n:tindex+n]) - transitmid\n",
    "f1 = np.array(allflux[tindex-n:tindex+n])\n",
    "fe1 = np.array(allfluxerr[tindex-n:tindex+n])"
   ]
  },
  {
   "cell_type": "code",
   "execution_count": 55,
   "metadata": {},
   "outputs": [],
   "source": [
    "# plt.errorbar(alltime, allflux, yerr=allfluxerr, fmt='o')\n",
    "# plt.axvline(cmtimes[5], c='r')\n",
    "# plt.axvline(cmtimes[6], c='r')\n",
    "# plt.xlim(cmtimes[5]-3, cmtimes[6]+3)\n",
    "# plt.ylim(.990, 1.010)"
   ]
  },
  {
   "cell_type": "code",
   "execution_count": 56,
   "metadata": {},
   "outputs": [
    {
     "data": {
      "text/plain": [
       "<matplotlib.lines.Line2D at 0x7f877b217040>"
      ]
     },
     "execution_count": 56,
     "metadata": {},
     "output_type": "execute_result"
    },
    {
     "data": {
      "image/png": "[encoded data removed]",
      "text/plain": [
       "<Figure size 864x576 with 1 Axes>"
      ]
     },
     "metadata": {
      "needs_background": "light"
     },
     "output_type": "display_data"
    }
   ],
   "source": [
    "plt.errorbar(t1, f1, yerr=fe1)\n",
    "#plt.axvline(0+transitmid_err, c='r')\n",
    "#plt.axvline(0-transitmid_err, c='r')\n",
    "plt.axvline(0, c='r')\n"
   ]
  },
  {
   "cell_type": "code",
   "execution_count": 73,
   "metadata": {},
   "outputs": [
    {
     "name": "stdout",
     "output_type": "stream",
     "text": [
      "[ True  True  True  True  True  True  True  True  True  True  True  True]\n"
     ]
    },
    {
     "data": {
      "text/plain": [
       "<matplotlib.collections.PathCollection at 0x7f87582b9340>"
      ]
     },
     "execution_count": 73,
     "metadata": {},
     "output_type": "execute_result"
    },
    {
     "data": {
      "image/png": "[encoded data removed]",
      "text/plain": [
       "<Figure size 864x576 with 1 Axes>"
      ]
     },
     "metadata": {
      "needs_background": "light"
     },
     "output_type": "display_data"
    }
   ],
   "source": [
    "idx = np.isfinite(t1) & np.isfinite(f1)\n",
    "print(idx)\n",
    "disc = 3\n",
    "\n",
    "a, b, c = np.polyfit(np.concatenate((t1[idx][:disc], t1[idx][-disc:])), np.concatenate((f1[idx][:disc], f1[idx][-disc:])), 2)\n",
    "m, b = np.polyfit(np.concatenate((t1[idx][:disc], t1[idx][-disc:])), np.concatenate((f1[idx][:disc], f1[idx][-disc:])), 1)\n",
    "\n",
    "\n",
    "plt.scatter(np.concatenate((t1[idx][:disc], t1[idx][-disc:])), np.concatenate((f1[idx][:disc], f1[idx][-disc:])))"
   ]
  },
  {
   "cell_type": "code",
   "execution_count": 65,
   "metadata": {},
   "outputs": [
    {
     "data": {
      "text/plain": [
       "<matplotlib.lines.Line2D at 0x7f8796bb8a00>"
      ]
     },
     "execution_count": 65,
     "metadata": {},
     "output_type": "execute_result"
    },
    {
     "data": {
      "image/png": "[encoded data removed]",
      "text/plain": [
       "<Figure size 864x576 with 1 Axes>"
      ]
     },
     "metadata": {
      "needs_background": "light"
     },
     "output_type": "display_data"
    }
   ],
   "source": [
    "plt.plot(t1, m*t1 + b, c='g')\n",
    "#plt.plot(t1, a*t1**2 + b*t1 + c, c='g')\n",
    "plt.errorbar(t1, f1, yerr=fe1, fmt='o')\n",
    "plt.axvline(0, c='r')"
   ]
  },
  {
   "cell_type": "code",
   "execution_count": 66,
   "metadata": {},
   "outputs": [],
   "source": [
    "linfit = m*t1 + b\n",
    "fnorm = (f1-linfit)+1\n",
    "\n",
    "#quadfit = a*t1**2 + b*t1 + c\n",
    "#fnorm = (f1-quadfit)+1"
   ]
  },
  {
   "cell_type": "code",
   "execution_count": 67,
   "metadata": {},
   "outputs": [
    {
     "data": {
      "text/plain": [
       "<matplotlib.lines.Line2D at 0x7f87a6f79d30>"
      ]
     },
     "execution_count": 67,
     "metadata": {},
     "output_type": "execute_result"
    },
    {
     "data": {
      "image/png": "[encoded data removed]",
      "text/plain": [
       "<Figure size 864x576 with 1 Axes>"
      ]
     },
     "metadata": {
      "needs_background": "light"
     },
     "output_type": "display_data"
    }
   ],
   "source": [
    "plt.errorbar(t1, fnorm, yerr=fe1, fmt='o')\n",
    "plt.axvline(0, c='r')"
   ]
  },
  {
   "cell_type": "code",
   "execution_count": 68,
   "metadata": {},
   "outputs": [
    {
     "data": {
      "text/plain": [
       "0.01021709106862545"
      ]
     },
     "execution_count": 68,
     "metadata": {},
     "output_type": "execute_result"
    }
   ],
   "source": [
    "mid"
   ]
  },
  {
   "cell_type": "code",
   "execution_count": 69,
   "metadata": {},
   "outputs": [],
   "source": [
    "ptime = ph.get_ptime(t1, mid, 29)\n",
    "fnorm = np.nan_to_num(fnorm, nan=1.0)\n",
    "fe1 = np.nan_to_num(fe1, nan=np.nanmedian(fe1))"
   ]
  },
  {
   "cell_type": "code",
   "execution_count": 70,
   "metadata": {},
   "outputs": [],
   "source": [
    "#fnorm[np.argmax(fnorm)] = np.nanmedian(fnorm)"
   ]
  },
  {
   "cell_type": "code",
   "execution_count": 71,
   "metadata": {},
   "outputs": [],
   "source": [
    "#fe1 = fe1/4"
   ]
  },
  {
   "cell_type": "code",
   "execution_count": 72,
   "metadata": {},
   "outputs": [
    {
     "data": {
      "text/plain": [
       "<matplotlib.lines.Line2D at 0x7f877be6cd60>"
      ]
     },
     "execution_count": 72,
     "metadata": {},
     "output_type": "execute_result"
    },
    {
     "data": {
      "image/png": "[encoded data removed]",
      "text/plain": [
       "<Figure size 864x576 with 1 Axes>"
      ]
     },
     "metadata": {
      "needs_background": "light"
     },
     "output_type": "display_data"
    }
   ],
   "source": [
    "plt.errorbar(t1, fnorm, yerr=fe1, fmt='o')\n",
    "plt.axvline(0, c='r')"
   ]
  },
  {
   "cell_type": "code",
   "execution_count": 40,
   "metadata": {},
   "outputs": [
    {
     "name": "stderr",
     "output_type": "stream",
     "text": [
      "  8%|▊         | 123/1500 [00:03<00:30, 45.72it/s]Traceback (most recent call last):\n",
      "  File \"/Users/ssagear/anaconda3/lib/python3.8/site-packages/emcee/ensemble.py\", line 545, in __call__\n",
      "    return self.f(x, *self.args, **self.kwargs)\n",
      "  File \"/Users/ssagear/Dropbox (UFL)/Research/MetallicityProject/photoeccentric/photoeccentric/photoeccentric.py\", line 973, in tfit_noper_log_probability\n",
      "    return lp + tfit_noper_log_likelihood(theta, per, time, ptime, flux, flux_err)\n",
      "  File \"/Users/ssagear/Dropbox (UFL)/Research/MetallicityProject/photoeccentric/photoeccentric/photoeccentric.py\", line 948, in tfit_noper_log_likelihood\n",
      "    model = integratedlc_fitter(time, per, rp, a, inc, t0)\n",
      "  File \"/Users/ssagear/Dropbox (UFL)/Research/MetallicityProject/photoeccentric/photoeccentric/lcfitter.py\", line 164, in integratedlc_fitter\n",
      "    ptime = get_ptime(time, get_mid(time), 29)\n",
      "  File \"/Users/ssagear/Dropbox (UFL)/Research/MetallicityProject/photoeccentric/photoeccentric/lcfitter.py\", line 271, in get_ptime\n",
      "    ettemp = np.linspace(time[i]-mid, time[i]+mid, num, endpoint=True)\n",
      "  File \"<__array_function__ internals>\", line 5, in linspace\n",
      "  File \"/Users/ssagear/anaconda3/lib/python3.8/site-packages/numpy/core/function_base.py\", line 151, in linspace\n",
      "    y *= step\n",
      "KeyboardInterrupt\n",
      "  8%|▊         | 124/1500 [00:03<00:35, 38.74it/s]\n"
     ]
    },
    {
     "name": "stdout",
     "output_type": "stream",
     "text": [
      "emcee: Exception while calling your likelihood function:\n",
      "  params: [   0.54895355  125.55668043   49.28103601 -226.9785562 ]\n",
      "  args: (28.59915399, array([-0.12571831, -0.10528542, -0.08485254, -0.06441965, -0.04398676,\n",
      "       -0.02355387, -0.00312098,  0.01731191,  0.0377448 ,  0.05817768,\n",
      "        0.07861057,  0.09904346]), array([-0.1359354 , -0.13520561, -0.13447582, -0.13374603, -0.13301623,\n",
      "       -0.13228644, -0.13155665, -0.13082686, -0.13009707, -0.12936727,\n",
      "       -0.12863748, -0.12790769, -0.1271779 , -0.12644811, -0.12571831,\n",
      "       -0.12498852, -0.12425873, -0.12352894, -0.12279914, -0.12206935,\n",
      "       -0.12133956, -0.12060977, -0.11987998, -0.11915018, -0.11842039,\n",
      "       -0.1176906 , -0.11696081, -0.11623101, -0.11550122, -0.11550252,\n",
      "       -0.11477272, -0.11404293, -0.11331314, -0.11258335, -0.11185355,\n",
      "       -0.11112376, -0.11039397, -0.10966418, -0.10893439, -0.10820459,\n",
      "       -0.1074748 , -0.10674501, -0.10601522, -0.10528542, -0.10455563,\n",
      "       -0.10382584, -0.10309605, -0.10236626, -0.10163646, -0.10090667,\n",
      "       -0.10017688, -0.09944709, -0.09871729, -0.0979875 , -0.09725771,\n",
      "       -0.09652792, -0.09579813, -0.09506833, -0.09506963, -0.09433983,\n",
      "       -0.09361004, -0.09288025, -0.09215046, -0.09142067, -0.09069087,\n",
      "       -0.08996108, -0.08923129, -0.0885015 , -0.0877717 , -0.08704191,\n",
      "       -0.08631212, -0.08558233, -0.08485254, -0.08412274, -0.08339295,\n",
      "       -0.08266316, -0.08193337, -0.08120357, -0.08047378, -0.07974399,\n",
      "       -0.0790142 , -0.07828441, -0.07755461, -0.07682482, -0.07609503,\n",
      "       -0.07536524, -0.07463544, -0.07463674, -0.07390695, -0.07317715,\n",
      "       -0.07244736, -0.07171757, -0.07098778, -0.07025798, -0.06952819,\n",
      "       -0.0687984 , -0.06806861, -0.06733882, -0.06660902, -0.06587923,\n",
      "       -0.06514944, -0.06441965, -0.06368985, -0.06296006, -0.06223027,\n",
      "       -0.06150048, -0.06077069, -0.06004089, -0.0593111 , -0.05858131,\n",
      "       -0.05785152, -0.05712172, -0.05639193, -0.05566214, -0.05493235,\n",
      "       -0.05420256, -0.05420385, -0.05347406, -0.05274426, -0.05201447,\n",
      "       -0.05128468, -0.05055489, -0.0498251 , -0.0490953 , -0.04836551,\n",
      "       -0.04763572, -0.04690593, -0.04617613, -0.04544634, -0.04471655,\n",
      "       -0.04398676, -0.04325697, -0.04252717, -0.04179738, -0.04106759,\n",
      "       -0.0403378 , -0.039608  , -0.03887821, -0.03814842, -0.03741863,\n",
      "       -0.03668884, -0.03595904, -0.03522925, -0.03449946, -0.03376967,\n",
      "       -0.03377096, -0.03304117, -0.03231138, -0.03158158, -0.03085179,\n",
      "       -0.030122  , -0.02939221, -0.02866241, -0.02793262, -0.02720283,\n",
      "       -0.02647304, -0.02574325, -0.02501345, -0.02428366, -0.02355387,\n",
      "       -0.02282408, -0.02209428, -0.02136449, -0.0206347 , -0.01990491,\n",
      "       -0.01917512, -0.01844532, -0.01771553, -0.01698574, -0.01625595,\n",
      "       -0.01552615, -0.01479636, -0.01406657, -0.01333678, -0.01333807,\n",
      "       -0.01260828, -0.01187849, -0.0111487 , -0.0104189 , -0.00968911,\n",
      "       -0.00895932, -0.00822953, -0.00749973, -0.00676994, -0.00604015,\n",
      "       -0.00531036, -0.00458057, -0.00385077, -0.00312098, -0.00239119,\n",
      "       -0.0016614 , -0.0009316 , -0.00020181,  0.00052798,  0.00125777,\n",
      "        0.00198756,  0.00271736,  0.00344715,  0.00417694,  0.00490673,\n",
      "        0.00563653,  0.00636632,  0.00709611,  0.00709482,  0.00782461,\n",
      "        0.0085544 ,  0.00928419,  0.01001399,  0.01074378,  0.01147357,\n",
      "        0.01220336,  0.01293315,  0.01366295,  0.01439274,  0.01512253,\n",
      "        0.01585232,  0.01658212,  0.01731191,  0.0180417 ,  0.01877149,\n",
      "        0.01950128,  0.02023108,  0.02096087,  0.02169066,  0.02242045,\n",
      "        0.02315025,  0.02388004,  0.02460983,  0.02533962,  0.02606941,\n",
      "        0.02679921,  0.027529  ,  0.0275277 ,  0.0282575 ,  0.02898729,\n",
      "        0.02971708,  0.03044687,  0.03117667,  0.03190646,  0.03263625,\n",
      "        0.03336604,  0.03409583,  0.03482563,  0.03555542,  0.03628521,\n",
      "        0.037015  ,  0.0377448 ,  0.03847459,  0.03920438,  0.03993417,\n",
      "        0.04066396,  0.04139376,  0.04212355,  0.04285334,  0.04358313,\n",
      "        0.04431293,  0.04504272,  0.04577251,  0.0465023 ,  0.04723209,\n",
      "        0.04796189,  0.04796059,  0.04869039,  0.04942018,  0.05014997,\n",
      "        0.05087976,  0.05160955,  0.05233935,  0.05306914,  0.05379893,\n",
      "        0.05452872,  0.05525852,  0.05598831,  0.0567181 ,  0.05744789,\n",
      "        0.05817768,  0.05890748,  0.05963727,  0.06036706,  0.06109685,\n",
      "        0.06182665,  0.06255644,  0.06328623,  0.06401602,  0.06474581,\n",
      "        0.06547561,  0.0662054 ,  0.06693519,  0.06766498,  0.06839478,\n",
      "        0.06839348,  0.06912327,  0.06985307,  0.07058286,  0.07131265,\n",
      "        0.07204244,  0.07277223,  0.07350203,  0.07423182,  0.07496161,\n",
      "        0.0756914 ,  0.0764212 ,  0.07715099,  0.07788078,  0.07861057,\n",
      "        0.07934036,  0.08007016,  0.08079995,  0.08152974,  0.08225953,\n",
      "        0.08298933,  0.08371912,  0.08444891,  0.0851787 ,  0.08590849,\n",
      "        0.08663829,  0.08736808,  0.08809787,  0.08882766,  0.08882637,\n",
      "        0.08955616,  0.09028595,  0.09101575,  0.09174554,  0.09247533,\n",
      "        0.09320512,  0.09393491,  0.09466471,  0.0953945 ,  0.09612429,\n",
      "        0.09685408,  0.09758388,  0.09831367,  0.09904346,  0.09977325,\n",
      "        0.10050304,  0.10123284,  0.10196263,  0.10269242,  0.10342221,\n",
      "        0.10415201,  0.1048818 ,  0.10561159,  0.10634138,  0.10707117,\n",
      "        0.10780097,  0.10853076,  0.10926055]), array([0.99919   , 1.00078525, 1.00101603, 1.00157678, 0.9995576 ,\n",
      "       0.99951241, 1.00014898, 0.99999388, 1.00101167, 0.99989789,\n",
      "       1.00105755, 0.9989672 ]), array([0.00067778, 0.00067794, 0.00067789, 0.00067803, 0.00067793,\n",
      "       0.00067788, 0.00067787, 0.00067787, 0.00067799, 0.00067789,\n",
      "       0.00067777, 0.0006777 ], dtype=float32))\n",
      "  kwargs: {}\n",
      "  exception:\n"
     ]
    },
    {
     "ename": "KeyboardInterrupt",
     "evalue": "",
     "output_type": "error",
     "traceback": [
      "\u001b[0;31m---------------------------------------------------------------------------\u001b[0m",
      "\u001b[0;31mKeyboardInterrupt\u001b[0m                         Traceback (most recent call last)",
      "\u001b[0;32m<ipython-input-40-0682802bb9c8>\u001b[0m in \u001b[0;36m<module>\u001b[0;34m\u001b[0m\n\u001b[1;32m      9\u001b[0m \u001b[0;34m\u001b[0m\u001b[0m\n\u001b[1;32m     10\u001b[0m \u001b[0;31m# EMCEE Transit Model Fitting\u001b[0m\u001b[0;34m\u001b[0m\u001b[0;34m\u001b[0m\u001b[0;34m\u001b[0m\u001b[0m\n\u001b[0;32m---> 11\u001b[0;31m \u001b[0m_\u001b[0m\u001b[0;34m,\u001b[0m \u001b[0m_\u001b[0m\u001b[0;34m,\u001b[0m \u001b[0mrdist\u001b[0m\u001b[0;34m,\u001b[0m \u001b[0madist\u001b[0m\u001b[0;34m,\u001b[0m \u001b[0midist\u001b[0m\u001b[0;34m,\u001b[0m \u001b[0mt0dist\u001b[0m \u001b[0;34m=\u001b[0m \u001b[0mph\u001b[0m\u001b[0;34m.\u001b[0m\u001b[0mmcmc_fitter_noper\u001b[0m\u001b[0;34m(\u001b[0m\u001b[0mp0\u001b[0m\u001b[0;34m,\u001b[0m \u001b[0mperiod\u001b[0m\u001b[0;34m,\u001b[0m \u001b[0mt1\u001b[0m\u001b[0;34m,\u001b[0m \u001b[0mptime\u001b[0m\u001b[0;34m,\u001b[0m \u001b[0mfnorm\u001b[0m\u001b[0;34m,\u001b[0m \u001b[0mfe1\u001b[0m\u001b[0;34m,\u001b[0m \u001b[0mnwalk\u001b[0m\u001b[0;34m,\u001b[0m \u001b[0mnsteps_d\u001b[0m\u001b[0;34m,\u001b[0m \u001b[0mndiscard_d\u001b[0m\u001b[0;34m,\u001b[0m \u001b[0;34m'X'\u001b[0m\u001b[0;34m,\u001b[0m \u001b[0;34m'X'\u001b[0m\u001b[0;34m,\u001b[0m \u001b[0mdirect\u001b[0m\u001b[0;34m)\u001b[0m\u001b[0;34m\u001b[0m\u001b[0;34m\u001b[0m\u001b[0m\n\u001b[0m",
      "\u001b[0;32m~/Dropbox (UFL)/Research/MetallicityProject/photoeccentric/photoeccentric/photoeccentric.py\u001b[0m in \u001b[0;36mmcmc_fitter_noper\u001b[0;34m(guess_transit, per, time, ptime, nflux, flux_err, nwalk, nsteps, ndiscard, e, w, directory, plot_Tburnin, plot_Tcorner)\u001b[0m\n\u001b[1;32m   1031\u001b[0m \u001b[0;34m\u001b[0m\u001b[0m\n\u001b[1;32m   1032\u001b[0m     \u001b[0msampler\u001b[0m \u001b[0;34m=\u001b[0m \u001b[0memcee\u001b[0m\u001b[0;34m.\u001b[0m\u001b[0mEnsembleSampler\u001b[0m\u001b[0;34m(\u001b[0m\u001b[0mnwalkers\u001b[0m\u001b[0;34m,\u001b[0m \u001b[0mndim\u001b[0m\u001b[0;34m,\u001b[0m \u001b[0mtfit_noper_log_probability\u001b[0m\u001b[0;34m,\u001b[0m \u001b[0margs\u001b[0m\u001b[0;34m=\u001b[0m\u001b[0;34m(\u001b[0m\u001b[0mper\u001b[0m\u001b[0;34m,\u001b[0m \u001b[0mtime\u001b[0m\u001b[0;34m,\u001b[0m \u001b[0mptime\u001b[0m\u001b[0;34m,\u001b[0m \u001b[0mnflux\u001b[0m\u001b[0;34m,\u001b[0m \u001b[0mflux_err\u001b[0m\u001b[0;34m)\u001b[0m\u001b[0;34m,\u001b[0m \u001b[0mthreads\u001b[0m\u001b[0;34m=\u001b[0m\u001b[0;36m4\u001b[0m\u001b[0;34m)\u001b[0m\u001b[0;34m\u001b[0m\u001b[0;34m\u001b[0m\u001b[0m\n\u001b[0;32m-> 1033\u001b[0;31m     \u001b[0msampler\u001b[0m\u001b[0;34m.\u001b[0m\u001b[0mrun_mcmc\u001b[0m\u001b[0;34m(\u001b[0m\u001b[0mpos\u001b[0m\u001b[0;34m,\u001b[0m \u001b[0mnsteps\u001b[0m\u001b[0;34m,\u001b[0m \u001b[0mprogress\u001b[0m\u001b[0;34m=\u001b[0m\u001b[0;32mTrue\u001b[0m\u001b[0;34m)\u001b[0m\u001b[0;34m;\u001b[0m\u001b[0;34m\u001b[0m\u001b[0;34m\u001b[0m\u001b[0m\n\u001b[0m\u001b[1;32m   1034\u001b[0m     \u001b[0msamples\u001b[0m \u001b[0;34m=\u001b[0m \u001b[0msampler\u001b[0m\u001b[0;34m.\u001b[0m\u001b[0mget_chain\u001b[0m\u001b[0;34m(\u001b[0m\u001b[0;34m)\u001b[0m\u001b[0;34m\u001b[0m\u001b[0;34m\u001b[0m\u001b[0m\n\u001b[1;32m   1035\u001b[0m \u001b[0;34m\u001b[0m\u001b[0m\n",
      "\u001b[0;32m~/anaconda3/lib/python3.8/site-packages/emcee/ensemble.py\u001b[0m in \u001b[0;36mrun_mcmc\u001b[0;34m(self, initial_state, nsteps, **kwargs)\u001b[0m\n\u001b[1;32m    382\u001b[0m \u001b[0;34m\u001b[0m\u001b[0m\n\u001b[1;32m    383\u001b[0m         \u001b[0mresults\u001b[0m \u001b[0;34m=\u001b[0m \u001b[0;32mNone\u001b[0m\u001b[0;34m\u001b[0m\u001b[0;34m\u001b[0m\u001b[0m\n\u001b[0;32m--> 384\u001b[0;31m         \u001b[0;32mfor\u001b[0m \u001b[0mresults\u001b[0m \u001b[0;32min\u001b[0m \u001b[0mself\u001b[0m\u001b[0;34m.\u001b[0m\u001b[0msample\u001b[0m\u001b[0;34m(\u001b[0m\u001b[0minitial_state\u001b[0m\u001b[0;34m,\u001b[0m \u001b[0miterations\u001b[0m\u001b[0;34m=\u001b[0m\u001b[0mnsteps\u001b[0m\u001b[0;34m,\u001b[0m \u001b[0;34m**\u001b[0m\u001b[0mkwargs\u001b[0m\u001b[0;34m)\u001b[0m\u001b[0;34m:\u001b[0m\u001b[0;34m\u001b[0m\u001b[0;34m\u001b[0m\u001b[0m\n\u001b[0m\u001b[1;32m    385\u001b[0m             \u001b[0;32mpass\u001b[0m\u001b[0;34m\u001b[0m\u001b[0;34m\u001b[0m\u001b[0m\n\u001b[1;32m    386\u001b[0m \u001b[0;34m\u001b[0m\u001b[0m\n",
      "\u001b[0;32m~/anaconda3/lib/python3.8/site-packages/emcee/ensemble.py\u001b[0m in \u001b[0;36msample\u001b[0;34m(self, initial_state, log_prob0, rstate0, blobs0, iterations, tune, skip_initial_state_check, thin_by, thin, store, progress)\u001b[0m\n\u001b[1;32m    341\u001b[0m \u001b[0;34m\u001b[0m\u001b[0m\n\u001b[1;32m    342\u001b[0m                     \u001b[0;31m# Propose\u001b[0m\u001b[0;34m\u001b[0m\u001b[0;34m\u001b[0m\u001b[0;34m\u001b[0m\u001b[0m\n\u001b[0;32m--> 343\u001b[0;31m                     \u001b[0mstate\u001b[0m\u001b[0;34m,\u001b[0m \u001b[0maccepted\u001b[0m \u001b[0;34m=\u001b[0m \u001b[0mmove\u001b[0m\u001b[0;34m.\u001b[0m\u001b[0mpropose\u001b[0m\u001b[0;34m(\u001b[0m\u001b[0mmodel\u001b[0m\u001b[0;34m,\u001b[0m \u001b[0mstate\u001b[0m\u001b[0;34m)\u001b[0m\u001b[0;34m\u001b[0m\u001b[0;34m\u001b[0m\u001b[0m\n\u001b[0m\u001b[1;32m    344\u001b[0m                     \u001b[0mstate\u001b[0m\u001b[0;34m.\u001b[0m\u001b[0mrandom_state\u001b[0m \u001b[0;34m=\u001b[0m \u001b[0mself\u001b[0m\u001b[0;34m.\u001b[0m\u001b[0mrandom_state\u001b[0m\u001b[0;34m\u001b[0m\u001b[0;34m\u001b[0m\u001b[0m\n\u001b[1;32m    345\u001b[0m \u001b[0;34m\u001b[0m\u001b[0m\n",
      "\u001b[0;32m~/anaconda3/lib/python3.8/site-packages/emcee/moves/red_blue.py\u001b[0m in \u001b[0;36mpropose\u001b[0;34m(self, model, state)\u001b[0m\n\u001b[1;32m     91\u001b[0m \u001b[0;34m\u001b[0m\u001b[0m\n\u001b[1;32m     92\u001b[0m             \u001b[0;31m# Compute the lnprobs of the proposed position.\u001b[0m\u001b[0;34m\u001b[0m\u001b[0;34m\u001b[0m\u001b[0;34m\u001b[0m\u001b[0m\n\u001b[0;32m---> 93\u001b[0;31m             \u001b[0mnew_log_probs\u001b[0m\u001b[0;34m,\u001b[0m \u001b[0mnew_blobs\u001b[0m \u001b[0;34m=\u001b[0m \u001b[0mmodel\u001b[0m\u001b[0;34m.\u001b[0m\u001b[0mcompute_log_prob_fn\u001b[0m\u001b[0;34m(\u001b[0m\u001b[0mq\u001b[0m\u001b[0;34m)\u001b[0m\u001b[0;34m\u001b[0m\u001b[0;34m\u001b[0m\u001b[0m\n\u001b[0m\u001b[1;32m     94\u001b[0m \u001b[0;34m\u001b[0m\u001b[0m\n\u001b[1;32m     95\u001b[0m             \u001b[0;31m# Loop over the walkers and update them accordingly.\u001b[0m\u001b[0;34m\u001b[0m\u001b[0;34m\u001b[0m\u001b[0;34m\u001b[0m\u001b[0m\n",
      "\u001b[0;32m~/anaconda3/lib/python3.8/site-packages/emcee/ensemble.py\u001b[0m in \u001b[0;36mcompute_log_prob\u001b[0;34m(self, coords)\u001b[0m\n\u001b[1;32m    424\u001b[0m             \u001b[0;32melse\u001b[0m\u001b[0;34m:\u001b[0m\u001b[0;34m\u001b[0m\u001b[0;34m\u001b[0m\u001b[0m\n\u001b[1;32m    425\u001b[0m                 \u001b[0mmap_func\u001b[0m \u001b[0;34m=\u001b[0m \u001b[0mmap\u001b[0m\u001b[0;34m\u001b[0m\u001b[0;34m\u001b[0m\u001b[0m\n\u001b[0;32m--> 426\u001b[0;31m             results = list(\n\u001b[0m\u001b[1;32m    427\u001b[0m                 \u001b[0mmap_func\u001b[0m\u001b[0;34m(\u001b[0m\u001b[0mself\u001b[0m\u001b[0;34m.\u001b[0m\u001b[0mlog_prob_fn\u001b[0m\u001b[0;34m,\u001b[0m \u001b[0;34m(\u001b[0m\u001b[0mp\u001b[0m\u001b[0;34m[\u001b[0m\u001b[0mi\u001b[0m\u001b[0;34m]\u001b[0m \u001b[0;32mfor\u001b[0m \u001b[0mi\u001b[0m \u001b[0;32min\u001b[0m \u001b[0mrange\u001b[0m\u001b[0;34m(\u001b[0m\u001b[0mlen\u001b[0m\u001b[0;34m(\u001b[0m\u001b[0mp\u001b[0m\u001b[0;34m)\u001b[0m\u001b[0;34m)\u001b[0m\u001b[0;34m)\u001b[0m\u001b[0;34m)\u001b[0m\u001b[0;34m\u001b[0m\u001b[0;34m\u001b[0m\u001b[0m\n\u001b[1;32m    428\u001b[0m             )\n",
      "\u001b[0;32m~/anaconda3/lib/python3.8/site-packages/emcee/ensemble.py\u001b[0m in \u001b[0;36m__call__\u001b[0;34m(self, x)\u001b[0m\n\u001b[1;32m    543\u001b[0m     \u001b[0;32mdef\u001b[0m \u001b[0m__call__\u001b[0m\u001b[0;34m(\u001b[0m\u001b[0mself\u001b[0m\u001b[0;34m,\u001b[0m \u001b[0mx\u001b[0m\u001b[0;34m)\u001b[0m\u001b[0;34m:\u001b[0m\u001b[0;34m\u001b[0m\u001b[0;34m\u001b[0m\u001b[0m\n\u001b[1;32m    544\u001b[0m         \u001b[0;32mtry\u001b[0m\u001b[0;34m:\u001b[0m\u001b[0;34m\u001b[0m\u001b[0;34m\u001b[0m\u001b[0m\n\u001b[0;32m--> 545\u001b[0;31m             \u001b[0;32mreturn\u001b[0m \u001b[0mself\u001b[0m\u001b[0;34m.\u001b[0m\u001b[0mf\u001b[0m\u001b[0;34m(\u001b[0m\u001b[0mx\u001b[0m\u001b[0;34m,\u001b[0m \u001b[0;34m*\u001b[0m\u001b[0mself\u001b[0m\u001b[0;34m.\u001b[0m\u001b[0margs\u001b[0m\u001b[0;34m,\u001b[0m \u001b[0;34m**\u001b[0m\u001b[0mself\u001b[0m\u001b[0;34m.\u001b[0m\u001b[0mkwargs\u001b[0m\u001b[0;34m)\u001b[0m\u001b[0;34m\u001b[0m\u001b[0;34m\u001b[0m\u001b[0m\n\u001b[0m\u001b[1;32m    546\u001b[0m         \u001b[0;32mexcept\u001b[0m\u001b[0;34m:\u001b[0m  \u001b[0;31m# pragma: no cover\u001b[0m\u001b[0;34m\u001b[0m\u001b[0;34m\u001b[0m\u001b[0m\n\u001b[1;32m    547\u001b[0m             \u001b[0;32mimport\u001b[0m \u001b[0mtraceback\u001b[0m\u001b[0;34m\u001b[0m\u001b[0;34m\u001b[0m\u001b[0m\n",
      "\u001b[0;32m~/Dropbox (UFL)/Research/MetallicityProject/photoeccentric/photoeccentric/photoeccentric.py\u001b[0m in \u001b[0;36mtfit_noper_log_probability\u001b[0;34m(theta, per, time, ptime, flux, flux_err)\u001b[0m\n\u001b[1;32m    971\u001b[0m     \u001b[0;32mif\u001b[0m \u001b[0;32mnot\u001b[0m \u001b[0mnp\u001b[0m\u001b[0;34m.\u001b[0m\u001b[0misfinite\u001b[0m\u001b[0;34m(\u001b[0m\u001b[0mlp\u001b[0m\u001b[0;34m)\u001b[0m\u001b[0;34m:\u001b[0m\u001b[0;34m\u001b[0m\u001b[0;34m\u001b[0m\u001b[0m\n\u001b[1;32m    972\u001b[0m         \u001b[0;32mreturn\u001b[0m \u001b[0;34m-\u001b[0m\u001b[0mnp\u001b[0m\u001b[0;34m.\u001b[0m\u001b[0minf\u001b[0m\u001b[0;34m\u001b[0m\u001b[0;34m\u001b[0m\u001b[0m\n\u001b[0;32m--> 973\u001b[0;31m     \u001b[0;32mreturn\u001b[0m \u001b[0mlp\u001b[0m \u001b[0;34m+\u001b[0m \u001b[0mtfit_noper_log_likelihood\u001b[0m\u001b[0;34m(\u001b[0m\u001b[0mtheta\u001b[0m\u001b[0;34m,\u001b[0m \u001b[0mper\u001b[0m\u001b[0;34m,\u001b[0m \u001b[0mtime\u001b[0m\u001b[0;34m,\u001b[0m \u001b[0mptime\u001b[0m\u001b[0;34m,\u001b[0m \u001b[0mflux\u001b[0m\u001b[0;34m,\u001b[0m \u001b[0mflux_err\u001b[0m\u001b[0;34m)\u001b[0m\u001b[0;34m\u001b[0m\u001b[0;34m\u001b[0m\u001b[0m\n\u001b[0m\u001b[1;32m    974\u001b[0m \u001b[0;34m\u001b[0m\u001b[0m\n\u001b[1;32m    975\u001b[0m \u001b[0;31m##############################################################################################\u001b[0m\u001b[0;34m\u001b[0m\u001b[0;34m\u001b[0m\u001b[0;34m\u001b[0m\u001b[0m\n",
      "\u001b[0;32m~/Dropbox (UFL)/Research/MetallicityProject/photoeccentric/photoeccentric/photoeccentric.py\u001b[0m in \u001b[0;36mtfit_noper_log_likelihood\u001b[0;34m(theta, per, time, ptime, flux, flux_err)\u001b[0m\n\u001b[1;32m    946\u001b[0m     \u001b[0mrp\u001b[0m\u001b[0;34m,\u001b[0m \u001b[0ma\u001b[0m\u001b[0;34m,\u001b[0m \u001b[0minc\u001b[0m\u001b[0;34m,\u001b[0m \u001b[0mt0\u001b[0m \u001b[0;34m=\u001b[0m \u001b[0mtheta\u001b[0m\u001b[0;34m\u001b[0m\u001b[0;34m\u001b[0m\u001b[0m\n\u001b[1;32m    947\u001b[0m \u001b[0;34m\u001b[0m\u001b[0m\n\u001b[0;32m--> 948\u001b[0;31m     \u001b[0mmodel\u001b[0m \u001b[0;34m=\u001b[0m \u001b[0mintegratedlc_fitter\u001b[0m\u001b[0;34m(\u001b[0m\u001b[0mtime\u001b[0m\u001b[0;34m,\u001b[0m \u001b[0mper\u001b[0m\u001b[0;34m,\u001b[0m \u001b[0mrp\u001b[0m\u001b[0;34m,\u001b[0m \u001b[0ma\u001b[0m\u001b[0;34m,\u001b[0m \u001b[0minc\u001b[0m\u001b[0;34m,\u001b[0m \u001b[0mt0\u001b[0m\u001b[0;34m)\u001b[0m\u001b[0;34m\u001b[0m\u001b[0;34m\u001b[0m\u001b[0m\n\u001b[0m\u001b[1;32m    949\u001b[0m     \u001b[0msigma2\u001b[0m \u001b[0;34m=\u001b[0m \u001b[0mflux_err\u001b[0m \u001b[0;34m**\u001b[0m \u001b[0;36m2\u001b[0m\u001b[0;34m\u001b[0m\u001b[0;34m\u001b[0m\u001b[0m\n\u001b[1;32m    950\u001b[0m \u001b[0;34m\u001b[0m\u001b[0m\n",
      "\u001b[0;32m~/Dropbox (UFL)/Research/MetallicityProject/photoeccentric/photoeccentric/lcfitter.py\u001b[0m in \u001b[0;36mintegratedlc_fitter\u001b[0;34m(time, per, rp, ars, inc, t0)\u001b[0m\n\u001b[1;32m    162\u001b[0m \u001b[0;34m\u001b[0m\u001b[0m\n\u001b[1;32m    163\u001b[0m     \u001b[0;31m#times to calculate light curve\u001b[0m\u001b[0;34m\u001b[0m\u001b[0;34m\u001b[0m\u001b[0;34m\u001b[0m\u001b[0m\n\u001b[0;32m--> 164\u001b[0;31m     \u001b[0mptime\u001b[0m \u001b[0;34m=\u001b[0m \u001b[0mget_ptime\u001b[0m\u001b[0;34m(\u001b[0m\u001b[0mtime\u001b[0m\u001b[0;34m,\u001b[0m \u001b[0mget_mid\u001b[0m\u001b[0;34m(\u001b[0m\u001b[0mtime\u001b[0m\u001b[0;34m)\u001b[0m\u001b[0;34m,\u001b[0m \u001b[0;36m29\u001b[0m\u001b[0;34m)\u001b[0m\u001b[0;34m\u001b[0m\u001b[0;34m\u001b[0m\u001b[0m\n\u001b[0m\u001b[1;32m    165\u001b[0m \u001b[0;34m\u001b[0m\u001b[0m\n\u001b[1;32m    166\u001b[0m     \u001b[0mm\u001b[0m \u001b[0;34m=\u001b[0m \u001b[0mbatman\u001b[0m\u001b[0;34m.\u001b[0m\u001b[0mTransitModel\u001b[0m\u001b[0;34m(\u001b[0m\u001b[0mparams\u001b[0m\u001b[0;34m,\u001b[0m \u001b[0mptime\u001b[0m\u001b[0;34m)\u001b[0m\u001b[0;34m\u001b[0m\u001b[0;34m\u001b[0m\u001b[0m\n",
      "\u001b[0;32m~/Dropbox (UFL)/Research/MetallicityProject/photoeccentric/photoeccentric/lcfitter.py\u001b[0m in \u001b[0;36mget_ptime\u001b[0;34m(time, mid, num)\u001b[0m\n\u001b[1;32m    269\u001b[0m \u001b[0;34m\u001b[0m\u001b[0m\n\u001b[1;32m    270\u001b[0m     \u001b[0;32mfor\u001b[0m \u001b[0mi\u001b[0m \u001b[0;32min\u001b[0m \u001b[0mrange\u001b[0m\u001b[0;34m(\u001b[0m\u001b[0mlen\u001b[0m\u001b[0;34m(\u001b[0m\u001b[0mtime\u001b[0m\u001b[0;34m)\u001b[0m\u001b[0;34m)\u001b[0m\u001b[0;34m:\u001b[0m\u001b[0;34m\u001b[0m\u001b[0;34m\u001b[0m\u001b[0m\n\u001b[0;32m--> 271\u001b[0;31m         \u001b[0mettemp\u001b[0m \u001b[0;34m=\u001b[0m \u001b[0mnp\u001b[0m\u001b[0;34m.\u001b[0m\u001b[0mlinspace\u001b[0m\u001b[0;34m(\u001b[0m\u001b[0mtime\u001b[0m\u001b[0;34m[\u001b[0m\u001b[0mi\u001b[0m\u001b[0;34m]\u001b[0m\u001b[0;34m-\u001b[0m\u001b[0mmid\u001b[0m\u001b[0;34m,\u001b[0m \u001b[0mtime\u001b[0m\u001b[0;34m[\u001b[0m\u001b[0mi\u001b[0m\u001b[0;34m]\u001b[0m\u001b[0;34m+\u001b[0m\u001b[0mmid\u001b[0m\u001b[0;34m,\u001b[0m \u001b[0mnum\u001b[0m\u001b[0;34m,\u001b[0m \u001b[0mendpoint\u001b[0m\u001b[0;34m=\u001b[0m\u001b[0;32mTrue\u001b[0m\u001b[0;34m)\u001b[0m\u001b[0;34m\u001b[0m\u001b[0;34m\u001b[0m\u001b[0m\n\u001b[0m\u001b[1;32m    272\u001b[0m         \u001b[0mettemp\u001b[0m \u001b[0;34m=\u001b[0m \u001b[0mlist\u001b[0m\u001b[0;34m(\u001b[0m\u001b[0mettemp\u001b[0m\u001b[0;34m)\u001b[0m\u001b[0;34m\u001b[0m\u001b[0;34m\u001b[0m\u001b[0m\n\u001b[1;32m    273\u001b[0m \u001b[0;34m\u001b[0m\u001b[0m\n",
      "\u001b[0;32m<__array_function__ internals>\u001b[0m in \u001b[0;36mlinspace\u001b[0;34m(*args, **kwargs)\u001b[0m\n",
      "\u001b[0;32m~/anaconda3/lib/python3.8/site-packages/numpy/core/function_base.py\u001b[0m in \u001b[0;36mlinspace\u001b[0;34m(start, stop, num, endpoint, retstep, dtype, axis)\u001b[0m\n\u001b[1;32m    149\u001b[0m         \u001b[0;32melse\u001b[0m\u001b[0;34m:\u001b[0m\u001b[0;34m\u001b[0m\u001b[0;34m\u001b[0m\u001b[0m\n\u001b[1;32m    150\u001b[0m             \u001b[0;32mif\u001b[0m \u001b[0m_mult_inplace\u001b[0m\u001b[0;34m:\u001b[0m\u001b[0;34m\u001b[0m\u001b[0;34m\u001b[0m\u001b[0m\n\u001b[0;32m--> 151\u001b[0;31m                 \u001b[0my\u001b[0m \u001b[0;34m*=\u001b[0m \u001b[0mstep\u001b[0m\u001b[0;34m\u001b[0m\u001b[0;34m\u001b[0m\u001b[0m\n\u001b[0m\u001b[1;32m    152\u001b[0m             \u001b[0;32melse\u001b[0m\u001b[0;34m:\u001b[0m\u001b[0;34m\u001b[0m\u001b[0;34m\u001b[0m\u001b[0m\n\u001b[1;32m    153\u001b[0m                 \u001b[0my\u001b[0m \u001b[0;34m=\u001b[0m \u001b[0my\u001b[0m \u001b[0;34m*\u001b[0m \u001b[0mstep\u001b[0m\u001b[0;34m\u001b[0m\u001b[0;34m\u001b[0m\u001b[0m\n",
      "\u001b[0;31mKeyboardInterrupt\u001b[0m: "
     ]
    }
   ],
   "source": [
    "# Inital guess: rprs, a/Rs, i, w\n",
    "p0 = [0.037493, 61, 89.99, 0]\n",
    "\n",
    "dr = 'Kepler737b'\n",
    "direct = 'plots/' + dr + '/'\n",
    "\n",
    "if not os.path.exists(direct):\n",
    "    os.mkdir(direct)\n",
    "\n",
    "# EMCEE Transit Model Fitting\n",
    "_, _, rdist, adist, idist, t0dist = ph.mcmc_fitter_noper(p0, period, t1, ptime, fnorm, fe1, nwalk, nsteps_d, ndiscard_d, 'X', 'X', direct)"
   ]
  },
  {
   "cell_type": "code",
   "execution_count": 1134,
   "metadata": {},
   "outputs": [
    {
     "data": {
      "text/plain": [
       "0.989835250918609"
      ]
     },
     "execution_count": 1134,
     "metadata": {},
     "output_type": "execute_result"
    }
   ],
   "source": [
    "ph.mode(rdist)"
   ]
  },
  {
   "cell_type": "code",
   "execution_count": 1135,
   "metadata": {},
   "outputs": [
    {
     "data": {
      "text/plain": [
       "138824040095800.0"
      ]
     },
     "execution_count": 1135,
     "metadata": {},
     "output_type": "execute_result"
    }
   ],
   "source": [
    "ph.mode(adist)"
   ]
  },
  {
   "cell_type": "code",
   "execution_count": 1136,
   "metadata": {},
   "outputs": [
    {
     "data": {
      "text/plain": [
       "0.9159162961717467"
      ]
     },
     "execution_count": 1136,
     "metadata": {},
     "output_type": "execute_result"
    }
   ],
   "source": [
    "ph.mode(idist)"
   ]
  },
  {
   "cell_type": "code",
   "execution_count": 1137,
   "metadata": {},
   "outputs": [
    {
     "data": {
      "text/plain": [
       "-5.653595704209818e+31"
      ]
     },
     "execution_count": 1137,
     "metadata": {},
     "output_type": "execute_result"
    }
   ],
   "source": [
    "ph.mode(t0dist)"
   ]
  },
  {
   "cell_type": "code",
   "execution_count": 1138,
   "metadata": {},
   "outputs": [
    {
     "data": {
      "text/plain": [
       "<matplotlib.legend.Legend at 0x7fdc07898cd0>"
      ]
     },
     "execution_count": 1138,
     "metadata": {},
     "output_type": "execute_result"
    },
    {
     "data": {
      "image/png": "[encoded data removed]",
      "text/plain": [
       "<Figure size 864x576 with 1 Axes>"
      ]
     },
     "metadata": {
      "needs_background": "light"
     },
     "output_type": "display_data"
    }
   ],
   "source": [
    "# Create a light curve with the fit parameters\n",
    "\n",
    "mcmcfit = ph.integratedlc_fitter(t1, period, ph.mode(rdist), ph.mode(adist), ph.mode(idist), ph.mode(t0dist))\n",
    "truefit = ph.integratedlc_fitter(t1, period, 0.037451, 60, 89.9, 0)\n",
    "\n",
    "plt.errorbar(t1, fnorm, yerr=fe1, c='blue', alpha=0.5, label='Original LC', fmt=\"o\", capsize=0)\n",
    "plt.scatter(t1, mcmcfit, c='red', alpha=1.0, label='Fit LC')\n",
    "plt.plot(t1, mcmcfit, c='red', alpha=1.0)\n",
    "plt.plot(t1, truefit, c='green', alpha=1.0)\n",
    "\n",
    "plt.legend()"
   ]
  },
  {
   "cell_type": "code",
   "execution_count": null,
   "metadata": {},
   "outputs": [],
   "source": []
  },
  {
   "cell_type": "code",
   "execution_count": null,
   "metadata": {},
   "outputs": [],
   "source": []
  },
  {
   "cell_type": "code",
   "execution_count": null,
   "metadata": {},
   "outputs": [],
   "source": []
  },
  {
   "cell_type": "code",
   "execution_count": null,
   "metadata": {},
   "outputs": [],
   "source": []
  },
  {
   "cell_type": "code",
   "execution_count": null,
   "metadata": {},
   "outputs": [],
   "source": []
  },
  {
   "cell_type": "code",
   "execution_count": null,
   "metadata": {},
   "outputs": [],
   "source": []
  }
 ],
 "metadata": {
  "kernelspec": {
   "display_name": "Python 3",
   "language": "python",
   "name": "python3"
  },
  "language_info": {
   "codemirror_mode": {
    "name": "ipython",
    "version": 3
   },
   "file_extension": ".py",
   "mimetype": "text/x-python",
   "name": "python",
   "nbconvert_exporter": "python",
   "pygments_lexer": "ipython3",
   "version": "3.8.5"
  }
 },
 "nbformat": 4,
 "nbformat_minor": 4
}
