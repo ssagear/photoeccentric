{
 "cells": [
  {
   "cell_type": "markdown",
   "metadata": {},
   "source": [
    "# Short Cadence - fitting real Kepler light curves"
   ]
  },
  {
   "cell_type": "code",
   "execution_count": 12,
   "metadata": {},
   "outputs": [
    {
     "name": "stdout",
     "output_type": "stream",
     "text": [
      "The autoreload extension is already loaded. To reload it, use:\n",
      "  %reload_ext autoreload\n"
     ]
    }
   ],
   "source": [
    "import numpy as np\n",
    "import matplotlib.pyplot as plt\n",
    "import pandas as pd\n",
    "\n",
    "# from tqdm import tqdm\n",
    "# from astropy.table import Table\n",
    "# import astropy.units as u\n",
    "# import scipy\n",
    "# from scipy import signal\n",
    "\n",
    "\n",
    "from astropy.io import fits\n",
    "\n",
    "# Using astropy BLS and scipy curve_fit to fit transit\n",
    "from astropy.timeseries import BoxLeastSquares\n",
    "\n",
    "import dynesty\n",
    "\n",
    "# And importing `photoeccentric`\n",
    "import photoeccentric as ph\n",
    "\n",
    "# # Random stuff\n",
    "import scipy.constants as c\n",
    "import os\n",
    "\n",
    "import random\n",
    "\n",
    "%load_ext autoreload\n",
    "%autoreload 2\n",
    "\n",
    "%matplotlib inline\n",
    "\n",
    "plt.rcParams['figure.figsize'] = [12, 8]"
   ]
  },
  {
   "cell_type": "code",
   "execution_count": 13,
   "metadata": {},
   "outputs": [],
   "source": [
    "nwalk = 64\n",
    "nsteps_d = 1500\n",
    "ndiscard_d = 1000\n",
    "arrlen = (nsteps_d-ndiscard_d)*nwalk"
   ]
  },
  {
   "cell_type": "code",
   "execution_count": 14,
   "metadata": {},
   "outputs": [],
   "source": [
    "smass_kg = 1.9885e30  # Solar mass (kg)\n",
    "srad_m = 696.34e6 # Solar radius (m)"
   ]
  },
  {
   "cell_type": "markdown",
   "metadata": {},
   "source": [
    "## Reading in Sample Data"
   ]
  },
  {
   "cell_type": "code",
   "execution_count": 15,
   "metadata": {},
   "outputs": [],
   "source": [
    "spectplanets = pd.read_csv('spectplanets.csv')\n",
    "muirhead_comb = pd.read_csv('muirhead_comb.csv')\n",
    "muirhead_comb_lums = pd.read_csv('muirhead_comb_lums.csv')\n",
    "muirhead_lamost = pd.read_csv('muirhead_lamost.csv')\n",
    "muirheadKOIs = pd.read_csv('MuirheadKOIs.csv')"
   ]
  },
  {
   "cell_type": "code",
   "execution_count": 16,
   "metadata": {},
   "outputs": [],
   "source": [
    "def get_lc_files(KIC, KICs, lcpath):\n",
    "\n",
    "    lclist = []\n",
    "\n",
    "    for i in range(len(KICs)):\n",
    "        templst = []\n",
    "        for subdir, dirs, files in os.walk(lcpath):\n",
    "            for file in files:\n",
    "                if str(KICs[i]) in file:\n",
    "                    templst.append(os.path.join(subdir, file))\n",
    "        lclist.append(templst)\n",
    "\n",
    "\n",
    "    files = lclist[int(np.argwhere(KICs==KIC))]\n",
    "\n",
    "    return files\n",
    "\n",
    "\n",
    "\n",
    "def sigma_clip(time, flux, fluxerr, sig=4):\n",
    "    for i in tqdm(range(len(flux))):\n",
    "        if flux[i] > np.nanmean(flux) + sig*np.nanstd(flux) or flux[i] < np.nanmean(flux) - sig*np.nanstd(flux):\n",
    "            time[i] = np.nan\n",
    "            flux[i] = np.nan\n",
    "            fluxerr[i] = np.nan\n",
    "            \n",
    "    return time, flux, fluxerr\n",
    "            "
   ]
  },
  {
   "cell_type": "code",
   "execution_count": 83,
   "metadata": {},
   "outputs": [],
   "source": [
    "lcpath = '/Users/ssagear/Dropbox (UFL)/Research/MetallicityProject/photoeccentric/notebooks/datafiles/sample_SCs/'\n",
    "KICs = np.sort(np.unique(np.array(muirhead_comb['KIC'])))\n",
    "KIC = 4139816\n",
    "kepid = KIC\n",
    "NKOI = 812\n",
    "KOI = 'KOI 812'\n",
    "\n",
    "files = get_lc_files(KIC, KICs, lcpath)"
   ]
  },
  {
   "cell_type": "code",
   "execution_count": 84,
   "metadata": {},
   "outputs": [],
   "source": [
    "hdus, t, f, fe, starts, stops = ph.get_stitched_lcs(files, KIC)"
   ]
  },
  {
   "cell_type": "code",
   "execution_count": 85,
   "metadata": {},
   "outputs": [],
   "source": [
    "alltime_noclip = []\n",
    "allflux_noclip = []\n",
    "allfluxerr_noclip = []\n",
    "\n",
    "for sublist in t:\n",
    "    for item in sublist:\n",
    "        alltime_noclip.append(item)\n",
    "        \n",
    "for sublist in f:\n",
    "    for item in sublist:\n",
    "        allflux_noclip.append(item)\n",
    "        \n",
    "for sublist in fe:\n",
    "    for item in sublist:\n",
    "        allfluxerr_noclip.append(item)"
   ]
  },
  {
   "cell_type": "code",
   "execution_count": null,
   "metadata": {},
   "outputs": [],
   "source": []
  },
  {
   "cell_type": "code",
   "execution_count": 90,
   "metadata": {},
   "outputs": [
    {
     "data": {
      "image/png": "[encoded data removed]",
      "text/plain": [
       "<Figure size 864x576 with 1 Axes>"
      ]
     },
     "metadata": {
      "needs_background": "light"
     },
     "output_type": "display_data"
    }
   ],
   "source": [
    "# alltime, allflux, allfluxerr = sigma_clip(alltime_noclip, allflux_noclip, allfluxerr_noclip, sig=4)\n",
    "\n",
    "time, flux, flux_err = np.array(alltime_noclip), np.array(allflux_noclip), np.array(allfluxerr_noclip)\n",
    "\n",
    "plt.scatter(time, flux, s=1)\n",
    "plt.title(KOI)\n",
    "\n",
    "plt.ticklabel_format(useOffset=False, style='plain')"
   ]
  },
  {
   "cell_type": "markdown",
   "metadata": {},
   "source": [
    "# KOI 812 SCs"
   ]
  },
  {
   "cell_type": "code",
   "execution_count": 91,
   "metadata": {},
   "outputs": [],
   "source": [
    "\n",
    "kepname = spectplanets.loc[spectplanets['kepid'] == kepid].kepler_name.values[0]"
   ]
  },
  {
   "cell_type": "code",
   "execution_count": 92,
   "metadata": {},
   "outputs": [],
   "source": [
    "isodf = pd.read_csv(\"datafiles/isochrones/iso_lums_\" + str(kepid) + \".csv\")\n",
    "\n",
    "mstar = isodf[\"mstar\"].mean()\n",
    "mstar_err = isodf[\"mstar\"].std()\n",
    "\n",
    "rstar = isodf[\"radius\"].mean()\n",
    "rstar_err = isodf[\"radius\"].std()"
   ]
  },
  {
   "cell_type": "code",
   "execution_count": 93,
   "metadata": {},
   "outputs": [
    {
     "name": "stdout",
     "output_type": "stream",
     "text": [
      "Stellar mass (Msun):  0.5325195903648783 Stellar radius (Rsun):  0.5184312896933453\n",
      "Period (Days):  20.06036336 Rp/Rs:  0.036455\n",
      "a/Rs:  48.53162880292267\n",
      "i (deg):  89.21\n"
     ]
    }
   ],
   "source": [
    "period, period_uerr, period_lerr, rprs, rprs_uerr, rprs_lerr, a_arc, a_uerr_arc, a_lerr_arc, i, e_arc, w_arc = ph.planet_params_from_archive(spectplanets, kepname)\n",
    "\n",
    "# We calculate a_rs to ensure that it's consistent with the spec/Gaia stellar density.\n",
    "a_rs = ph.calc_a(period*86400.0, mstar*smass_kg, rstar*srad_m)\n",
    "a_rs_err = np.mean((a_uerr_arc, a_lerr_arc))\n",
    "\n",
    "print('Stellar mass (Msun): ', mstar, 'Stellar radius (Rsun): ', rstar)\n",
    "print('Period (Days): ', period, 'Rp/Rs: ', rprs)\n",
    "print('a/Rs: ', a_rs)\n",
    "print('i (deg): ', i)"
   ]
  },
  {
   "cell_type": "code",
   "execution_count": 94,
   "metadata": {},
   "outputs": [],
   "source": [
    "# TODO: Take midpoints from csv files\n",
    "\n",
    "mpts = pd.read_csv('tmidpoints_new.csv', comment='#')"
   ]
  },
  {
   "cell_type": "code",
   "execution_count": 95,
   "metadata": {},
   "outputs": [],
   "source": [
    "transitmpt = mpts.loc[mpts['KOI (star)'] == NKOI]['Transit Epoch (BJD)'].values[0]"
   ]
  },
  {
   "cell_type": "code",
   "execution_count": 96,
   "metadata": {},
   "outputs": [],
   "source": [
    "midpoints = np.concatenate((np.arange(transitmpt, starts[0], -period), np.arange(transitmpt, stops[-1], period)))"
   ]
  },
  {
   "cell_type": "code",
   "execution_count": 97,
   "metadata": {},
   "outputs": [
    {
     "data": {
      "text/plain": [
       "array([2455004.979062  , 2455025.03942536, 2455045.09978872,\n",
       "       2455065.16015208, 2455085.22051544, 2455105.2808788 ,\n",
       "       2455125.34124216, 2455145.40160552, 2455165.46196888,\n",
       "       2455185.52233224, 2455205.5826956 , 2455225.64305896,\n",
       "       2455245.70342232, 2455265.76378568, 2455285.82414904,\n",
       "       2455305.8845124 , 2455325.94487576, 2455346.00523912,\n",
       "       2455366.06560248, 2455386.12596584, 2455406.1863292 ,\n",
       "       2455426.24669256, 2455446.30705592, 2455466.36741928,\n",
       "       2455486.42778264, 2455506.48814601, 2455526.54850937,\n",
       "       2455546.60887273, 2455566.66923609, 2455586.72959945,\n",
       "       2455606.78996281, 2455626.85032617, 2455646.91068953,\n",
       "       2455666.97105289, 2455687.03141625, 2455707.09177961,\n",
       "       2455727.15214297, 2455747.21250633, 2455767.27286969,\n",
       "       2455787.33323305, 2455807.39359641, 2455827.45395977,\n",
       "       2455847.51432313, 2455867.57468649, 2455887.63504985,\n",
       "       2455907.69541321, 2455927.75577657, 2455947.81613993,\n",
       "       2455967.87650329, 2455987.93686665, 2456007.99723001,\n",
       "       2456028.05759337, 2456048.11795673, 2456068.17832009,\n",
       "       2456088.23868345, 2456108.29904681, 2456128.35941017,\n",
       "       2456148.41977353, 2456168.48013689, 2456188.54050025,\n",
       "       2456208.60086361, 2456228.66122697, 2456248.72159033,\n",
       "       2456268.78195369, 2456288.84231705, 2456308.90268041,\n",
       "       2456328.96304377, 2456349.02340713, 2456369.08377049,\n",
       "       2456389.14413385, 2456409.20449721])"
      ]
     },
     "execution_count": 97,
     "metadata": {},
     "output_type": "execute_result"
    }
   ],
   "source": [
    "midpoints"
   ]
  },
  {
   "cell_type": "code",
   "execution_count": 98,
   "metadata": {},
   "outputs": [],
   "source": [
    "timez = []\n",
    "fluxez = []\n",
    "ferrz = []\n",
    "\n",
    "for i in range(len(midpoints)):\n",
    "    \n",
    "    try:\n",
    "        m, b, t1bjd, t1, fnorm, fe1 = ph.do_linfit(time, flux, flux_err, midpoints[i], 100, 5)\n",
    "        timez.append(t1bjd)\n",
    "        fluxez.append(fnorm)\n",
    "        ferrz.append(fe1)\n",
    "\n",
    "    except TypeError:\n",
    "        continue\n",
    "        \n",
    "ttimes = np.array(timez).flatten()\n",
    "tfluxes = np.array(fluxez).flatten()\n",
    "tferr = np.array(ferrz).flatten()\n",
    "\n",
    "tfluxes = np.nan_to_num(tfluxes, nan=1.0)\n",
    "tferr = np.nan_to_num(tferr, nan=np.nanmedian(tferr))\n"
   ]
  },
  {
   "cell_type": "code",
   "execution_count": 106,
   "metadata": {},
   "outputs": [],
   "source": [
    "def get_KIC(KOI, muirhead_comb):\n",
    "    return muirhead_comb[muirhead_comb['KOI'] == str(KOI)].KIC.item()"
   ]
  },
  {
   "cell_type": "code",
   "execution_count": null,
   "metadata": {
    "scrolled": true
   },
   "outputs": [
    {
     "name": "stderr",
     "output_type": "stream",
     "text": [
      "\r",
      "0it [00:00, ?it/s]"
     ]
    },
    {
     "name": "stdout",
     "output_type": "stream",
     "text": [
      "Stellar mass (Msun):  0.5325195903648783 Stellar radius (Rsun):  0.5184312896933453\n",
      "Period (Days):  20.06036336 Rp/Rs:  0.036455\n",
      "a/Rs:  48.53162880292267\n",
      "i (deg):  89.21\n"
     ]
    },
    {
     "name": "stderr",
     "output_type": "stream",
     "text": [
      "370it [2:07:08, 32.23s/it, batch: 0 | bound: 0 | nc: 200 | ncall: 21664 | eff(%):  1.669 | loglstar:   -inf < 35815.482 <    inf | logz: 35814.096 +/-  0.074 | dlogz: 134.358 >  0.010]  "
     ]
    }
   ],
   "source": [
    "priortransform = [2., 19., 0.1, 0.3, 20., 40., 2., 88., 0.1, transitmpt]\n",
    "\n",
    "dres, pdist, rdist, adist, idist = ph.fit_keplc_dynesty(812, midpoints, ttimes, tfluxes, tferr, priortransform, arrlen, 150, spectplanets, muirhead_comb)"
   ]
  },
  {
   "cell_type": "code",
   "execution_count": null,
   "metadata": {},
   "outputs": [],
   "source": [
    "np.savetxt('812scperiods.csv', pdist, delimiter=',')\n",
    "np.savetxt('812scrprs.csv', rdist, delimiter=',')\n",
    "np.savetxt('812scars.csv', adist, delimiter=',')\n",
    "np.savetxt('812scinc.csv', idist, delimiter=',')\n",
    "np.savetxt('812sct0.csv', t0dist, delimiter=',')"
   ]
  },
  {
   "cell_type": "code",
   "execution_count": null,
   "metadata": {},
   "outputs": [],
   "source": [
    "rho_star, mass, radius = ph.find_density_dist_symmetric(mstar, mstar_err, rstar, rstar_err, arrlen)"
   ]
  },
  {
   "cell_type": "code",
   "execution_count": null,
   "metadata": {},
   "outputs": [],
   "source": [
    "T14dist = ph.get_T14(pdist, rdist, adist, idist)\n",
    "T14errs = ph.get_sigmas(T14dist)\n",
    "\n",
    "T23dist = ph.get_T23(pdist, rdist, adist, idist)\n",
    "T23errs = ph.get_sigmas(T23dist)"
   ]
  },
  {
   "cell_type": "markdown",
   "metadata": {},
   "source": [
    "# Get $g$"
   ]
  },
  {
   "cell_type": "code",
   "execution_count": null,
   "metadata": {},
   "outputs": [],
   "source": [
    "gs, rho_c = ph.get_g_distribution(rho_star, pdist, rdist, T14dist, T23dist)\n",
    "\n",
    "g_mean = ph.mode(gs)\n",
    "g_sigma = np.mean(np.abs(ph.get_sigmas(gs)))"
   ]
  },
  {
   "cell_type": "code",
   "execution_count": null,
   "metadata": {
    "scrolled": true
   },
   "outputs": [],
   "source": [
    "g_mean"
   ]
  },
  {
   "cell_type": "code",
   "execution_count": null,
   "metadata": {},
   "outputs": [],
   "source": [
    "g_sigma"
   ]
  },
  {
   "cell_type": "code",
   "execution_count": null,
   "metadata": {},
   "outputs": [],
   "source": [
    "g = g_mean\n",
    "gerr = g_sigma"
   ]
  },
  {
   "cell_type": "markdown",
   "metadata": {},
   "source": [
    "# Dynesty (e,w) Fitting LIkelihood Functions"
   ]
  },
  {
   "cell_type": "code",
   "execution_count": null,
   "metadata": {},
   "outputs": [],
   "source": [
    "ndim = 2\n",
    "\n",
    "def loglike(theta):\n",
    "    \"\"\"The log-likelihood function.\"\"\"\n",
    "\n",
    "    w, e = theta\n",
    "    \n",
    "    model = (1+e*np.sin(w*(np.pi/180.)))/np.sqrt(1-e**2)\n",
    "    sigma2 = gerr ** 2\n",
    "    \n",
    "    return -0.5 * np.sum((g - model) ** 2 / sigma2 + np.log(sigma2))\n",
    "\n",
    "def unife_prior_transform(utheta):\n",
    "    \"\"\"Uniform eccentricity prior\"\"\"\n",
    "    \n",
    "    uw, ue = utheta\n",
    "    w = 360.*uw-90.\n",
    "    e = 1. * ue\n",
    "    \n",
    "    return w, e\n",
    "\n",
    "\n",
    "def betae_prior_transform(utheta):\n",
    "    \"\"\"Uniform eccentricity prior\"\"\"\n",
    "    \n",
    "    uw, ue = utheta\n",
    "    w = 360.*uw-90.\n",
    "    \n",
    "    a, b = 0.867, 3.03\n",
    "    e = scipy.stats.beta.ppf(ue, a, b)\n",
    "    \n",
    "    return w, e"
   ]
  },
  {
   "cell_type": "markdown",
   "metadata": {},
   "source": [
    "## Uniform Prior"
   ]
  },
  {
   "cell_type": "code",
   "execution_count": null,
   "metadata": {},
   "outputs": [],
   "source": [
    "dsampler = dynesty.DynamicNestedSampler(loglike, unife_prior_transform, ndim=2, bound='multi', sample='rstagger')"
   ]
  },
  {
   "cell_type": "code",
   "execution_count": null,
   "metadata": {},
   "outputs": [],
   "source": [
    "dsampler.run_nested()"
   ]
  },
  {
   "cell_type": "code",
   "execution_count": null,
   "metadata": {},
   "outputs": [],
   "source": [
    "dres = dsampler.results"
   ]
  },
  {
   "cell_type": "code",
   "execution_count": null,
   "metadata": {},
   "outputs": [],
   "source": [
    "from dynesty import plotting as dyplot\n",
    "\n",
    "fig, axes = dyplot.cornerplot(dres, show_titles=True, title_kwargs={'y': 1.04}, labels=[\"w\", \"e\"],\n",
    "                              fig=plt.subplots(2, 2, figsize=(8, 8)))"
   ]
  },
  {
   "cell_type": "markdown",
   "metadata": {},
   "source": [
    "## Beta-distribution Prior"
   ]
  },
  {
   "cell_type": "code",
   "execution_count": null,
   "metadata": {},
   "outputs": [],
   "source": [
    "dsampler = dynesty.DynamicNestedSampler(loglike, betae_prior_transform, ndim=2, bound='multi', sample='rstagger')"
   ]
  },
  {
   "cell_type": "code",
   "execution_count": null,
   "metadata": {},
   "outputs": [],
   "source": [
    "dsampler.run_nested()"
   ]
  },
  {
   "cell_type": "code",
   "execution_count": null,
   "metadata": {},
   "outputs": [],
   "source": [
    "dres = dsampler.results"
   ]
  },
  {
   "cell_type": "code",
   "execution_count": null,
   "metadata": {},
   "outputs": [],
   "source": [
    "fig, axes = dyplot.cornerplot(dres, show_titles=True, title_kwargs={'y': 1.04}, labels=[\"w\", \"e\"],\n",
    "                              fig=plt.subplots(2, 2, figsize=(8, 8)))"
   ]
  },
  {
   "cell_type": "code",
   "execution_count": null,
   "metadata": {},
   "outputs": [],
   "source": []
  },
  {
   "cell_type": "code",
   "execution_count": null,
   "metadata": {},
   "outputs": [],
   "source": []
  },
  {
   "cell_type": "code",
   "execution_count": null,
   "metadata": {},
   "outputs": [],
   "source": []
  },
  {
   "cell_type": "code",
   "execution_count": null,
   "metadata": {},
   "outputs": [],
   "source": []
  }
 ],
 "metadata": {
  "kernelspec": {
   "display_name": "Python 3",
   "language": "python",
   "name": "python3"
  },
  "language_info": {
   "codemirror_mode": {
    "name": "ipython",
    "version": 3
   },
   "file_extension": ".py",
   "mimetype": "text/x-python",
   "name": "python",
   "nbconvert_exporter": "python",
   "pygments_lexer": "ipython3",
   "version": "3.8.5"
  }
 },
 "nbformat": 4,
 "nbformat_minor": 4
}
