{
 "cells": [
  {
   "cell_type": "code",
   "execution_count": 32,
   "metadata": {},
   "outputs": [],
   "source": [
    "import numpy as np\n",
    "import pickle\n",
    "import matplotlib.pyplot as plt\n",
    "import h5py\n",
    "\n",
    "import emcee\n",
    "import corner\n",
    "\n",
    "import photoeccentric as ph\n",
    "from tqdm import tqdm\n",
    "\n",
    "import os"
   ]
  },
  {
   "cell_type": "code",
   "execution_count": 11,
   "metadata": {},
   "outputs": [],
   "source": [
    "def get_dres_files_tr(fitspath):\n",
    "\n",
    "    drespaths = []\n",
    "    \n",
    "    for subdir, dirs, files in os.walk(fitspath):\n",
    "        for file in sorted(files):\n",
    "            if 'sampler' in file:\n",
    "                drespaths.append(os.path.join(subdir, file))\n",
    "\n",
    "    return drespaths"
   ]
  },
  {
   "cell_type": "code",
   "execution_count": 12,
   "metadata": {},
   "outputs": [],
   "source": [
    "def open_test_data(path):\n",
    "    return open(path, 'rb')"
   ]
  },
  {
   "cell_type": "code",
   "execution_count": 13,
   "metadata": {},
   "outputs": [],
   "source": [
    "respath = '/Users/ssagear/Dropbox (UFL)/Research/MetallicityProject/HiPerGator/HPG_Replica/emceeKepLCtfits'\n",
    "tpaths = get_dres_files_tr(respath)"
   ]
  },
  {
   "cell_type": "code",
   "execution_count": 15,
   "metadata": {},
   "outputs": [
    {
     "data": {
      "text/plain": [
       "'/Users/ssagear/Dropbox (UFL)/Research/MetallicityProject/HiPerGator/HPG_Replica/emceeKepLCtfits/3119.01_lcfit_results_sampler.h5'"
      ]
     },
     "execution_count": 15,
     "metadata": {},
     "output_type": "execute_result"
    }
   ],
   "source": [
    "tpaths[7]"
   ]
  },
  {
   "cell_type": "code",
   "execution_count": 16,
   "metadata": {},
   "outputs": [],
   "source": [
    "readers = []\n",
    "samples = []\n",
    "flat_samples = []\n",
    "\n",
    "for i in range(len(tpaths)):\n",
    "    try:\n",
    "        reader = emcee.backends.HDFBackend(tpaths[i])\n",
    "        readers.append(reader)\n",
    "        try:\n",
    "            samples.append(reader.get_chain())\n",
    "             .append(reader.get_chain(discard=1000, flat=True, thin=15))\n",
    "        except AttributeError:\n",
    "            print(tpaths[i])\n",
    "    except OSError:\n",
    "        print(tpaths[i])\n",
    "        continue"
   ]
  },
  {
   "cell_type": "code",
   "execution_count": 17,
   "metadata": {},
   "outputs": [],
   "source": [
    "# ind = 0"
   ]
  },
  {
   "cell_type": "code",
   "execution_count": 18,
   "metadata": {},
   "outputs": [],
   "source": [
    "# fig, axes = plt.subplots(5, figsize=(10, 7), sharex=True)\n",
    "# sampless = samples[ind]\n",
    "# labels = [\"p\", \"r\", \"a\", \"i\", \"t0\"]\n",
    "# for i in range(5):\n",
    "#     ax = axes[i]\n",
    "#     ax.plot(sampless[:, :, i], \"k\", alpha=0.3)\n",
    "#     ax.set_xlim(0, len(sampless))\n",
    "#     ax.set_ylabel(labels[i])\n",
    "#     ax.yaxis.set_label_coords(-0.1, 0.5)"
   ]
  },
  {
   "cell_type": "code",
   "execution_count": 22,
   "metadata": {},
   "outputs": [],
   "source": [
    "pdists = []\n",
    "rdists = []\n",
    "adists = []\n",
    "idists = []\n",
    "t0dists = []\n",
    "\n",
    "for s in range(len(samples)):\n",
    "    pdists.append(np.array([samples[s][i][:,0] for i in range(len(samples[s]))]).flatten())\n",
    "    rdists.append(np.array([samples[s][i][:,1] for i in range(len(samples[s]))]).flatten())\n",
    "    adists.append(np.array([samples[s][i][:,2] for i in range(len(samples[s]))]).flatten())\n",
    "    idists.append(np.array([samples[s][i][:,3] for i in range(len(samples[s]))]).flatten())\n",
    "    t0dists.append(np.array([samples[s][i][:,4] for i in range(len(samples[s]))]).flatten())"
   ]
  },
  {
   "cell_type": "code",
   "execution_count": 24,
   "metadata": {},
   "outputs": [
    {
     "data": {
      "text/plain": [
       "array([5.7280718 , 5.72809149, 5.72817991, ..., 5.72810477, 5.72810737,\n",
       "       5.7280895 ])"
      ]
     },
     "execution_count": 24,
     "metadata": {},
     "output_type": "execute_result"
    }
   ],
   "source": [
    "pdists[0]"
   ]
  },
  {
   "cell_type": "code",
   "execution_count": 33,
   "metadata": {},
   "outputs": [
    {
     "name": "stderr",
     "output_type": "stream",
     "text": [
      "100%|██████████| 22/22 [01:22<00:00,  3.74s/it]\n"
     ]
    }
   ],
   "source": [
    "T14dists = []\n",
    "T14errs = []\n",
    "\n",
    "T23dists = []\n",
    "T23errs = []\n",
    "\n",
    "for i in tqdm(range(len(samples))):\n",
    "\n",
    "    T14dists.append(ph.get_T14(pdists[i], rdists[i], adists[i], idists[i]))\n",
    "    T14errs.append(ph.get_sigmas(T14dists[i]))\n",
    "\n",
    "    T23dists.append(ph.get_T23(pdists[i], rdists[i], adists[i], idists[i]))\n",
    "    T23errs.append(ph.get_sigmas(T23dists[i]))\n",
    "    \n",
    "    "
   ]
  },
  {
   "cell_type": "code",
   "execution_count": null,
   "metadata": {},
   "outputs": [],
   "source": [
    "ndim = 2\n",
    "\n",
    "def loglike(theta):\n",
    "    \"\"\"The log-likelihood function.\"\"\"\n",
    "\n",
    "    w, e = theta\n",
    "    \n",
    "    model = (1+e*np.sin(w*(np.pi/180.)))/np.sqrt(1-e**2)\n",
    "    sigma2 = gerr ** 2\n",
    "    \n",
    "    return -0.5 * np.sum((g - model) ** 2 / sigma2 + np.log(sigma2))\n",
    "\n",
    "def betae_prior_transform(utheta):\n",
    "    \"\"\"Uniform eccentricity prior\"\"\"\n",
    "    \n",
    "    uw, ue = utheta\n",
    "    w = 360.*uw-90.\n",
    "    \n",
    "    a, b = 0.867, 3.03\n",
    "    e = scipy.stats.beta.ppf(ue, a, b)\n",
    "    \n",
    "    return w, e"
   ]
  },
  {
   "cell_type": "code",
   "execution_count": 14,
   "metadata": {},
   "outputs": [
    {
     "data": {
      "text/plain": [
       "23"
      ]
     },
     "execution_count": 14,
     "metadata": {},
     "output_type": "execute_result"
    }
   ],
   "source": [
    "for i in range(len(ewdress)):\n",
    "    fig, axes = dyplot.cornerplot(trdress[i], show_titles=True, title_kwargs={'y': 1.04}, labels=[\"period\", \"rprs\", \"a_rs\", \"i\", \"t0\"],\n",
    "                              fig=plt.subplots(5, 5, figsize=(8, 8)))\n",
    "    \n",
    "    plt.savefig('KOIsewcorners/KOI' + trdres_paths[i][91:95] + 'trcorner.png')\n",
    "    plt.close()\n",
    "    \n",
    "    fig, axes = dyplot.cornerplot(ewdress[i], show_titles=True, title_kwargs={'y': 1.04}, labels=[\"w\", \"e\"],\n",
    "                              fig=plt.subplots(2, 2, figsize=(8, 8)))\n",
    "    plt.savefig('KOIsewcorners/KOI' + ewdres_paths[i][91:95] + 'ewcorner.png')\n",
    "    plt.close()"
   ]
  },
  {
   "cell_type": "code",
   "execution_count": null,
   "metadata": {},
   "outputs": [],
   "source": []
  }
 ],
 "metadata": {
  "kernelspec": {
   "display_name": "Python 3",
   "language": "python",
   "name": "python3"
  },
  "language_info": {
   "codemirror_mode": {
    "name": "ipython",
    "version": 3
   },
   "file_extension": ".py",
   "mimetype": "text/x-python",
   "name": "python",
   "nbconvert_exporter": "python",
   "pygments_lexer": "ipython3",
   "version": "3.8.5"
  }
 },
 "nbformat": 4,
 "nbformat_minor": 4
}
