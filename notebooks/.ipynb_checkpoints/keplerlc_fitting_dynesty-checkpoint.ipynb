{
 "cells": [
  {
   "cell_type": "markdown",
   "metadata": {},
   "source": [
    "# Dynesty - fitting real Kepler light curves"
   ]
  },
  {
   "cell_type": "code",
   "execution_count": 1,
   "metadata": {},
   "outputs": [],
   "source": [
    "import numpy as np\n",
    "import matplotlib.pyplot as plt\n",
    "import pandas as pd\n",
    "from tqdm import tqdm\n",
    "from astropy.table import Table\n",
    "import astropy.units as u\n",
    "import scipy\n",
    "from scipy import signal\n",
    "\n",
    "\n",
    "from astropy.io import fits\n",
    "\n",
    "# Using astropy BLS and scipy curve_fit to fit transit\n",
    "from astropy.timeseries import BoxLeastSquares\n",
    "from scipy.optimize import curve_fit\n",
    "\n",
    "import scipy.optimize as opt\n",
    "\n",
    "# Using emcee & corner to find and plot (e, w) distribution\n",
    "import emcee\n",
    "import corner\n",
    "\n",
    "import dynesty\n",
    "\n",
    "# And importing `photoeccentric`\n",
    "import photoeccentric as ph\n",
    "\n",
    "# Random stuff\n",
    "import scipy.constants as c\n",
    "import os\n",
    "\n",
    "import random\n",
    "\n",
    "%load_ext autoreload\n",
    "%autoreload 2\n",
    "\n",
    "%matplotlib inline\n",
    "\n",
    "plt.rcParams['figure.figsize'] = [12, 8]"
   ]
  },
  {
   "cell_type": "code",
   "execution_count": 2,
   "metadata": {},
   "outputs": [],
   "source": [
    "nwalk = 64\n",
    "nsteps_d = 1500\n",
    "ndiscard_d = 1000\n",
    "arrlen = (nsteps_d-ndiscard_d)*nwalk"
   ]
  },
  {
   "cell_type": "code",
   "execution_count": 3,
   "metadata": {},
   "outputs": [],
   "source": [
    "smass_kg = 1.9885e30  # Solar mass (kg)\n",
    "srad_m = 696.34e6 # Solar radius (m)"
   ]
  },
  {
   "cell_type": "markdown",
   "metadata": {},
   "source": [
    "## Reading in Sample Data"
   ]
  },
  {
   "cell_type": "code",
   "execution_count": 4,
   "metadata": {},
   "outputs": [],
   "source": [
    "spectplanets = pd.read_csv('spectplanets.csv')\n",
    "muirhead_comb = pd.read_csv('muirhead_comb.csv')\n",
    "muirhead_comb_lums = pd.read_csv('muirhead_comb_lums.csv')\n",
    "muirhead_lamost = pd.read_csv('muirhead_lamost.csv')"
   ]
  },
  {
   "cell_type": "code",
   "execution_count": 5,
   "metadata": {},
   "outputs": [],
   "source": [
    "KICs = np.sort(np.unique(np.array(muirhead_comb['KIC'])))\n",
    "KOIs = np.sort(np.unique(np.array(muirhead_comb['KOI'])))"
   ]
  },
  {
   "cell_type": "code",
   "execution_count": 6,
   "metadata": {},
   "outputs": [
    {
     "data": {
      "text/plain": [
       "array(['1078', '1085', '1141', '1146', '1201', '1393', '1397', '1408',\n",
       "       '1422', '1427', '1459', '1649', '1681', '1686', '1702', '1725A',\n",
       "       '1725B', '1843', '1867', '1868', '1879', '1880', '1902', '1907',\n",
       "       '2006', '2036', '2057', '2058', '2090', '2130', '2156', '2179',\n",
       "       '2191', '2238', '2306', '2329', '2347', '2417', '2418', '2453',\n",
       "       '247', '248', '249A', '249B', '250', '251', '252', '253', '254',\n",
       "       '2542', '255', '256', '2626', '2650', '2662', '2704', '2705',\n",
       "       '2715', '2764', '2839', '2842', '2845', '2862', '2926', '2992',\n",
       "       '3010', '3034', '3090', '3119', '314', '3140', '3144', '3263',\n",
       "       '3282', '3284', '3414', '3444', '3497', '3749', '4087', '4252',\n",
       "       '4290', '4427', '4463SE', '463', '478', '4875', '531', '571',\n",
       "       '596', '641', '739', '781', '812', '817', '818', '854', '886',\n",
       "       '898', '899', '936', '947', '952', '961', '977'], dtype=object)"
      ]
     },
     "execution_count": 6,
     "metadata": {},
     "output_type": "execute_result"
    }
   ],
   "source": [
    "KOIs"
   ]
  },
  {
   "cell_type": "code",
   "execution_count": 7,
   "metadata": {},
   "outputs": [],
   "source": [
    "strkois = [str(i) for i in KOIs]"
   ]
  },
  {
   "cell_type": "code",
   "execution_count": 8,
   "metadata": {},
   "outputs": [],
   "source": [
    "strkois = ['KOI ' + i for i in strkois]"
   ]
  },
  {
   "cell_type": "code",
   "execution_count": 9,
   "metadata": {},
   "outputs": [],
   "source": [
    "# Some of these are false positives, e.g. KOI 961\n",
    "\n",
    "# KOIs"
   ]
  },
  {
   "cell_type": "code",
   "execution_count": 10,
   "metadata": {},
   "outputs": [],
   "source": [
    "#np.savetxt('MuirheadKOIs.txt', strkois, fmt='%s')"
   ]
  },
  {
   "cell_type": "code",
   "execution_count": 11,
   "metadata": {},
   "outputs": [],
   "source": [
    "KIC1 = 9710326\n",
    "\n",
    "lcpath = '/Users/ssagear/Dropbox (UFL)/Research/MetallicityProject/photoeccentric/notebooks/datafiles/sample_LCs/'\n",
    "lclist = []\n",
    "\n",
    "for i in range(len(KICs)):\n",
    "    templst = []\n",
    "    for subdir, dirs, files in os.walk(lcpath):\n",
    "        for file in files:\n",
    "            if str(KICs[i]) in file:\n",
    "                templst.append(os.path.join(subdir, file))\n",
    "    lclist.append(templst)\n",
    "    \n",
    "    \n",
    "    \n",
    "    \n",
    "files = lclist[int(np.argwhere(KICs==KIC1))]"
   ]
  },
  {
   "cell_type": "code",
   "execution_count": 12,
   "metadata": {},
   "outputs": [],
   "source": [
    "hdus, t, f, fe, starts, stops = ph.get_stitched_lcs(files, 9710326)"
   ]
  },
  {
   "cell_type": "code",
   "execution_count": 13,
   "metadata": {},
   "outputs": [],
   "source": [
    "alltime_noclip = []\n",
    "allflux_noclip = []\n",
    "allfluxerr_noclip = []\n",
    "\n",
    "for sublist in t:\n",
    "    for item in sublist:\n",
    "        alltime_noclip.append(item)\n",
    "        \n",
    "for sublist in f:\n",
    "    for item in sublist:\n",
    "        allflux_noclip.append(item)\n",
    "        \n",
    "for sublist in fe:\n",
    "    for item in sublist:\n",
    "        allfluxerr_noclip.append(item)"
   ]
  },
  {
   "cell_type": "code",
   "execution_count": 14,
   "metadata": {},
   "outputs": [],
   "source": [
    "def sigma_clip(time, flux, fluxerr, sig=4):\n",
    "    for i in tqdm(range(len(flux))):\n",
    "        if flux[i] > np.nanmean(flux) + sig*np.nanstd(flux) or flux[i] < np.nanmean(flux) - sig*np.nanstd(flux):\n",
    "            time[i] = np.nan\n",
    "            flux[i] = np.nan\n",
    "            fluxerr[i] = np.nan\n",
    "            \n",
    "    return time, flux, fluxerr\n",
    "            "
   ]
  },
  {
   "cell_type": "code",
   "execution_count": 15,
   "metadata": {},
   "outputs": [
    {
     "data": {
      "image/png": "[encoded data removed]",
      "text/plain": [
       "<Figure size 864x576 with 1 Axes>"
      ]
     },
     "metadata": {
      "needs_background": "light"
     },
     "output_type": "display_data"
    }
   ],
   "source": [
    "# alltime, allflux, allfluxerr = sigma_clip(alltime_noclip, allflux_noclip, allfluxerr_noclip, sig=4)\n",
    "\n",
    "time, flux, flux_err = np.array(alltime_noclip), np.array(allflux_noclip), np.array(allfluxerr_noclip)\n",
    "\n",
    "plt.scatter(time, flux, s=1)\n",
    "plt.title('KOI 947')\n",
    "\n",
    "plt.ticklabel_format(useOffset=False, style='plain')"
   ]
  },
  {
   "cell_type": "markdown",
   "metadata": {},
   "source": [
    "# KOI 947"
   ]
  },
  {
   "cell_type": "code",
   "execution_count": 16,
   "metadata": {},
   "outputs": [],
   "source": [
    "kepid = 9710326\n",
    "kepname = spectplanets.loc[spectplanets['kepid'] == kepid].kepler_name.values[0]"
   ]
  },
  {
   "cell_type": "code",
   "execution_count": 17,
   "metadata": {},
   "outputs": [],
   "source": [
    "isodf = pd.read_csv(\"datafiles/isochrones/iso_lums_\" + str(kepid) + \".csv\")\n",
    "\n",
    "mstar = isodf[\"mstar\"].mean()\n",
    "mstar_err = isodf[\"mstar\"].std()\n",
    "\n",
    "rstar = isodf[\"radius\"].mean()\n",
    "rstar_err = isodf[\"radius\"].std()"
   ]
  },
  {
   "cell_type": "code",
   "execution_count": 18,
   "metadata": {},
   "outputs": [
    {
     "name": "stdout",
     "output_type": "stream",
     "text": [
      "Stellar mass (Msun):  0.48797798116154106 Stellar radius (Rsun):  0.4690682721275218\n",
      "Period (Days):  28.59914031 Rp/Rs:  0.036375\n",
      "a/Rs:  65.99499728728715\n",
      "i (deg):  89.99\n"
     ]
    }
   ],
   "source": [
    "period, period_uerr, period_lerr, rprs, rprs_uerr, rprs_lerr, a_arc, a_uerr_arc, a_lerr_arc, i, e_arc, w_arc = ph.planet_params_from_archive(spectplanets, kepname)\n",
    "\n",
    "# We calculate a_rs to ensure that it's consistent with the spec/Gaia stellar density.\n",
    "a_rs = ph.calc_a(period*86400.0, mstar*smass_kg, rstar*srad_m)\n",
    "a_rs_err = np.mean((a_uerr_arc, a_lerr_arc))\n",
    "\n",
    "print('Stellar mass (Msun): ', mstar, 'Stellar radius (Rsun): ', rstar)\n",
    "print('Period (Days): ', period, 'Rp/Rs: ', rprs)\n",
    "print('a/Rs: ', a_rs)\n",
    "print('i (deg): ', i)"
   ]
  },
  {
   "cell_type": "code",
   "execution_count": 19,
   "metadata": {},
   "outputs": [],
   "source": [
    "transitmpt = 2455022.92667000"
   ]
  },
  {
   "cell_type": "code",
   "execution_count": 20,
   "metadata": {},
   "outputs": [],
   "source": [
    "midpoints = np.concatenate((np.arange(transitmpt, starts[0], -period), np.arange(transitmpt, stops[-1], period)))"
   ]
  },
  {
   "cell_type": "code",
   "execution_count": 21,
   "metadata": {},
   "outputs": [],
   "source": [
    "# plt.scatter(np.array(alltime)-2454833, allflux, s=2)\n",
    "\n",
    "# for i in range(len(midpoints)):\n",
    "#     plt.axvline(midpoints[i]-2454833, c='r')\n",
    "    \n",
    "# #plt.axvline(2454967, c='g')\n",
    "# #plt.axvline(2454967 + period, c='g')\n",
    "# #plt.axvline(2454965.72900, c='b')\n",
    "# #plt.axvline(2455022.92667000-period, c='k')\n",
    "    \n",
    "# #plt.xlim(alltime[0], alltime[-1])\n",
    "# #plt.ylim(0.99,1.06)\n",
    "# plt.xticks(ticks=np.arange(175, 260, 5))\n",
    "# plt.ticklabel_format(useOffset=False, style='plain')\n",
    "    "
   ]
  },
  {
   "cell_type": "code",
   "execution_count": 22,
   "metadata": {},
   "outputs": [],
   "source": [
    "# medfilt = scipy.signal.medfilt(allflux, kernel_size=101)\n",
    "\n",
    "# plt.scatter(np.array(alltime)-2454900.0, allflux-medfilt+1, s=2)\n",
    "\n",
    "# #plt.scatter(np.array(alltime)-2454900.0, allflux, s=2)\n",
    "# #plt.plot(np.array(alltime)-2454900.0, medfilt)\n",
    "\n",
    "# for i in range(len(midpoints)):\n",
    "#     plt.axvline(midpoints[i]-2454900.0, c='r')\n",
    "    \n",
    "# # plt.axvline(2454967-2454900.0, c='g')\n",
    "# # plt.axvline(2454967-2454900.0 + period, c='g')\n",
    "# # plt.axvline(2454965.72900-2454900, c='b')\n",
    "    \n",
    "# #plt.xlim(0, 100)\n",
    "# #plt.ylim(0.998, 1.001)\n",
    "# #plt.xticks(ticks=np.arange(100, 200, 5))\n",
    "# plt.ticklabel_format(useOffset=False, style='plain')"
   ]
  },
  {
   "cell_type": "code",
   "execution_count": 23,
   "metadata": {},
   "outputs": [],
   "source": [
    "#midpoints = np.unique(list(midjd[midjd['planetname'] == 'Kepler-737 b']['midpointjd']))\n",
    "#midpoints_errs = np.unique(list(midjd[midjd['username'] == 'KOI ' + '947']['propmidpointunc']))"
   ]
  },
  {
   "cell_type": "code",
   "execution_count": 24,
   "metadata": {},
   "outputs": [],
   "source": [
    "def get_KIC(KOI, muirhead_comb):\n",
    "    return muirhead_comb[muirhead_comb['KOI'] == str(KOI)].KIC.item()"
   ]
  },
  {
   "cell_type": "code",
   "execution_count": 25,
   "metadata": {},
   "outputs": [
    {
     "data": {
      "text/plain": [
       "array([0. , 0.2])"
      ]
     },
     "execution_count": 25,
     "metadata": {},
     "output_type": "execute_result"
    }
   ],
   "source": [
    "u = np.array([0,1])\n",
    "u*0.2"
   ]
  },
  {
   "cell_type": "code",
   "execution_count": 26,
   "metadata": {},
   "outputs": [],
   "source": [
    "# def tfit_loglike(theta):\n",
    "#     \"\"\"\n",
    "#     Transit fit dynesty function\n",
    "\n",
    "#     model = ph.integratedlc_fitter()\n",
    "#     gerr = sigma of g distribution\n",
    "\n",
    "#     \"\"\"\n",
    "\n",
    "#     per, rprs, a_rs, inc, t0 = theta\n",
    "\n",
    "#     model = ph.integratedlc_fitter(t1, per, rprs, a_rs, inc, t0)\n",
    "#     sigma2 = fe1 ** 2\n",
    "    \n",
    "#     plt.plot(t1, fnorm)\n",
    "#     plt.plot(t1, model)\n",
    "#     plt.show()\n",
    "    \n",
    "#     return -0.5 * np.sum((fnorm - model) ** 2 / sigma2 + np.log(sigma2))\n",
    "\n",
    "\n",
    "# def tfit_prior_transform(utheta):\n",
    "#     \"\"\"Transforms samples `u` drawn from the unit cube to samples to those\n",
    "#     from our uniform prior within [-10., 10.) for each variable.\"\"\"\n",
    "\n",
    "#     uper, urp, ua, uinc, ut0 = utheta\n",
    "\n",
    "#     per = uper*3.+27.\n",
    "#     rprs = urp\n",
    "#     a_rs = ua*15.+64.\n",
    "#     inc = uinc*2.+88.\n",
    "#     t0 = ut0*2.-1.\n",
    "\n",
    "#     return per, rprs, a_rs, inc, t0"
   ]
  },
  {
   "cell_type": "code",
   "execution_count": 36,
   "metadata": {},
   "outputs": [],
   "source": [
    "priortransform = [3., 27., 1., 0., 15., 64., 2., 88., 2., -1.]"
   ]
  },
  {
   "cell_type": "code",
   "execution_count": null,
   "metadata": {},
   "outputs": [],
   "source": [
    "def fit_keplc_emcee(KOI, midpoints, time, flux, flux_err, period, nwalk, nsteps, ndiscard, arrlen, nbuffer, spectplanets, muirhead_comb):\n",
    "    \n",
    "    \n",
    "    \"\"\"\n",
    "    \n",
    "        \n",
    "    \n",
    "    \"\"\"\n",
    "    # Get alt IDs\n",
    "    kepid = get_KIC(KOI, muirhead_comb)\n",
    "    kepname = spectplanets.loc[spectplanets['kepid'] == kepid].kepler_name.values[0]\n",
    "    \n",
    "    # Define directory to save\n",
    "    direct = 'ph_segfits/' + str(KOI) + '_emcee/'\n",
    "    if not os.path.exists(direct):\n",
    "        os.mkdir(direct)\n",
    "\n",
    "    # Read in isohrone fits from csv\n",
    "    isodf = pd.read_csv(\"datafiles/isochrones/iso_lums_\" + str(kepid) + \".csv\")\n",
    "\n",
    "    # Stellar params from isochrone\n",
    "    mstar = isodf[\"mstar\"].mean()\n",
    "    mstar_err = isodf[\"mstar\"].std()\n",
    "    rstar = isodf[\"radius\"].mean()\n",
    "    rstar_err = isodf[\"radius\"].std()\n",
    "\n",
    "    # Planet params from archive\n",
    "    period, period_uerr, period_lerr, rprs, rprs_uerr, rprs_lerr, _, _, _, inc, _, _ = ph.planet_params_from_archive(spectplanets, kepname)\n",
    "\n",
    "    # Calculate a/Rs to ensure that it's consistent with the spectroscopy/Gaia stellar density.\n",
    "    a_rs = ph.calc_a(period*86400.0, mstar*smass_kg, rstar*srad_m)\n",
    "    a_rs_err = np.mean((a_uerr_arc, a_lerr_arc))\n",
    "\n",
    "    print('Stellar mass (Msun): ', mstar, 'Stellar radius (Rsun): ', rstar)\n",
    "    print('Period (Days): ', period, 'Rp/Rs: ', rprs)\n",
    "    print('a/Rs: ', a_rs)\n",
    "    print('i (deg): ', inc)\n",
    "\n",
    "    for ind in range(0, len(midpoints)):\n",
    "        \n",
    "        transitmid = midpoints[ind]\n",
    "\n",
    "        m, b, t1bjd, t1, fnorm, fe1 = ph.do_linfit(time, flux, flux_err, transitmid, nbuffer, 5)\n",
    "\n",
    " \n",
    "        # Inital guess: period, rprs, a/Rs, i, w\n",
    "        p0 = [rprs, a_rs, inc, 0.0]\n",
    "\n",
    "        \n",
    "        mid = ph.get_mid(t1)\n",
    "        ptime = ph.get_ptime(t1, mid, 29)\n",
    "        \n",
    "        arrlen = (nsteps-ndiscard)*nwalk\n",
    "\n",
    "        # EMCEE Transit Model Fitting\n",
    "        _, _, rdist, adist, idist, t0dist = ph.mcmc_fitter_noper(p0, period, t1, ptime, fnorm, fe1, nwalk, nsteps_d, ndiscard_d, 'X', 'X', direct, plot_Tburnin=False, plot_Tcorner=False)\n",
    "\n",
    "        # Create a light curve with the fit parameters\n",
    "        mcmcfit = ph.integratedlc_fitter(t1, period, ph.mode(rdist), ph.mode(adist), ph.mode(idist), ph.mode(t0dist))\n",
    "        truefit = ph.integratedlc_fitter(t1, period, rprs, a_rs, i, 0)\n",
    "\n",
    "        plt.cla()\n",
    "        offset = 2454900.0\n",
    "        plt.errorbar(t1bjd-offset, fnorm, yerr=fe1, c='blue', alpha=0.5, label='Original LC', fmt=\"o\", capsize=0)\n",
    "        plt.scatter(t1bjd-offset, mcmcfit, c='red', alpha=1.0, label='Fit LC')\n",
    "        plt.plot(t1bjd-offset, mcmcfit, c='red', alpha=1.0)\n",
    "        plt.plot(t1bjd-offset, truefit, c='green', alpha=0.4)\n",
    "        plt.xlabel('BJD-2454900.0')\n",
    "\n",
    "        textstr = '\\n'.join((\n",
    "        r'$\\mathrm{Rp/Rs}=%.2f$' % (ph.mode(rdist), ),\n",
    "        r'$\\mathrm{a_rs}=%.2f$' % (ph.mode(adist), ),\n",
    "        r'$\\mathrm{i}=%.2f$' % (ph.mode(idist), ),\n",
    "        r'$\\mathrm{t0}=%.2f$' % (ph.mode(t0dist), )))\n",
    "        plt.title(textstr)\n",
    "\n",
    "        plt.legend()\n",
    "\n",
    "        plt.savefig(direct + str(KOI) + 'segment' + str(ind) + 'fit.png')\n",
    "\n",
    "\n"
   ]
  },
  {
   "cell_type": "code",
   "execution_count": 51,
   "metadata": {},
   "outputs": [],
   "source": [
    "def fit_keplc_dynesty(KOI, midpoints, time, flux, flux_err, period, pt, arrlen, nbuffer, spectplanets, muirhead_comb):\n",
    "    \n",
    "    \n",
    "    \"\"\"\n",
    "    One-step long-cadence light curve fitting with `dynesty`.\n",
    "    \n",
    "    Parameters:\n",
    "    ----------\n",
    "    KOI: int\n",
    "        KOI # of planet\n",
    "    midpoints: list\n",
    "        Transit mid-times (BJD).\n",
    "    time: np.array\n",
    "        Time stamps of stitched long-cadence LCs.\n",
    "    flux: np.array\n",
    "        Normalized flux (to 1) of stitched long-cadence LCs.\n",
    "    flux_err: np.array\n",
    "        Normalized flux errors (to 1) of stitched long-cadence LCs.\n",
    "    period: float\n",
    "        Orbital period (days)\n",
    "    pt: list\n",
    "        Prior transform parameters: [period width, period offset, Rp/Rs width, Rp/Rs offset, \n",
    "        a/Rs width, a/Rs offset, inclination width, inclination offset, t0 width, t0 offset]\n",
    "    arrlen: int\n",
    "        Length of planet parameter distributions. Must match length of rho_star when fitting eccentricity.\n",
    "    nbuffer: int\n",
    "        Number of out-of-transit data points to keep before and after transit\n",
    "    spectplanets: pd.DataFrame\n",
    "        Spectroscopy data from Muirhead et al. (2013) for targets\n",
    "    muirhead_comb: pd.DataFrame\n",
    "        Combined stellar params and Gaia data for targets\n",
    "        \n",
    "    Returns:\n",
    "    -------\n",
    "    ms: list\n",
    "        Linear fit slopes in order.\n",
    "    bs: list\n",
    "        Linear fit y-intercepts in order.\n",
    "    timesBJD: list\n",
    "        Time stamps of transit segments, BJD.\n",
    "    timesPhase: list\n",
    "        Time stamps of transit segments, phase (midpoint=0).\n",
    "    fluxNorm: list\n",
    "        Normalized, linfit-subtracted flux of transit segments.\n",
    "    fluxErrs: list\n",
    "        Normalized flux errors of transit segments.\n",
    "    perDists: list\n",
    "        Fit period distributions.\n",
    "    rpDists: list\n",
    "        Fit Rp/Rs distributions.\n",
    "    arsDists: list\n",
    "        Fit a/Rs distributions.\n",
    "    incDists: list\n",
    "        Fit inclination distributions.\n",
    "    t0Dists: lsit\n",
    "        Fit t0 distributions.\n",
    "        \n",
    "    \n",
    "    \"\"\"\n",
    "    ms, bs, timesBJD, timesPhase, fluxNorm, fluxErrs, perDists, rpDists, arsDists, incDists, t0Dists = ([], ) * 11\n",
    "    \n",
    "    # Get alt IDs\n",
    "    kepid = get_KIC(KOI, muirhead_comb)\n",
    "    kepname = spectplanets.loc[spectplanets['kepid'] == kepid].kepler_name.values[0]\n",
    "    \n",
    "    # Define directory to save\n",
    "    direct = 'ph_segfits/' + str(KOI) + '_dynesty/'\n",
    "    if not os.path.exists(direct):\n",
    "        os.mkdir(direct)\n",
    "\n",
    "    # Read in isochrone fits from csv\n",
    "    isodf = pd.read_csv(\"datafiles/isochrones/iso_lums_\" + str(kepid) + \".csv\")\n",
    "\n",
    "    # Stellar params from isochrone\n",
    "    mstar = isodf[\"mstar\"].mean()\n",
    "    mstar_err = isodf[\"mstar\"].std()\n",
    "    rstar = isodf[\"radius\"].mean()\n",
    "    rstar_err = isodf[\"radius\"].std()\n",
    "\n",
    "    # Planet params from archive\n",
    "    period, period_uerr, period_lerr, rprs, rprs_uerr, rprs_lerr, _, _, _, i, _, _ = ph.planet_params_from_archive(spectplanets, kepname)\n",
    "\n",
    "    # Calculate a/Rs to ensure that it's consistent with the spectroscopy/Gaia stellar density.\n",
    "    a_rs = ph.calc_a(period*86400.0, mstar*smass_kg, rstar*srad_m)\n",
    "    a_rs_err = np.mean((a_uerr_arc, a_lerr_arc))\n",
    "\n",
    "    print('Stellar mass (Msun): ', mstar, 'Stellar radius (Rsun): ', rstar)\n",
    "    print('Period (Days): ', period, 'Rp/Rs: ', rprs)\n",
    "    print('a/Rs: ', a_rs)\n",
    "    print('i (deg): ', i)\n",
    "\n",
    "    for ind in range(0, len(midpoints)):\n",
    "        \n",
    "        transitmid = midpoints[ind]\n",
    "\n",
    "        m, b, t1bjd, t1, fnorm, fe1 = ph.do_linfit(time, flux, flux_err, transitmid, nbuffer, 5)\n",
    "        \n",
    "        fnorm = np.nan_to_num(fnorm, nan=1.0)\n",
    "        fe1 = np.nan_to_num(fe1, nan=np.nanmedian(fe1))\n",
    "\n",
    "        \"\"\"Define `dynesty` log likelihood and prior transform functions\"\"\"\n",
    "        \n",
    "        def tfit_loglike(theta):\n",
    "            \"\"\"\n",
    "            Transit fit dynesty function\n",
    "\n",
    "            model = ph.integratedlc_fitter()\n",
    "            gerr = sigma of g distribution\n",
    "\n",
    "            \"\"\"\n",
    "\n",
    "            per, rprs, a_rs, inc, t0 = theta\n",
    "\n",
    "            model = ph.integratedlc_fitter(t1, per, rprs, a_rs, inc, t0)\n",
    "            sigma2 = fe1 ** 2\n",
    "\n",
    "            return -0.5 * np.sum((fnorm - model) ** 2 / sigma2 + np.log(sigma2))\n",
    "\n",
    "\n",
    "        def tfit_prior_transform(utheta):\n",
    "            \"\"\"Transforms samples `u` drawn from the unit cube to samples to those\n",
    "            from our uniform prior for each variable.\"\"\"\n",
    "\n",
    "            uper, urp, ua, uinc, ut0 = utheta\n",
    "\n",
    "            per = uper*pt[0]+pt[1]\n",
    "            rprs = urp*pt[2]+pt[3]\n",
    "            a_rs = ua*pt[4]+pt[5]\n",
    "            inc = uinc*pt[6]+pt[7]\n",
    "            t0 = ut0*pt[8]+pt[9]\n",
    "\n",
    "            return per, rprs, a_rs, inc, t0\n",
    "\n",
    "        dsampler = dynesty.DynamicNestedSampler(tfit_loglike, tfit_prior_transform, ndim=5, nlive=1000,\n",
    "                                    bound='multi', sample='rwalk')\n",
    "        \n",
    "        dsampler.run_nested()\n",
    "        dres = dsampler.results\n",
    "\n",
    "        # Thinning distributions to size arrlen\n",
    "        pdist = random.choices(dres.samples[:,0], k=arrlen)\n",
    "        rdist = random.choices(dres.samples[:,1], k=arrlen)\n",
    "        adist = random.choices(dres.samples[:,2], k=arrlen)\n",
    "        idist = random.choices(dres.samples[:,3], k=arrlen)\n",
    "        t0dist = random.choices(dres.samples[:,4], k=arrlen)\n",
    "\n",
    "        per_f = ph.mode(dres.samples[:,0])\n",
    "        rprs_f = ph.mode(dres.samples[:,1])\n",
    "        a_f = ph.mode(dres.samples[:,2])\n",
    "        i_f = ph.mode(dres.samples[:,3])\n",
    "        t0_f = ph.mode(dres.samples[:,4])\n",
    "\n",
    "        \n",
    "        \"\"\"Plot and save transit fit\"\"\"\n",
    "\n",
    "        # Create a light curve with the fit parameters\n",
    "        nestedfit = ph.integratedlc_fitter(t1, per_f, rprs_f, a_f, i_f, t0_f)\n",
    "        truefit = ph.integratedlc_fitter(t1, period, rprs, a_rs, i, 0)\n",
    "\n",
    "        plt.cla()\n",
    "        offset = 2454900.0\n",
    "        plt.errorbar(t1bjd-offset, fnorm, yerr=fe1, c='blue', alpha=0.5, label='Original LC', fmt=\"o\", capsize=0)\n",
    "        plt.scatter(t1bjd-offset, nestedfit, c='red', alpha=1.0, label='Fit LC')\n",
    "        plt.plot(t1bjd-offset, nestedfit, c='red', alpha=1.0)\n",
    "        plt.plot(t1bjd-offset, truefit, c='green', alpha=0.4)\n",
    "        plt.xlabel('BJD-2454900.0')\n",
    "        plt.ylabel(' Relative Flux')\n",
    "\n",
    "        textstr = '\\n'.join((\n",
    "        r'$\\mathrm{Period}=%.2f$' % (ph.mode(pdist), ),\n",
    "        r'$\\mathrm{Rp/Rs}=%.2f$' % (ph.mode(rdist), ),\n",
    "        r'$\\mathrm{a_rs}=%.2f$' % (ph.mode(adist), ),\n",
    "        r'$\\mathrm{i}=%.2f$' % (ph.mode(idist), ),\n",
    "        r'$\\mathrm{t0}=%.2f$' % (ph.mode(t0dist), )))\n",
    "        plt.title(textstr)\n",
    "\n",
    "        plt.legend()\n",
    "\n",
    "        plt.savefig(direct + str(KOI) + 'segment' + str(ind) + 'fit.png')\n",
    "        \n",
    "        ms.append(m)\n",
    "        bs.append(b)\n",
    "        timesBJD.append(t1bjd)\n",
    "        timesPhase.append(t1)\n",
    "        fluxNorm.append(fnorm)\n",
    "        fluxErrs.append(fe1)\n",
    "        perDists.append(pdist)\n",
    "        rpDists.append(rdist)\n",
    "        arsDists.append(adist)\n",
    "        incDists.append(idist)\n",
    "        t0Dists.append(t0dist)\n",
    "        \n",
    "            \n",
    "    return ms, bs, timesBJD, timesPhase, fluxNorm, fluxErrs, perDists, rpDists, arsDists, incDists, t0Dist\n",
    "\n"
   ]
  },
  {
   "cell_type": "code",
   "execution_count": null,
   "metadata": {
    "scrolled": true
   },
   "outputs": [
    {
     "name": "stderr",
     "output_type": "stream",
     "text": [
      "\r",
      "0it [00:00, ?it/s]"
     ]
    },
    {
     "name": "stdout",
     "output_type": "stream",
     "text": [
      "Stellar mass (Msun):  0.48797798116154106 Stellar radius (Rsun):  0.4690682721275218\n",
      "Period (Days):  28.59914031 Rp/Rs:  0.036375\n",
      "a/Rs:  65.99499728728715\n",
      "i (deg):  89.99\n"
     ]
    },
    {
     "name": "stderr",
     "output_type": "stream",
     "text": [
      "24903it [12:51, 32.27it/s, batch: 12 | bound: 255 | nc: 25 | ncall: 688299 | eff(%):  3.618 | loglstar: 157.882 < 168.252 < 167.401 | logz: 160.254 +/-  0.158 | stop:  0.898]      \n",
      "6709it [03:21, 39.99it/s, batch: 0 | bound: 83 | nc: 25 | ncall: 209574 | eff(%):  3.194 | loglstar:   -inf < 165.389 <    inf | logz: 156.009 +/-  0.176 | dlogz:  0.022 >  0.010]"
     ]
    }
   ],
   "source": [
    "ms, bs, timesBJD, timesPhase, fluxNorm, fluxErrs, perDists, rpDists, arsDists, incDists, t0Dists = fit_keplc_dynesty(947, midpoints, time, flux, flux_err, period, priortransform, arrlen, 11, spectplanets, muirhead_comb)"
   ]
  },
  {
   "cell_type": "code",
   "execution_count": null,
   "metadata": {},
   "outputs": [],
   "source": []
  },
  {
   "cell_type": "code",
   "execution_count": null,
   "metadata": {},
   "outputs": [],
   "source": []
  },
  {
   "cell_type": "code",
   "execution_count": null,
   "metadata": {},
   "outputs": [],
   "source": []
  }
 ],
 "metadata": {
  "kernelspec": {
   "display_name": "Python 3",
   "language": "python",
   "name": "python3"
  },
  "language_info": {
   "codemirror_mode": {
    "name": "ipython",
    "version": 3
   },
   "file_extension": ".py",
   "mimetype": "text/x-python",
   "name": "python",
   "nbconvert_exporter": "python",
   "pygments_lexer": "ipython3",
   "version": "3.8.5"
  }
 },
 "nbformat": 4,
 "nbformat_minor": 4
}
