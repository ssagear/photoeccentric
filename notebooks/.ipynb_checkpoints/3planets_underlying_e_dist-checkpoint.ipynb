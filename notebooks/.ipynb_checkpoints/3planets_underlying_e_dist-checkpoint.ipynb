{
 "cells": [
  {
   "cell_type": "code",
   "execution_count": 179,
   "metadata": {},
   "outputs": [
    {
     "name": "stdout",
     "output_type": "stream",
     "text": [
      "The autoreload extension is already loaded. To reload it, use:\n",
      "  %reload_ext autoreload\n"
     ]
    }
   ],
   "source": [
    "import numpy as np\n",
    "import matplotlib.pyplot as plt\n",
    "import pandas as pd\n",
    "from tqdm import tqdm\n",
    "from astropy.table import Table\n",
    "import astropy.units as u\n",
    "import os\n",
    "\n",
    "# Using `batman` to create & fit fake transit\n",
    "import batman\n",
    "\n",
    "# Using astropy BLS and scipy curve_fit to fit transit\n",
    "from astropy.timeseries import BoxLeastSquares\n",
    "\n",
    "# Using emcee & corner to find and plot (e, w) distribution with MCMC\n",
    "import emcee\n",
    "import corner\n",
    "\n",
    "# Using dynesty to do the same with nested sampling\n",
    "import dynesty\n",
    "\n",
    "import scipy.constants as c\n",
    "\n",
    "# And importing `photoeccentric`\n",
    "import photoeccentric as ph\n",
    "\n",
    "%load_ext autoreload\n",
    "%autoreload 2\n",
    "\n",
    "# pandas display option\n",
    "pd.set_option('display.float_format', lambda x: '%.5f' % x)\n",
    "\n"
   ]
  },
  {
   "cell_type": "markdown",
   "metadata": {},
   "source": [
    "1. Choose 3 planets with e from a Gaussian distrbution with (0.5, 0.2)\n",
    "2. Fit them using photoeccentric, find fit e and w\n",
    "3. Implement Van Eylen equation to find underlying e dist on surface"
   ]
  },
  {
   "cell_type": "code",
   "execution_count": 180,
   "metadata": {},
   "outputs": [],
   "source": [
    "true_es = np.random.normal(loc=0.5, scale=0.2, size=3)\n",
    "true_ws = np.random.uniform(low=-90, high=270, size=3)"
   ]
  },
  {
   "cell_type": "code",
   "execution_count": 181,
   "metadata": {},
   "outputs": [
    {
     "data": {
      "text/plain": [
       "array([0.27456846, 0.16929805, 0.80043424])"
      ]
     },
     "execution_count": 181,
     "metadata": {},
     "output_type": "execute_result"
    }
   ],
   "source": [
    "true_es"
   ]
  },
  {
   "cell_type": "code",
   "execution_count": 182,
   "metadata": {},
   "outputs": [],
   "source": [
    "nwalk = 64\n",
    "nsteps = 1000\n",
    "ndiscard = 500\n",
    "arrlen = (nsteps-ndiscard)*nwalk\n",
    "\n",
    "smass_kg = 1.9885e30  # Solar mass (kg)\n",
    "srad_m = 696.34e6 # Solar radius (m)"
   ]
  },
  {
   "cell_type": "code",
   "execution_count": 183,
   "metadata": {},
   "outputs": [
    {
     "name": "stderr",
     "output_type": "stream",
     "text": [
      "/Users/ssagear/anaconda3/lib/python3.8/site-packages/IPython/core/interactiveshell.py:3418: TableReplaceWarning: converted column 'r_result_flag' from integer to float\n",
      "  exec(code_obj, self.user_global_ns, self.user_ns)\n",
      "/Users/ssagear/anaconda3/lib/python3.8/site-packages/IPython/core/interactiveshell.py:3418: TableReplaceWarning: converted column 'r_modality_flag' from integer to float\n",
      "  exec(code_obj, self.user_global_ns, self.user_ns)\n",
      "/Users/ssagear/anaconda3/lib/python3.8/site-packages/IPython/core/interactiveshell.py:3418: TableReplaceWarning: converted column 'teff_err1' from integer to float\n",
      "  exec(code_obj, self.user_global_ns, self.user_ns)\n",
      "/Users/ssagear/anaconda3/lib/python3.8/site-packages/IPython/core/interactiveshell.py:3418: TableReplaceWarning: converted column 'teff_err2' from integer to float\n",
      "  exec(code_obj, self.user_global_ns, self.user_ns)\n"
     ]
    }
   ],
   "source": [
    "muirhead_data = pd.read_csv(\"datafiles/Muirhead2013_isochrones/muirhead_data_incmissing.txt\", sep=\" \")\n",
    "\n",
    "# ALL Kepler planets from exo archive\n",
    "planets = pd.read_csv('datafiles/exoplanetarchive/cumulative_kois.csv')\n",
    "\n",
    "# Take the Kepler planet archive entries for the planets in Muirhead et al. 2013 sample\n",
    "spectplanets = pd.read_csv('spectplanets.csv')\n",
    "\n",
    "# Kepler-Gaia Data\n",
    "kpgaia = Table.read('datafiles/Kepler-Gaia/kepler_dr2_4arcsec.fits', format='fits').to_pandas();\n",
    "\n",
    "# Kepler-Gaia data for only the objects in our sample\n",
    "muirhead_gaia = pd.read_csv(\"muirhead_gaia.csv\")\n",
    "\n",
    "# Combined spectroscopy data + Gaia/Kepler data for our sample\n",
    "muirhead_comb = pd.read_csv('muirhead_comb.csv')\n",
    "\n",
    "# Only targets from table above with published luminosities from Gaia\n",
    "muirhead_comb_lums = pd.read_csv('muirhead_comb_lums.csv')"
   ]
  },
  {
   "cell_type": "code",
   "execution_count": 184,
   "metadata": {},
   "outputs": [],
   "source": [
    "# Kepler ID for Kepler-1582 b\n",
    "kepid = 9710326\n",
    "kepname = spectplanets.loc[spectplanets['kepid'] == kepid].kepler_name.values[0]\n",
    "\n",
    "kp737b = muirhead_comb.loc[muirhead_comb['KIC'] == kepid]\n",
    "\n",
    "KOI = 947"
   ]
  },
  {
   "cell_type": "code",
   "execution_count": 185,
   "metadata": {},
   "outputs": [],
   "source": [
    "isodf = pd.read_csv(\"datafiles/isochrones/iso_lums_\" + str(kepid) + \".csv\")"
   ]
  },
  {
   "cell_type": "code",
   "execution_count": 186,
   "metadata": {},
   "outputs": [],
   "source": [
    "mstar = isodf[\"mstar\"].mean()\n",
    "mstar_err = isodf[\"mstar\"].std()\n",
    "\n",
    "rstar = isodf[\"radius\"].mean()\n",
    "rstar_err = isodf[\"radius\"].std()"
   ]
  },
  {
   "cell_type": "code",
   "execution_count": 187,
   "metadata": {},
   "outputs": [],
   "source": [
    "rho_star, mass, radius = ph.find_density_dist_symmetric(mstar, mstar_err, rstar, rstar_err, arrlen)"
   ]
  },
  {
   "cell_type": "code",
   "execution_count": 188,
   "metadata": {},
   "outputs": [
    {
     "name": "stdout",
     "output_type": "stream",
     "text": [
      "Stellar mass (Msun):  0.48797798116154106 Stellar radius (Rsun):  0.4690682721275218\n",
      "Period (Days):  28.59914031 Rp/Rs:  0.036375\n",
      "a/Rs:  65.99499728728715\n",
      "i (deg):  89.99\n"
     ]
    }
   ],
   "source": [
    "period, period_uerr, period_lerr, rprs, rprs_uerr, rprs_lerr, a_arc, a_uerr_arc, a_lerr_arc, i, e_arc, w_arc = ph.planet_params_from_archive(spectplanets, kepname)\n",
    "\n",
    "# We calculate a_rs to ensure that it's consistent with the spec/Gaia stellar density.\n",
    "a_rs = ph.calc_a(period*86400.0, mstar*smass_kg, rstar*srad_m)\n",
    "a_rs_err = np.mean((a_uerr_arc, a_lerr_arc))\n",
    "\n",
    "print('Stellar mass (Msun): ', mstar, 'Stellar radius (Rsun): ', rstar)\n",
    "print('Period (Days): ', period, 'Rp/Rs: ', rprs)\n",
    "print('a/Rs: ', a_rs)\n",
    "print('i (deg): ', i)"
   ]
  },
  {
   "cell_type": "code",
   "execution_count": 245,
   "metadata": {},
   "outputs": [],
   "source": [
    "inc = 89.99"
   ]
  },
  {
   "cell_type": "markdown",
   "metadata": {},
   "source": [
    "## First Planet"
   ]
  },
  {
   "cell_type": "code",
   "execution_count": 189,
   "metadata": {},
   "outputs": [],
   "source": [
    "# 30 minute cadence\n",
    "cadence = 0.02142857142857143\n",
    "\n",
    "time = np.arange(-300, 300, cadence)"
   ]
  },
  {
   "cell_type": "code",
   "execution_count": 225,
   "metadata": {},
   "outputs": [
    {
     "data": {
      "text/plain": [
       "0.27456846447442634"
      ]
     },
     "execution_count": 225,
     "metadata": {},
     "output_type": "execute_result"
    }
   ],
   "source": [
    "e"
   ]
  },
  {
   "cell_type": "code",
   "execution_count": 226,
   "metadata": {},
   "outputs": [
    {
     "data": {
      "text/plain": [
       "189.9979425534783"
      ]
     },
     "execution_count": 226,
     "metadata": {},
     "output_type": "execute_result"
    }
   ],
   "source": [
    "w"
   ]
  },
  {
   "cell_type": "code",
   "execution_count": 191,
   "metadata": {},
   "outputs": [],
   "source": [
    "# Define e and w, calculate flux from transit model\n",
    "e = true_es[0]\n",
    "w = true_ws[0]\n",
    "flux = ph.integratedlc(time, period, rprs, a_rs, e, i, w, 0.0)\n",
    "\n",
    "# Adding some gaussian noise on the order of Kepler noise (by eyeball)\n",
    "noise = np.random.normal(0,0.0001,len(time))\n",
    "nflux = flux+noise\n",
    "\n",
    "flux_err = np.array([0.0001]*len(nflux))"
   ]
  },
  {
   "cell_type": "code",
   "execution_count": 192,
   "metadata": {},
   "outputs": [
    {
     "data": {
      "text/plain": [
       "<matplotlib.legend.Legend at 0x7fb823339040>"
      ]
     },
     "execution_count": 192,
     "metadata": {},
     "output_type": "execute_result"
    },
    {
     "data": {
      "image/png": "[encoded data removed]",
      "text/plain": [
       "<Figure size 432x288 with 1 Axes>"
      ]
     },
     "metadata": {
      "needs_background": "light"
     },
     "output_type": "display_data"
    }
   ],
   "source": [
    "plt.errorbar(time, nflux, yerr=flux_err, fmt='o')\n",
    "plt.xlabel('Time')\n",
    "plt.ylabel('Flux')\n",
    "plt.xlim(-0.5, 0.5)\n",
    "plt.axvline(0.0, c='r', label='Transit midpoint')\n",
    "plt.legend()"
   ]
  },
  {
   "cell_type": "code",
   "execution_count": 193,
   "metadata": {},
   "outputs": [],
   "source": [
    "transitmpt = 0\n",
    "\n",
    "midpoints = np.unique(np.sort(np.concatenate((np.arange(transitmpt, time[0], -period), np.arange(transitmpt, time[-1], period)))))"
   ]
  },
  {
   "cell_type": "markdown",
   "metadata": {},
   "source": [
    "## Fitting the transit"
   ]
  },
  {
   "cell_type": "code",
   "execution_count": 194,
   "metadata": {},
   "outputs": [],
   "source": [
    "# Remove Out of Transit Data\n",
    "\n",
    "ttime = []\n",
    "tflux = []\n",
    "tflux_err = []\n",
    "\n",
    "for i in range(len(midpoints)):\n",
    "\n",
    "    m, b, t1bjd, t1, fnorm, fe1 = ph.do_linfit(time, nflux, flux_err, midpoints[i], 11, 5)\n",
    "    ttime.append(t1bjd)\n",
    "    tflux.append(fnorm)\n",
    "    tflux_err.append(fe1)\n",
    "    \n",
    "\n",
    "ttime = np.array(ttime).flatten()\n",
    "tflux = np.array(tflux).flatten()\n",
    "tflux_err = np.array(tflux_err).flatten()\n",
    "\n",
    "tflux = np.nan_to_num(tflux, nan=1.0)\n",
    "tflux_err = np.nan_to_num(tflux_err, nan=np.nanmedian(tflux_err))"
   ]
  },
  {
   "cell_type": "code",
   "execution_count": 196,
   "metadata": {},
   "outputs": [
    {
     "name": "stderr",
     "output_type": "stream",
     "text": [
      "\r",
      "0it [00:00, ?it/s]"
     ]
    },
    {
     "name": "stdout",
     "output_type": "stream",
     "text": [
      "Stellar mass (Msun):  0.48797798116154106 Stellar radius (Rsun):  0.4690682721275218\n",
      "Period (Days):  28.59914031 Rp/Rs:  0.036375\n",
      "a/Rs:  65.99499728728715\n",
      "i (deg):  89.99\n"
     ]
    },
    {
     "name": "stderr",
     "output_type": "stream",
     "text": [
      "33639it [4:18:01,  2.17it/s, batch: 10 | bound: 382 | nc: 25 | ncall: 828803 | eff(%):  4.059 | loglstar: 4018.007 < 4025.025 < 4024.535 | logz: 3996.392 +/-  0.321 | stop:  0.890]      \n"
     ]
    },
    {
     "data": {
      "image/png": "[encoded data removed]",
      "text/plain": [
       "<Figure size 432x288 with 1 Axes>"
      ]
     },
     "metadata": {
      "needs_background": "light"
     },
     "output_type": "display_data"
    }
   ],
   "source": [
    "priortransform = [3., 27., 1., 0., 15., 64., 2., 88., 0.1, transitmpt]\n",
    "nbuffer = 11\n",
    "\n",
    "dres, perDists, rpDists, arsDists, incDists, t0Dist = ph.fit_keplc_dynesty(KOI, midpoints, ttime, tflux, tflux_err, priortransform, arrlen, nbuffer, spectplanets, muirhead_comb)\n"
   ]
  },
  {
   "cell_type": "code",
   "execution_count": 224,
   "metadata": {},
   "outputs": [],
   "source": [
    "#perDists"
   ]
  },
  {
   "cell_type": "code",
   "execution_count": 199,
   "metadata": {},
   "outputs": [],
   "source": [
    "np.savetxt('S1periods.csv', perDists, delimiter=',')\n",
    "np.savetxt('S1rprs.csv', rpDists, delimiter=',')\n",
    "np.savetxt('S1ars.csv', arsDists, delimiter=',')\n",
    "np.savetxt('S1inc.csv', incDists, delimiter=',')\n",
    "\n",
    "np.savetxt('S1t0.csv', t0Dist, delimiter=',')"
   ]
  },
  {
   "cell_type": "code",
   "execution_count": 203,
   "metadata": {},
   "outputs": [],
   "source": [
    "t0Dists = t0Dist"
   ]
  },
  {
   "cell_type": "code",
   "execution_count": 204,
   "metadata": {},
   "outputs": [],
   "source": [
    "per_f = ph.mode(perDists)\n",
    "rprs_f = ph.mode(rpDists)\n",
    "a_f = ph.mode(arsDists)\n",
    "i_f = ph.mode(incDists)\n",
    "t0_f = ph.mode(t0Dists)"
   ]
  },
  {
   "cell_type": "code",
   "execution_count": 207,
   "metadata": {},
   "outputs": [],
   "source": [
    "# Create a light curve with the fit parameters\n",
    "fit1 = ph.integratedlc_fitter(ttime, per_f, rprs_f, a_f, i_f, t0_f)"
   ]
  },
  {
   "cell_type": "code",
   "execution_count": 209,
   "metadata": {},
   "outputs": [
    {
     "name": "stdout",
     "output_type": "stream",
     "text": [
      "Stellar mass (Msun):  0.48797798116154106 Stellar radius (Rsun):  0.4690682721275218\n",
      "\n",
      "\n",
      "Input params:\n",
      "Rp/Rs:  0.036375\n",
      "a/Rs:  65.99499728728715\n",
      "i (deg):  20\n",
      "\n",
      "\n",
      "Fit params:\n",
      "Rp/Rs:  0.03644493510744964\n",
      "a/Rs:  65.38274949677151\n",
      "i (deg):  89.87177768963167\n"
     ]
    },
    {
     "data": {
      "image/png": "[encoded data removed]",
      "text/plain": [
       "<Figure size 432x288 with 1 Axes>"
      ]
     },
     "metadata": {
      "needs_background": "light"
     },
     "output_type": "display_data"
    }
   ],
   "source": [
    "plt.errorbar(ttime, tflux, yerr=tflux_err, c='blue', alpha=0.5, label='Original LC')\n",
    "plt.plot(ttime, fit1, c='red', alpha=1.0, label='Fit LC')\n",
    "#plt.xlim(-0.1, 0.1)\n",
    "plt.legend()\n",
    "\n",
    "print('Stellar mass (Msun): ', mstar, 'Stellar radius (Rsun): ', rstar)\n",
    "\n",
    "print('\\n')\n",
    "\n",
    "print('Input params:')\n",
    "print('Rp/Rs: ', rprs)\n",
    "print('a/Rs: ', a_rs)\n",
    "print('i (deg): ', i)\n",
    "\n",
    "print('\\n')\n",
    "\n",
    "print('Fit params:')\n",
    "print('Rp/Rs: ', rprs_f)\n",
    "print('a/Rs: ', a_f)\n",
    "print('i (deg): ', i_f)"
   ]
  },
  {
   "cell_type": "markdown",
   "metadata": {},
   "source": [
    "### Determining T14 and T23"
   ]
  },
  {
   "cell_type": "code",
   "execution_count": 216,
   "metadata": {},
   "outputs": [],
   "source": [
    "pdist = perDists\n",
    "rdist = rpDists\n",
    "adist  = arsDists\n",
    "idist = incDists\n",
    "t0dist = t0Dists"
   ]
  },
  {
   "cell_type": "code",
   "execution_count": 217,
   "metadata": {},
   "outputs": [
    {
     "name": "stderr",
     "output_type": "stream",
     "text": [
      "/Users/ssagear/Dropbox (UFL)/Research/MetallicityProject/photoeccentric/photoeccentric/photoeccentric.py:61: RuntimeWarning: invalid value encountered in sqrt\n",
      "  T14[j] = (p[j]/np.pi)*np.arcsin(rs_a[j]*(np.sqrt(((1+rprs[j])**2)-b[j]**2))/np.sin(i[j]*(np.pi/180.0))) #Equation 14 in exoplanet textbook\n",
      "/Users/ssagear/Dropbox (UFL)/Research/MetallicityProject/photoeccentric/photoeccentric/photoeccentric.py:113: RuntimeWarning: invalid value encountered in sqrt\n",
      "  T23[j] = (p[j]/np.pi)*np.arcsin(rs_a[j]*(np.sqrt(((1-rprs[j])**2)-b[j]**2))/np.sin(i[j]*(np.pi/180.0))) #Equation 14 in exoplanet textbook\n"
     ]
    }
   ],
   "source": [
    "T14dist = ph.get_T14(pdist, rdist, adist, idist)\n",
    "T14errs = ph.get_sigmas(T14dist)\n",
    "\n",
    "T23dist = ph.get_T23(pdist, rdist, adist, idist)\n",
    "T23errs = ph.get_sigmas(T23dist)"
   ]
  },
  {
   "cell_type": "markdown",
   "metadata": {},
   "source": [
    "# Get $g$"
   ]
  },
  {
   "cell_type": "code",
   "execution_count": 218,
   "metadata": {},
   "outputs": [],
   "source": [
    "gs, rho_c = ph.get_g_distribution(rho_star, pdist, rdist, T14dist, T23dist)\n",
    "\n",
    "g_mean = ph.mode(gs)\n",
    "g_sigma = np.mean(np.abs(ph.get_sigmas(gs)))"
   ]
  },
  {
   "cell_type": "code",
   "execution_count": 219,
   "metadata": {},
   "outputs": [
    {
     "data": {
      "text/plain": [
       "0.9970745061827477"
      ]
     },
     "execution_count": 219,
     "metadata": {},
     "output_type": "execute_result"
    }
   ],
   "source": [
    "g_mean"
   ]
  },
  {
   "cell_type": "code",
   "execution_count": 220,
   "metadata": {},
   "outputs": [
    {
     "data": {
      "text/plain": [
       "0.06349648457692575"
      ]
     },
     "execution_count": 220,
     "metadata": {},
     "output_type": "execute_result"
    }
   ],
   "source": [
    "g_sigma"
   ]
  },
  {
   "cell_type": "code",
   "execution_count": 221,
   "metadata": {},
   "outputs": [],
   "source": [
    "#Guesses\n",
    "w_guess = 0.0\n",
    "e_guess = 0.0\n",
    "\n",
    "solnx = (w_guess, e_guess)\n",
    "pos = solnx + 1e-4 * np.random.randn(32, 2)\n",
    "nwalkers, ndim = pos.shape"
   ]
  },
  {
   "cell_type": "code",
   "execution_count": 222,
   "metadata": {
    "scrolled": true
   },
   "outputs": [
    {
     "name": "stderr",
     "output_type": "stream",
     "text": [
      "  0%|          | 0/5000 [00:00<?, ?it/s]/Users/ssagear/anaconda3/lib/python3.8/site-packages/emcee/moves/red_blue.py:99: RuntimeWarning: invalid value encountered in double_scalars\n",
      "  lnpdiff = f + nlp - state.log_prob[j]\n",
      "100%|██████████| 5000/5000 [00:04<00:00, 1240.90it/s]\n"
     ]
    }
   ],
   "source": [
    "sampler = emcee.EnsembleSampler(nwalkers, ndim, ph.log_probability, args=(g_mean, g_sigma), threads=4)\n",
    "sampler.run_mcmc(pos, 5000, progress=True);"
   ]
  },
  {
   "cell_type": "code",
   "execution_count": 223,
   "metadata": {},
   "outputs": [
    {
     "data": {
      "image/png": "[encoded data removed]",
      "text/plain": [
       "<Figure size 396x396 with 4 Axes>"
      ]
     },
     "metadata": {
      "needs_background": "light"
     },
     "output_type": "display_data"
    }
   ],
   "source": [
    "labels = [\"w\", \"e\"]\n",
    "\n",
    "flat_samples = sampler.get_chain(discard=100, thin=15, flat=True)\n",
    "fig = corner.corner(flat_samples, labels=labels, title_kwargs={\"fontsize\": 12}, truths=[w, e], plot_contours=True)"
   ]
  },
  {
   "cell_type": "code",
   "execution_count": null,
   "metadata": {},
   "outputs": [],
   "source": []
  },
  {
   "cell_type": "markdown",
   "metadata": {},
   "source": [
    "## Second Planet"
   ]
  },
  {
   "cell_type": "code",
   "execution_count": 237,
   "metadata": {},
   "outputs": [],
   "source": [
    "# 30 minute cadence\n",
    "cadence = 0.02142857142857143\n",
    "\n",
    "time = np.arange(-300, 300, cadence)"
   ]
  },
  {
   "cell_type": "code",
   "execution_count": 244,
   "metadata": {},
   "outputs": [
    {
     "data": {
      "text/plain": [
       "20"
      ]
     },
     "execution_count": 244,
     "metadata": {},
     "output_type": "execute_result"
    }
   ],
   "source": [
    "i\n"
   ]
  },
  {
   "cell_type": "code",
   "execution_count": 240,
   "metadata": {},
   "outputs": [],
   "source": [
    "# Define e and w, calculate flux from transit model\n",
    "e = true_es[1]\n",
    "w = true_ws[1]\n",
    "flux = ph.integratedlc(time, period, rprs, a_rs, e, i, w, 0.0)"
   ]
  },
  {
   "cell_type": "code",
   "execution_count": 243,
   "metadata": {},
   "outputs": [
    {
     "ename": "NameError",
     "evalue": "name 'inc' is not defined",
     "output_type": "error",
     "traceback": [
      "\u001b[0;31m---------------------------------------------------------------------------\u001b[0m",
      "\u001b[0;31mNameError\u001b[0m                                 Traceback (most recent call last)",
      "\u001b[0;32m<ipython-input-243-bb2f466e5e14>\u001b[0m in \u001b[0;36m<module>\u001b[0;34m\u001b[0m\n\u001b[0;32m----> 1\u001b[0;31m \u001b[0minc\u001b[0m\u001b[0;34m\u001b[0m\u001b[0;34m\u001b[0m\u001b[0m\n\u001b[0m",
      "\u001b[0;31mNameError\u001b[0m: name 'inc' is not defined"
     ]
    }
   ],
   "source": [
    "inc"
   ]
  },
  {
   "cell_type": "code",
   "execution_count": 238,
   "metadata": {},
   "outputs": [],
   "source": [
    "# Adding some gaussian noise on the order of Kepler noise (by eyeball)\n",
    "noise = np.random.normal(0,0.0001,len(time))\n",
    "nflux = flux+noise\n",
    "\n",
    "flux_err = np.array([0.0001]*len(nflux))"
   ]
  },
  {
   "cell_type": "code",
   "execution_count": 239,
   "metadata": {},
   "outputs": [
    {
     "data": {
      "text/plain": [
       "<matplotlib.legend.Legend at 0x7fb7bc694f40>"
      ]
     },
     "execution_count": 239,
     "metadata": {},
     "output_type": "execute_result"
    },
    {
     "data": {
      "image/png": "[encoded data removed]",
      "text/plain": [
       "<Figure size 432x288 with 1 Axes>"
      ]
     },
     "metadata": {
      "needs_background": "light"
     },
     "output_type": "display_data"
    }
   ],
   "source": [
    "plt.errorbar(time, flux, yerr=flux_err, fmt='o')\n",
    "plt.xlabel('Time')\n",
    "plt.ylabel('Flux')\n",
    "plt.xlim(-0.5, 0.5)\n",
    "plt.axvline(0.0, c='r', label='Transit midpoint')\n",
    "plt.legend()"
   ]
  },
  {
   "cell_type": "code",
   "execution_count": 236,
   "metadata": {},
   "outputs": [],
   "source": [
    "transitmpt = 0\n",
    "\n",
    "midpoints = np.unique(np.sort(np.concatenate((np.arange(transitmpt, time[0], -period), np.arange(transitmpt, time[-1], period)))))"
   ]
  },
  {
   "cell_type": "markdown",
   "metadata": {},
   "source": [
    "## Fitting the transit"
   ]
  },
  {
   "cell_type": "code",
   "execution_count": 30,
   "metadata": {},
   "outputs": [],
   "source": [
    "# Remove Out of Transit Data\n",
    "\n",
    "ttime = []\n",
    "tflux = []\n",
    "tflux_err = []\n",
    "\n",
    "for i in range(len(midpoints)):\n",
    "\n",
    "    m, b, t1bjd, t1, fnorm, fe1 = ph.do_linfit(time, nflux, flux_err, midpoints[i], 11, 5)\n",
    "    ttime.append(t1bjd)\n",
    "    tflux.append(fnorm)\n",
    "    tflux_err.append(fe1)\n",
    "    \n",
    "\n",
    "ttime = np.array(ttime).flatten()\n",
    "tflux = np.array(tflux).flatten()\n",
    "tflux_err = np.array(tflux_err).flatten()\n",
    "\n",
    "tflux = np.nan_to_num(tflux, nan=1.0)\n",
    "tflux_err = np.nan_to_num(tflux_err, nan=np.nanmedian(tflux_err))"
   ]
  },
  {
   "cell_type": "code",
   "execution_count": null,
   "metadata": {},
   "outputs": [
    {
     "name": "stderr",
     "output_type": "stream",
     "text": [
      "\r",
      "0it [00:00, ?it/s]"
     ]
    },
    {
     "name": "stdout",
     "output_type": "stream",
     "text": [
      "Stellar mass (Msun):  0.48797798116154106 Stellar radius (Rsun):  0.4690682721275218\n",
      "Period (Days):  28.59914031 Rp/Rs:  0.036375\n",
      "a/Rs:  65.99499728728715\n",
      "i (deg):  89.99\n"
     ]
    },
    {
     "name": "stderr",
     "output_type": "stream",
     "text": [
      "3894it [22:39,  2.73it/s, batch: 0 | bound: 43 | nc: 25 | ncall: 86883 | eff(%):  4.456 | loglstar:   -inf < -9110.644 <    inf | logz: -9125.332 +/-  0.242 | dlogz: 11279.957 >  0.010]  /Users/ssagear/anaconda3/lib/python3.8/site-packages/dynesty/sampling.py:221: UserWarning: Random number generation appears to be extremely inefficient. Adjusting the scale-factor accordingly.\n",
      "  warnings.warn(\"Random number generation appears to be \"\n",
      "4667it [27:33,  2.64it/s, batch: 0 | bound: 54 | nc: 25 | ncall: 106734 | eff(%):  4.352 | loglstar:   -inf < -5754.097 <    inf | logz: -5770.171 +/-  0.250 | dlogz: 8306.802 >  0.010] "
     ]
    }
   ],
   "source": [
    "priortransform = [3., 27., 1., 0., 15., 64., 2., 88., 0.1, transitmpt]\n",
    "nbuffer = 11\n",
    "\n",
    "ms, bs, timesBJD, timesPhase, fluxNorm, fluxErrs, perDists, rpDists, arsDists, incDists, t0Dist = ph.fit_keplc_dynesty(KOI, midpoints, ttime, tflux, tflux_err, priortransform, arrlen, nbuffer, spectplanets, muirhead_comb)\n"
   ]
  },
  {
   "cell_type": "code",
   "execution_count": null,
   "metadata": {},
   "outputs": [],
   "source": [
    "perDists"
   ]
  },
  {
   "cell_type": "code",
   "execution_count": null,
   "metadata": {},
   "outputs": [],
   "source": [
    "np.savetxt('Speriods.csv', perDists, delimiter=',')\n",
    "np.savetxt('Srprs.csv', rpDists, delimiter=',')\n",
    "np.savetxt('Sars.csv', arsDists, delimiter=',')\n",
    "np.savetxt('Sinc.csv', incDists, delimiter=',')\n",
    "\n",
    "np.savetxt('St0.csv', t0Dists, delimiter=',')"
   ]
  },
  {
   "cell_type": "code",
   "execution_count": null,
   "metadata": {},
   "outputs": [],
   "source": [
    "per_f = ph.mode(perDists)\n",
    "rprs_f = ph.mode(rpDists)\n",
    "a_f = ph.mode(arsDists)\n",
    "i_f = ph.mode(incDists)\n",
    "t0_f = ph.mode(t0Dists)"
   ]
  },
  {
   "cell_type": "code",
   "execution_count": null,
   "metadata": {},
   "outputs": [],
   "source": [
    "# Create a light curve with the fit parameters\n",
    "fit1 = ph.integratedlc_fitter(time1, per_f, rprs_f, a_f, i_f, t0_f)"
   ]
  },
  {
   "cell_type": "code",
   "execution_count": null,
   "metadata": {},
   "outputs": [],
   "source": [
    "plt.errorbar(time1, nflux1, yerr=fluxerr1, c='blue', alpha=0.5, label='Original LC')\n",
    "plt.plot(time1, fit1, c='red', alpha=1.0, label='Fit LC')\n",
    "#plt.xlim(-0.1, 0.1)\n",
    "plt.legend()\n",
    "\n",
    "print('Stellar mass (Msun): ', mstar, 'Stellar radius (Rsun): ', rstar)\n",
    "\n",
    "print('\\n')\n",
    "\n",
    "print('Input params:')\n",
    "print('Rp/Rs: ', rprs)\n",
    "print('a/Rs: ', a_rs)\n",
    "print('i (deg): ', i)\n",
    "\n",
    "print('\\n')\n",
    "\n",
    "print('Fit params:')\n",
    "print('Rp/Rs: ', rprs_f)\n",
    "print('a/Rs: ', a_f)\n",
    "print('i (deg): ', i_f)"
   ]
  },
  {
   "cell_type": "markdown",
   "metadata": {},
   "source": [
    "### Determining T14 and T23"
   ]
  },
  {
   "cell_type": "code",
   "execution_count": null,
   "metadata": {},
   "outputs": [],
   "source": [
    "T14dist = ph.get_T14(pdist, rdist, adist, idist)\n",
    "T14errs = ph.get_sigmas(T14dist)\n",
    "\n",
    "T23dist = ph.get_T23(pdist, rdist, adist, idist)\n",
    "T23errs = ph.get_sigmas(T23dist)"
   ]
  },
  {
   "cell_type": "markdown",
   "metadata": {},
   "source": [
    "# Get $g$"
   ]
  },
  {
   "cell_type": "code",
   "execution_count": 30,
   "metadata": {},
   "outputs": [],
   "source": [
    "gs, rho_c = ph.get_g_distribution(rho_star, pdist, rdist, T14dist, T23dist)\n",
    "\n",
    "g_mean = ph.mode(gs)\n",
    "g_sigma = np.mean(np.abs(ph.get_sigmas(gs)))"
   ]
  },
  {
   "cell_type": "code",
   "execution_count": 31,
   "metadata": {},
   "outputs": [
    {
     "data": {
      "text/plain": [
       "0.9334738023122277"
      ]
     },
     "execution_count": 31,
     "metadata": {},
     "output_type": "execute_result"
    }
   ],
   "source": [
    "g_mean"
   ]
  },
  {
   "cell_type": "code",
   "execution_count": 32,
   "metadata": {},
   "outputs": [
    {
     "data": {
      "text/plain": [
       "0.15406886484256177"
      ]
     },
     "execution_count": 32,
     "metadata": {},
     "output_type": "execute_result"
    }
   ],
   "source": [
    "g_sigma"
   ]
  },
  {
   "cell_type": "code",
   "execution_count": 33,
   "metadata": {},
   "outputs": [],
   "source": [
    "#Guesses\n",
    "w_guess = 0.0\n",
    "e_guess = 0.0\n",
    "\n",
    "solnx = (w_guess, e_guess)\n",
    "pos = solnx + 1e-4 * np.random.randn(32, 2)\n",
    "nwalkers, ndim = pos.shape"
   ]
  },
  {
   "cell_type": "code",
   "execution_count": 34,
   "metadata": {
    "scrolled": true
   },
   "outputs": [
    {
     "name": "stderr",
     "output_type": "stream",
     "text": [
      "  0%|          | 0/5000 [00:00<?, ?it/s]/Users/ssagear/anaconda3/lib/python3.8/site-packages/emcee/moves/red_blue.py:99: RuntimeWarning: invalid value encountered in double_scalars\n",
      "  lnpdiff = f + nlp - state.log_prob[j]\n",
      "100%|██████████| 5000/5000 [00:04<00:00, 1215.65it/s]\n"
     ]
    }
   ],
   "source": [
    "sampler = emcee.EnsembleSampler(nwalkers, ndim, ph.log_probability, args=(g_mean, g_sigma), threads=4)\n",
    "sampler.run_mcmc(pos, 5000, progress=True);"
   ]
  },
  {
   "cell_type": "code",
   "execution_count": 35,
   "metadata": {},
   "outputs": [
    {
     "data": {
      "image/png": "[encoded data removed]",
      "text/plain": [
       "<Figure size 396x396 with 4 Axes>"
      ]
     },
     "metadata": {
      "needs_background": "light"
     },
     "output_type": "display_data"
    }
   ],
   "source": [
    "labels = [\"w\", \"e\"]\n",
    "\n",
    "flat_samples = sampler.get_chain(discard=100, thin=15, flat=True)\n",
    "fig = corner.corner(flat_samples, labels=labels, title_kwargs={\"fontsize\": 12}, truths=[w, e], plot_contours=True)"
   ]
  },
  {
   "cell_type": "code",
   "execution_count": null,
   "metadata": {},
   "outputs": [],
   "source": []
  },
  {
   "cell_type": "markdown",
   "metadata": {},
   "source": [
    "## Third Planet"
   ]
  },
  {
   "cell_type": "code",
   "execution_count": null,
   "metadata": {},
   "outputs": [],
   "source": [
    "# 30 minute cadence\n",
    "cadence = 0.02142857142857143\n",
    "\n",
    "time = np.arange(-300, 300, cadence)"
   ]
  },
  {
   "cell_type": "code",
   "execution_count": null,
   "metadata": {},
   "outputs": [],
   "source": [
    "# Define e and w, calculate flux from transit model\n",
    "e = true_es[2]\n",
    "w = true_ws[2]\n",
    "flux = ph.integratedlc(time, period, rprs, a_rs, e, i, w, 0.0)\n",
    "\n",
    "# Adding some gaussian noise on the order of Kepler noise (by eyeball)\n",
    "noise = np.random.normal(0,0.0001,len(time))\n",
    "nflux = flux+noise\n",
    "\n",
    "flux_err = np.array([0.0001]*len(nflux))"
   ]
  },
  {
   "cell_type": "code",
   "execution_count": 28,
   "metadata": {},
   "outputs": [
    {
     "data": {
      "text/plain": [
       "<matplotlib.legend.Legend at 0x7fb8255f3910>"
      ]
     },
     "execution_count": 28,
     "metadata": {},
     "output_type": "execute_result"
    },
    {
     "data": {
      "image/png": "[encoded data removed]",
      "text/plain": [
       "<Figure size 432x288 with 1 Axes>"
      ]
     },
     "metadata": {
      "needs_background": "light"
     },
     "output_type": "display_data"
    }
   ],
   "source": [
    "plt.errorbar(time, nflux, yerr=flux_err, fmt='o')\n",
    "plt.xlabel('Time')\n",
    "plt.ylabel('Flux')\n",
    "plt.xlim(-0.5, 0.5)\n",
    "plt.axvline(0.0, c='r', label='Transit midpoint')\n",
    "plt.legend()"
   ]
  },
  {
   "cell_type": "code",
   "execution_count": 29,
   "metadata": {},
   "outputs": [],
   "source": [
    "transitmpt = 0\n",
    "\n",
    "midpoints = np.unique(np.sort(np.concatenate((np.arange(transitmpt, time[0], -period), np.arange(transitmpt, time[-1], period)))))"
   ]
  },
  {
   "cell_type": "markdown",
   "metadata": {},
   "source": [
    "## Fitting the transit"
   ]
  },
  {
   "cell_type": "code",
   "execution_count": 30,
   "metadata": {},
   "outputs": [],
   "source": [
    "# Remove Out of Transit Data\n",
    "\n",
    "ttime = []\n",
    "tflux = []\n",
    "tflux_err = []\n",
    "\n",
    "for i in range(len(midpoints)):\n",
    "\n",
    "    m, b, t1bjd, t1, fnorm, fe1 = ph.do_linfit(time, nflux, flux_err, midpoints[i], 11, 5)\n",
    "    ttime.append(t1bjd)\n",
    "    tflux.append(fnorm)\n",
    "    tflux_err.append(fe1)\n",
    "    \n",
    "\n",
    "ttime = np.array(ttime).flatten()\n",
    "tflux = np.array(tflux).flatten()\n",
    "tflux_err = np.array(tflux_err).flatten()\n",
    "\n",
    "tflux = np.nan_to_num(tflux, nan=1.0)\n",
    "tflux_err = np.nan_to_num(tflux_err, nan=np.nanmedian(tflux_err))"
   ]
  },
  {
   "cell_type": "code",
   "execution_count": null,
   "metadata": {},
   "outputs": [
    {
     "name": "stderr",
     "output_type": "stream",
     "text": [
      "\r",
      "0it [00:00, ?it/s]"
     ]
    },
    {
     "name": "stdout",
     "output_type": "stream",
     "text": [
      "Stellar mass (Msun):  0.48797798116154106 Stellar radius (Rsun):  0.4690682721275218\n",
      "Period (Days):  28.59914031 Rp/Rs:  0.036375\n",
      "a/Rs:  65.99499728728715\n",
      "i (deg):  89.99\n"
     ]
    },
    {
     "name": "stderr",
     "output_type": "stream",
     "text": [
      "3894it [22:39,  2.73it/s, batch: 0 | bound: 43 | nc: 25 | ncall: 86883 | eff(%):  4.456 | loglstar:   -inf < -9110.644 <    inf | logz: -9125.332 +/-  0.242 | dlogz: 11279.957 >  0.010]  /Users/ssagear/anaconda3/lib/python3.8/site-packages/dynesty/sampling.py:221: UserWarning: Random number generation appears to be extremely inefficient. Adjusting the scale-factor accordingly.\n",
      "  warnings.warn(\"Random number generation appears to be \"\n",
      "4667it [27:33,  2.64it/s, batch: 0 | bound: 54 | nc: 25 | ncall: 106734 | eff(%):  4.352 | loglstar:   -inf < -5754.097 <    inf | logz: -5770.171 +/-  0.250 | dlogz: 8306.802 >  0.010] "
     ]
    }
   ],
   "source": [
    "priortransform = [3., 27., 1., 0., 15., 64., 2., 88., 0.1, transitmpt]\n",
    "nbuffer = 11\n",
    "\n",
    "ms, bs, timesBJD, timesPhase, fluxNorm, fluxErrs, perDists, rpDists, arsDists, incDists, t0Dist = ph.fit_keplc_dynesty(KOI, midpoints, ttime, tflux, tflux_err, priortransform, arrlen, nbuffer, spectplanets, muirhead_comb)\n"
   ]
  },
  {
   "cell_type": "code",
   "execution_count": null,
   "metadata": {},
   "outputs": [],
   "source": [
    "perDists"
   ]
  },
  {
   "cell_type": "code",
   "execution_count": null,
   "metadata": {},
   "outputs": [],
   "source": [
    "np.savetxt('Speriods.csv', perDists, delimiter=',')\n",
    "np.savetxt('Srprs.csv', rpDists, delimiter=',')\n",
    "np.savetxt('Sars.csv', arsDists, delimiter=',')\n",
    "np.savetxt('Sinc.csv', incDists, delimiter=',')\n",
    "\n",
    "np.savetxt('St0.csv', t0Dists, delimiter=',')"
   ]
  },
  {
   "cell_type": "code",
   "execution_count": null,
   "metadata": {},
   "outputs": [],
   "source": [
    "per_f = ph.mode(perDists)\n",
    "rprs_f = ph.mode(rpDists)\n",
    "a_f = ph.mode(arsDists)\n",
    "i_f = ph.mode(incDists)\n",
    "t0_f = ph.mode(t0Dists)"
   ]
  },
  {
   "cell_type": "code",
   "execution_count": null,
   "metadata": {},
   "outputs": [],
   "source": [
    "# Create a light curve with the fit parameters\n",
    "fit1 = ph.integratedlc_fitter(time1, per_f, rprs_f, a_f, i_f, t0_f)"
   ]
  },
  {
   "cell_type": "code",
   "execution_count": null,
   "metadata": {},
   "outputs": [],
   "source": [
    "plt.errorbar(time1, nflux1, yerr=fluxerr1, c='blue', alpha=0.5, label='Original LC')\n",
    "plt.plot(time1, fit1, c='red', alpha=1.0, label='Fit LC')\n",
    "#plt.xlim(-0.1, 0.1)\n",
    "plt.legend()\n",
    "\n",
    "print('Stellar mass (Msun): ', mstar, 'Stellar radius (Rsun): ', rstar)\n",
    "\n",
    "print('\\n')\n",
    "\n",
    "print('Input params:')\n",
    "print('Rp/Rs: ', rprs)\n",
    "print('a/Rs: ', a_rs)\n",
    "print('i (deg): ', i)\n",
    "\n",
    "print('\\n')\n",
    "\n",
    "print('Fit params:')\n",
    "print('Rp/Rs: ', rprs_f)\n",
    "print('a/Rs: ', a_f)\n",
    "print('i (deg): ', i_f)"
   ]
  },
  {
   "cell_type": "markdown",
   "metadata": {},
   "source": [
    "### Determining T14 and T23"
   ]
  },
  {
   "cell_type": "code",
   "execution_count": null,
   "metadata": {},
   "outputs": [],
   "source": [
    "T14dist = ph.get_T14(pdist, rdist, adist, idist)\n",
    "T14errs = ph.get_sigmas(T14dist)\n",
    "\n",
    "T23dist = ph.get_T23(pdist, rdist, adist, idist)\n",
    "T23errs = ph.get_sigmas(T23dist)"
   ]
  },
  {
   "cell_type": "markdown",
   "metadata": {},
   "source": [
    "# Get $g$"
   ]
  },
  {
   "cell_type": "code",
   "execution_count": 30,
   "metadata": {},
   "outputs": [],
   "source": [
    "gs, rho_c = ph.get_g_distribution(rho_star, pdist, rdist, T14dist, T23dist)\n",
    "\n",
    "g_mean = ph.mode(gs)\n",
    "g_sigma = np.mean(np.abs(ph.get_sigmas(gs)))"
   ]
  },
  {
   "cell_type": "code",
   "execution_count": 31,
   "metadata": {},
   "outputs": [
    {
     "data": {
      "text/plain": [
       "0.9334738023122277"
      ]
     },
     "execution_count": 31,
     "metadata": {},
     "output_type": "execute_result"
    }
   ],
   "source": [
    "g_mean"
   ]
  },
  {
   "cell_type": "code",
   "execution_count": 32,
   "metadata": {},
   "outputs": [
    {
     "data": {
      "text/plain": [
       "0.15406886484256177"
      ]
     },
     "execution_count": 32,
     "metadata": {},
     "output_type": "execute_result"
    }
   ],
   "source": [
    "g_sigma"
   ]
  },
  {
   "cell_type": "code",
   "execution_count": 33,
   "metadata": {},
   "outputs": [],
   "source": [
    "#Guesses\n",
    "w_guess = 0.0\n",
    "e_guess = 0.0\n",
    "\n",
    "solnx = (w_guess, e_guess)\n",
    "pos = solnx + 1e-4 * np.random.randn(32, 2)\n",
    "nwalkers, ndim = pos.shape"
   ]
  },
  {
   "cell_type": "code",
   "execution_count": 34,
   "metadata": {
    "scrolled": true
   },
   "outputs": [
    {
     "name": "stderr",
     "output_type": "stream",
     "text": [
      "  0%|          | 0/5000 [00:00<?, ?it/s]/Users/ssagear/anaconda3/lib/python3.8/site-packages/emcee/moves/red_blue.py:99: RuntimeWarning: invalid value encountered in double_scalars\n",
      "  lnpdiff = f + nlp - state.log_prob[j]\n",
      "100%|██████████| 5000/5000 [00:04<00:00, 1215.65it/s]\n"
     ]
    }
   ],
   "source": [
    "sampler = emcee.EnsembleSampler(nwalkers, ndim, ph.log_probability, args=(g_mean, g_sigma), threads=4)\n",
    "sampler.run_mcmc(pos, 5000, progress=True);"
   ]
  },
  {
   "cell_type": "code",
   "execution_count": 35,
   "metadata": {},
   "outputs": [
    {
     "data": {
      "image/png": "[encoded data removed]",
      "text/plain": [
       "<Figure size 396x396 with 4 Axes>"
      ]
     },
     "metadata": {
      "needs_background": "light"
     },
     "output_type": "display_data"
    }
   ],
   "source": [
    "labels = [\"w\", \"e\"]\n",
    "\n",
    "flat_samples = sampler.get_chain(discard=100, thin=15, flat=True)\n",
    "fig = corner.corner(flat_samples, labels=labels, title_kwargs={\"fontsize\": 12}, truths=[w, e], plot_contours=True)"
   ]
  },
  {
   "cell_type": "code",
   "execution_count": null,
   "metadata": {},
   "outputs": [],
   "source": []
  },
  {
   "cell_type": "markdown",
   "metadata": {},
   "source": [
    "Probability Grid"
   ]
  },
  {
   "cell_type": "code",
   "execution_count": 114,
   "metadata": {},
   "outputs": [],
   "source": [
    "mumesh = np.linspace(0, 1, 100)\n",
    "sigmesh = np.linspace(0.01, 0.3, 100)"
   ]
  },
  {
   "cell_type": "code",
   "execution_count": 115,
   "metadata": {},
   "outputs": [],
   "source": [
    "mus, sigmas = np.meshgrid(mumesh, sigmesh)"
   ]
  },
  {
   "cell_type": "code",
   "execution_count": 142,
   "metadata": {},
   "outputs": [],
   "source": [
    "# Vet 100 values from each e distribution\n",
    "fit_es = [np.random.normal(loc=0.2, scale=0.05, size=100), np.random.normal(loc=0.3, scale=0.05, size=100), np.random.normal(loc=0.4, scale=0.05, size=100)]\n",
    "fit_ws = [np.random.normal(loc=90, scale=10, size=100), np.random.normal(loc=-90, scale=10, size=100), np.random.normal(loc=0.0, scale=10, size=100)]"
   ]
  },
  {
   "cell_type": "code",
   "execution_count": 143,
   "metadata": {},
   "outputs": [],
   "source": [
    "import scipy"
   ]
  },
  {
   "cell_type": "code",
   "execution_count": 144,
   "metadata": {},
   "outputs": [],
   "source": [
    "# for each planet\n",
    "\n"
   ]
  },
  {
   "cell_type": "code",
   "execution_count": 149,
   "metadata": {},
   "outputs": [
    {
     "name": "stderr",
     "output_type": "stream",
     "text": [
      "100%|██████████| 100/100 [01:35<00:00,  1.05it/s]\n"
     ]
    }
   ],
   "source": [
    "# Planet 1: true_es[0]\n",
    "pethetasum1 = np.zeros((100,100))\n",
    "\n",
    "# Calculating p(obs|theta) for 10,000 grid points, for N posterior values for 1 panet\n",
    "\n",
    "for n1 in tqdm(range(len(mus))): # For each grid point x\n",
    "    for n2 in range(len(mus[0])): # For each grid point y\n",
    "        mu_test = mus[n1][n2]\n",
    "        sig_test = sigmas[n1][n2] # x, y of grid point\n",
    "        \n",
    "        for N in range(len(fit_es[0])): # For each posterior value (out of 100)\n",
    "            pethetasum1[n1][n2] += scipy.stats.norm.pdf(fit_es[0][N], loc=mu_test, scale=sig_test)"
   ]
  },
  {
   "cell_type": "code",
   "execution_count": 150,
   "metadata": {},
   "outputs": [
    {
     "data": {
      "text/plain": [
       "Text(0, 0.5, 'sigma')"
      ]
     },
     "execution_count": 150,
     "metadata": {},
     "output_type": "execute_result"
    },
    {
     "data": {
      "image/png": "[encoded data removed]",
      "text/plain": [
       "<Figure size 432x432 with 1 Axes>"
      ]
     },
     "metadata": {
      "needs_background": "light"
     },
     "output_type": "display_data"
    }
   ],
   "source": [
    "fig, ax = plt.subplots(figsize=(6,6))\n",
    "\n",
    "ax.imshow(pethetasum1, extent=[0, 1, 0.01, 0.3], aspect = 'auto')\n",
    "ax.set_xlabel('mean eccentricity')\n",
    "ax.set_ylabel('sigma')"
   ]
  },
  {
   "cell_type": "code",
   "execution_count": 151,
   "metadata": {},
   "outputs": [
    {
     "name": "stderr",
     "output_type": "stream",
     "text": [
      "100%|██████████| 100/100 [01:35<00:00,  1.05it/s]\n"
     ]
    }
   ],
   "source": [
    "# Planet 2: true_es[1]\n",
    "pethetasum2 = np.zeros((100,100))\n",
    "\n",
    "# Calculating p(obs|theta) for 10,000 grid points, for N posterior values for 1 panet\n",
    "\n",
    "for n1 in tqdm(range(len(mus))): # For each grid point x\n",
    "    for n2 in range(len(mus[0])): # For each grid point y\n",
    "        mu_test = mus[n1][n2]\n",
    "        sig_test = sigmas[n1][n2] # x, y of grid point\n",
    "        \n",
    "        for N in range(len(fit_es[1])): # For each posterior value (out of 100)\n",
    "            pethetasum2[n1][n2] += scipy.stats.norm.pdf(fit_es[1][N], loc=mu_test, scale=sig_test)"
   ]
  },
  {
   "cell_type": "code",
   "execution_count": 152,
   "metadata": {},
   "outputs": [
    {
     "data": {
      "text/plain": [
       "Text(0, 0.5, 'sigma')"
      ]
     },
     "execution_count": 152,
     "metadata": {},
     "output_type": "execute_result"
    },
    {
     "data": {
      "image/png": "[encoded data removed]",
      "text/plain": [
       "<Figure size 432x432 with 1 Axes>"
      ]
     },
     "metadata": {
      "needs_background": "light"
     },
     "output_type": "display_data"
    }
   ],
   "source": [
    "fig, ax = plt.subplots(figsize=(6,6))\n",
    "\n",
    "ax.imshow(pethetasum2, extent=[0, 1, 0.01, 0.3], aspect = 'auto')\n",
    "ax.set_xlabel('mean eccentricity')\n",
    "ax.set_ylabel('sigma')"
   ]
  },
  {
   "cell_type": "code",
   "execution_count": 153,
   "metadata": {},
   "outputs": [
    {
     "name": "stderr",
     "output_type": "stream",
     "text": [
      "100%|██████████| 100/100 [01:35<00:00,  1.05it/s]\n"
     ]
    }
   ],
   "source": [
    "# Planet 2: true_es[1]\n",
    "pethetasum3 = np.zeros((100,100))\n",
    "\n",
    "# Calculating p(obs|theta) for 10,000 grid points, for N posterior values for 1 panet\n",
    "\n",
    "for n1 in tqdm(range(len(mus))): # For each grid point x\n",
    "    for n2 in range(len(mus[0])): # For each grid point y\n",
    "        mu_test = mus[n1][n2]\n",
    "        sig_test = sigmas[n1][n2] # x, y of grid point\n",
    "        \n",
    "        for N in range(len(fit_es[1])): # For each posterior value (out of 100)\n",
    "            pethetasum3[n1][n2] += scipy.stats.norm.pdf(fit_es[2][N], loc=mu_test, scale=sig_test)"
   ]
  },
  {
   "cell_type": "code",
   "execution_count": 154,
   "metadata": {},
   "outputs": [
    {
     "data": {
      "text/plain": [
       "Text(0, 0.5, 'sigma')"
      ]
     },
     "execution_count": 154,
     "metadata": {},
     "output_type": "execute_result"
    },
    {
     "data": {
      "image/png": "[encoded data removed]",
      "text/plain": [
       "<Figure size 432x432 with 1 Axes>"
      ]
     },
     "metadata": {
      "needs_background": "light"
     },
     "output_type": "display_data"
    }
   ],
   "source": [
    "fig, ax = plt.subplots(figsize=(6,6))\n",
    "\n",
    "ax.imshow(pethetasum3, extent=[0, 1, 0.01, 0.3], aspect = 'auto')\n",
    "ax.set_xlabel('mean eccentricity')\n",
    "ax.set_ylabel('sigma')"
   ]
  },
  {
   "cell_type": "code",
   "execution_count": 155,
   "metadata": {},
   "outputs": [],
   "source": [
    "P = pethetasum1*pethetasum2*pethetasum3\n",
    "P = P/np.sqrt(100*100)"
   ]
  },
  {
   "cell_type": "code",
   "execution_count": 156,
   "metadata": {},
   "outputs": [
    {
     "data": {
      "text/plain": [
       "Text(0, 0.5, 'sigma')"
      ]
     },
     "execution_count": 156,
     "metadata": {},
     "output_type": "execute_result"
    },
    {
     "data": {
      "image/png": "[encoded data removed]",
      "text/plain": [
       "<Figure size 432x432 with 1 Axes>"
      ]
     },
     "metadata": {
      "needs_background": "light"
     },
     "output_type": "display_data"
    }
   ],
   "source": [
    "fig, ax = plt.subplots(figsize=(6,6))\n",
    "\n",
    "ax.imshow(P, extent=[0, 1, 0.01, 0.3], aspect = 'auto')\n",
    "ax.set_xlabel('mean eccentricity')\n",
    "ax.set_ylabel('sigma')"
   ]
  },
  {
   "cell_type": "code",
   "execution_count": null,
   "metadata": {},
   "outputs": [],
   "source": []
  },
  {
   "cell_type": "code",
   "execution_count": null,
   "metadata": {},
   "outputs": [],
   "source": []
  },
  {
   "cell_type": "code",
   "execution_count": null,
   "metadata": {},
   "outputs": [],
   "source": []
  },
  {
   "cell_type": "code",
   "execution_count": null,
   "metadata": {},
   "outputs": [],
   "source": []
  },
  {
   "cell_type": "code",
   "execution_count": null,
   "metadata": {},
   "outputs": [],
   "source": []
  }
 ],
 "metadata": {
  "kernelspec": {
   "display_name": "Python 3",
   "language": "python",
   "name": "python3"
  },
  "language_info": {
   "codemirror_mode": {
    "name": "ipython",
    "version": 3
   },
   "file_extension": ".py",
   "mimetype": "text/x-python",
   "name": "python",
   "nbconvert_exporter": "python",
   "pygments_lexer": "ipython3",
   "version": "3.8.5"
  }
 },
 "nbformat": 4,
 "nbformat_minor": 4
}
