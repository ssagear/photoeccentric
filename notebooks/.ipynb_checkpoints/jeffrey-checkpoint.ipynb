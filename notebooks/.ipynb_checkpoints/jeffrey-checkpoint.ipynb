{
 "cells": [
  {
   "cell_type": "code",
   "execution_count": 39,
   "metadata": {},
   "outputs": [],
   "source": [
    "from pylab import *\n",
    "import numpy \n",
    "import matplotlib.pyplot as plt\n",
    "\n",
    "from tqdm import tqdm\n",
    "\n",
    "import scipy.optimize as opt\n"
   ]
  },
  {
   "cell_type": "code",
   "execution_count": 195,
   "metadata": {},
   "outputs": [],
   "source": [
    "setmeans = [0.2, 0.6, 0.9]\n",
    "setsig = [0.5, 0.3, 0.2]"
   ]
  },
  {
   "cell_type": "code",
   "execution_count": 196,
   "metadata": {},
   "outputs": [],
   "source": [
    "data = [np.random.normal(loc=setmeans[0], scale=setsig[0], size=100), np.random.normal(loc=setmeans[1], scale=setsig[1], size=100), np.random.normal(loc=setmeans[2], scale=setsig[2], size=100)]"
   ]
  },
  {
   "cell_type": "code",
   "execution_count": 197,
   "metadata": {},
   "outputs": [
    {
     "data": {
      "text/plain": [
       "0.5666666666666668"
      ]
     },
     "execution_count": 197,
     "metadata": {},
     "output_type": "execute_result"
    }
   ],
   "source": [
    "np.mean(setmeans)"
   ]
  },
  {
   "cell_type": "code",
   "execution_count": 198,
   "metadata": {},
   "outputs": [
    {
     "data": {
      "text/plain": [
       "0.2867441755680875"
      ]
     },
     "execution_count": 198,
     "metadata": {},
     "output_type": "execute_result"
    }
   ],
   "source": [
    "np.std(setmeans)"
   ]
  },
  {
   "cell_type": "code",
   "execution_count": 223,
   "metadata": {},
   "outputs": [],
   "source": [
    "# the model is a line\n",
    "def model(mu):\n",
    "    y = mu\n",
    "    return y\n",
    "\n",
    "# A uniform prior between zero and two\n",
    "def prior_mu(mu):\n",
    "    p_mu = 1.0\n",
    "    return p_mu\n",
    "\n",
    "def prior_sigma(sigma):\n",
    "    p_sigma = 1.0/sigma\n",
    "    return p_sigma\n",
    "\n",
    "# Definition of log likelihood\n",
    "def loglikelihood(d,mu,sigma):\n",
    "    chi2 = (model(mu)-d)**2/sigma**2\n",
    "    like = 1/numpy.sqrt(2.0*sigma**2*numpy.pi)*numpy.exp(-1.0*chi2/2.0)*prior_mu(mu)*prior_sigma(sigma)\n",
    "    loglike = numpy.log10(like)\n",
    "    return loglike"
   ]
  },
  {
   "cell_type": "code",
   "execution_count": 224,
   "metadata": {},
   "outputs": [],
   "source": [
    "# How to sample the likelihood grid\n",
    "res = 25\n",
    "mu_values = numpy.linspace(0.0,1.0,res)\n",
    "sigma_values = numpy.linspace(0.01,0.8,res)\n",
    "\n",
    "mus, sigs = np.meshgrid(mu_values, sigma_values, sparse=False)"
   ]
  },
  {
   "cell_type": "code",
   "execution_count": 225,
   "metadata": {},
   "outputs": [],
   "source": [
    "# Naming grid of likelihoods, and the underlying X and Y matrix, which the Python contour plot needs\n",
    "likelihood_space = numpy.zeros((len(data), res, res))\n",
    "#like = numpy.zeros((res,res))\n",
    "x_matrix= numpy.zeros((res,res))\n",
    "y_matrix= numpy.zeros((res,res))\n",
    "prior_matrix = numpy.zeros((res,res))"
   ]
  },
  {
   "cell_type": "code",
   "execution_count": 226,
   "metadata": {},
   "outputs": [
    {
     "name": "stderr",
     "output_type": "stream",
     "text": [
      "  0%|          | 0/25 [00:00<?, ?it/s]<ipython-input-223-2feee572af15>:19: RuntimeWarning: divide by zero encountered in log10\n",
      "  loglike = numpy.log10(like)\n",
      "100%|██████████| 25/25 [00:00<00:00, 48.85it/s]\n",
      "100%|██████████| 25/25 [00:00<00:00, 50.58it/s]\n",
      "100%|██████████| 25/25 [00:00<00:00, 50.59it/s]\n"
     ]
    }
   ],
   "source": [
    "#Fill up the likelihood array with values\n",
    "\n",
    "for f in range(len(data)):\n",
    "\n",
    "    for i in tqdm(range(0,res)):\n",
    "        for j in range(0,res):\n",
    "            for k in range(0,numpy.size(data[f])):\n",
    "\n",
    "                likelihood_space[f][i,j] = likelihood_space[f][i,j] + loglikelihood(data[f][k], mu_values[i], sigma_values[j])\n",
    "                x_matrix[i,:]=numpy.array(mu_values[i])\n",
    "                y_matrix[:,j]=numpy.array(sigma_values[j])\n"
   ]
  },
  {
   "cell_type": "code",
   "execution_count": 227,
   "metadata": {},
   "outputs": [],
   "source": [
    "likelihood_space = likelihood_space/len(data[0])"
   ]
  },
  {
   "cell_type": "code",
   "execution_count": 228,
   "metadata": {},
   "outputs": [],
   "source": [
    "likelihood = np.array(10**likelihood_space)"
   ]
  },
  {
   "cell_type": "code",
   "execution_count": 229,
   "metadata": {},
   "outputs": [],
   "source": [
    "norm_likelihood = []\n",
    "\n",
    "for i in range(len(data)):\n",
    "    #likelihood.append(np.array(10**likelihood_space[i]).flatten())\n",
    "    norm_likelihood.append(10**likelihood_space[i]/sum(10**likelihood_space[i]))"
   ]
  },
  {
   "cell_type": "code",
   "execution_count": 230,
   "metadata": {},
   "outputs": [],
   "source": [
    "norm_likelihood = np.array(norm_likelihood)"
   ]
  },
  {
   "cell_type": "code",
   "execution_count": 231,
   "metadata": {},
   "outputs": [],
   "source": [
    "#sorted_likelihood = numpy.sort(likelihood)\n",
    "#sorted_likelihood=numpy.array(sorted_likelihood[::-1])/sum(sorted_likelihood)\n",
    "\n",
    "#cum_dist=numpy.zeros(numpy.size(sorted_likelihood))"
   ]
  },
  {
   "cell_type": "code",
   "execution_count": 232,
   "metadata": {},
   "outputs": [],
   "source": [
    "#for i in range(0,size(sorted_likelihood)):\n",
    "#    cum_dist[i]=numpy.sum(sorted_likelihood[0:i])\n",
    "\n",
    "#one_sigma_dif=numpy.abs(numpy.array(cum_dist)-0.68)\n",
    "#two_sigma_dif=numpy.abs(numpy.array(cum_dist)-0.95)\n",
    "\n",
    "#one_sigma = where (one_sigma_dif == numpy.min(one_sigma_dif))\n",
    "#two_sigma = where (two_sigma_dif == numpy.min(two_sigma_dif))\n",
    "\n",
    "#levels=numpy.array([0.0,sorted_likelihood[two_sigma],sorted_likelihood[one_sigma]]).flatten()\n",
    "\n",
    "#norm_likelihood = 10**likelihood_space/sum(10**likelihood_space)"
   ]
  },
  {
   "cell_type": "code",
   "execution_count": 233,
   "metadata": {},
   "outputs": [],
   "source": [
    "prodl = np.prod(norm_likelihood, axis=0)"
   ]
  },
  {
   "cell_type": "code",
   "execution_count": 234,
   "metadata": {},
   "outputs": [
    {
     "data": {
      "image/png": "[encoded data removed]",
      "text/plain": [
       "<Figure size 432x288 with 2 Axes>"
      ]
     },
     "metadata": {
      "needs_background": "light"
     },
     "output_type": "display_data"
    }
   ],
   "source": [
    "plt.contourf(x_matrix,y_matrix,prodl,levels=100)\n",
    "#plt.plot([1.0],[1.0],'rs')\n",
    "plt.xlabel(\"Mu\")\n",
    "plt.ylabel(\"Sigma\")\n",
    "\n",
    "plt.colorbar()\n",
    "plt.show()"
   ]
  },
  {
   "cell_type": "code",
   "execution_count": 176,
   "metadata": {},
   "outputs": [
    {
     "data": {
      "text/plain": [
       "array([ 0, 14, 14, 14, 14, 14, 14, 14, 14, 14, 14, 14, 14, 14, 14, 14, 14,\n",
       "       14, 14, 14, 14, 14, 14, 14, 14])"
      ]
     },
     "execution_count": 176,
     "metadata": {},
     "output_type": "execute_result"
    }
   ],
   "source": [
    "np.argmax(prodl, axis=0)"
   ]
  },
  {
   "cell_type": "code",
   "execution_count": 180,
   "metadata": {},
   "outputs": [
    {
     "data": {
      "text/plain": [
       "6"
      ]
     },
     "execution_count": 180,
     "metadata": {},
     "output_type": "execute_result"
    }
   ],
   "source": [
    "np.argmax(prodl[14])"
   ]
  },
  {
   "cell_type": "code",
   "execution_count": 192,
   "metadata": {},
   "outputs": [
    {
     "data": {
      "text/plain": [
       "array([0.2075, 0.2075, 0.2075, 0.2075, 0.2075, 0.2075, 0.2075, 0.2075,\n",
       "       0.2075, 0.2075, 0.2075, 0.2075, 0.2075, 0.2075, 0.2075, 0.2075,\n",
       "       0.2075, 0.2075, 0.2075, 0.2075, 0.2075, 0.2075, 0.2075, 0.2075,\n",
       "       0.2075])"
      ]
     },
     "execution_count": 192,
     "metadata": {},
     "output_type": "execute_result"
    }
   ],
   "source": [
    "sigs[6,:]"
   ]
  },
  {
   "cell_type": "code",
   "execution_count": 189,
   "metadata": {},
   "outputs": [
    {
     "data": {
      "text/plain": [
       "array([0.58333333, 0.58333333, 0.58333333, 0.58333333, 0.58333333,\n",
       "       0.58333333, 0.58333333, 0.58333333, 0.58333333, 0.58333333,\n",
       "       0.58333333, 0.58333333, 0.58333333, 0.58333333, 0.58333333,\n",
       "       0.58333333, 0.58333333, 0.58333333, 0.58333333, 0.58333333,\n",
       "       0.58333333, 0.58333333, 0.58333333, 0.58333333, 0.58333333])"
      ]
     },
     "execution_count": 189,
     "metadata": {},
     "output_type": "execute_result"
    }
   ],
   "source": [
    "mus[:,14]"
   ]
  },
  {
   "cell_type": "code",
   "execution_count": null,
   "metadata": {},
   "outputs": [],
   "source": []
  }
 ],
 "metadata": {
  "kernelspec": {
   "display_name": "Python 3",
   "language": "python",
   "name": "python3"
  },
  "language_info": {
   "codemirror_mode": {
    "name": "ipython",
    "version": 3
   },
   "file_extension": ".py",
   "mimetype": "text/x-python",
   "name": "python",
   "nbconvert_exporter": "python",
   "pygments_lexer": "ipython3",
   "version": "3.8.5"
  }
 },
 "nbformat": 4,
 "nbformat_minor": 4
}
