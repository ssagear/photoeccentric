{
 "cells": [
  {
   "cell_type": "code",
   "execution_count": 1,
   "metadata": {},
   "outputs": [],
   "source": [
    "import numpy as np\n",
    "import matplotlib.pyplot as plt\n",
    "import pandas as pd\n",
    "from tqdm import tqdm\n",
    "from astropy.table import Table\n",
    "import astropy.units as u\n",
    "import os"
   ]
  },
  {
   "cell_type": "markdown",
   "metadata": {},
   "source": [
    "# Probability Grid Starts Here"
   ]
  },
  {
   "cell_type": "code",
   "execution_count": 2,
   "metadata": {},
   "outputs": [],
   "source": [
    "def norm_gauss(x, gauss_mean, gauss_sigma):\n",
    "    \n",
    "    eval_g = (1./np.sqrt(2*np.pi*(gauss_sigma**2)))*np.exp((-(x-gauss_mean)**2)/(2.*gauss_sigma**2))\n",
    "    \n",
    "    return eval_g"
   ]
  },
  {
   "cell_type": "code",
   "execution_count": 3,
   "metadata": {},
   "outputs": [],
   "source": [
    "x = np.arange(0, 1, 0.01)\n",
    "y = np.arange(0.001, 0.6, 0.001)\n",
    "mus, sigs = np.meshgrid(x, y, sparse=False)"
   ]
  },
  {
   "cell_type": "code",
   "execution_count": 6,
   "metadata": {},
   "outputs": [],
   "source": [
    "setmeans = [0.2, 0.5, 0.8]\n",
    "setsig = [0.03, 0.03, 0.03]"
   ]
  },
  {
   "cell_type": "code",
   "execution_count": 7,
   "metadata": {},
   "outputs": [],
   "source": [
    "fit = [np.random.normal(loc=setmeans[0], scale=setsig[0], size=1000), np.random.normal(loc=setmeans[1], scale=setsig[1], size=1000), np.random.normal(loc=setmeans[2], scale=setsig[2], size=1000)]"
   ]
  },
  {
   "cell_type": "code",
   "execution_count": 8,
   "metadata": {
    "scrolled": true
   },
   "outputs": [
    {
     "data": {
      "text/plain": [
       "0.5"
      ]
     },
     "execution_count": 8,
     "metadata": {},
     "output_type": "execute_result"
    }
   ],
   "source": [
    "np.mean(setmeans)"
   ]
  },
  {
   "cell_type": "code",
   "execution_count": 9,
   "metadata": {},
   "outputs": [
    {
     "data": {
      "text/plain": [
       "0.24494897427831783"
      ]
     },
     "execution_count": 9,
     "metadata": {},
     "output_type": "execute_result"
    }
   ],
   "source": [
    "np.std(setmeans)"
   ]
  },
  {
   "cell_type": "code",
   "execution_count": 55,
   "metadata": {},
   "outputs": [
    {
     "data": {
      "text/plain": [
       "0.17586553914301134"
      ]
     },
     "execution_count": 55,
     "metadata": {},
     "output_type": "execute_result"
    }
   ],
   "source": [
    "fit[0][0]"
   ]
  },
  {
   "cell_type": "code",
   "execution_count": 74,
   "metadata": {},
   "outputs": [
    {
     "data": {
      "text/plain": [
       "398.94228040143264"
      ]
     },
     "execution_count": 74,
     "metadata": {},
     "output_type": "execute_result"
    }
   ],
   "source": [
    "norm_gauss(0, 0, 0.001)"
   ]
  },
  {
   "cell_type": "code",
   "execution_count": 78,
   "metadata": {},
   "outputs": [],
   "source": [
    "l = norm_gauss(0, mus, sigs)"
   ]
  },
  {
   "cell_type": "code",
   "execution_count": 79,
   "metadata": {},
   "outputs": [
    {
     "data": {
      "text/plain": [
       "<matplotlib.colorbar.Colorbar at 0x7fdfcff4a6d0>"
      ]
     },
     "execution_count": 79,
     "metadata": {},
     "output_type": "execute_result"
    },
    {
     "data": {
      "image/png": "[encoded data removed]",
      "text/plain": [
       "<Figure size 432x288 with 2 Axes>"
      ]
     },
     "metadata": {
      "needs_background": "light"
     },
     "output_type": "display_data"
    }
   ],
   "source": [
    "h = plt.contourf(mus,sigs,l)\n",
    "plt.colorbar()"
   ]
  },
  {
   "cell_type": "code",
   "execution_count": 72,
   "metadata": {},
   "outputs": [
    {
     "data": {
      "text/plain": [
       "array([[0.  , 0.01, 0.02, ..., 0.97, 0.98, 0.99],\n",
       "       [0.  , 0.01, 0.02, ..., 0.97, 0.98, 0.99],\n",
       "       [0.  , 0.01, 0.02, ..., 0.97, 0.98, 0.99],\n",
       "       ...,\n",
       "       [0.  , 0.01, 0.02, ..., 0.97, 0.98, 0.99],\n",
       "       [0.  , 0.01, 0.02, ..., 0.97, 0.98, 0.99],\n",
       "       [0.  , 0.01, 0.02, ..., 0.97, 0.98, 0.99]])"
      ]
     },
     "execution_count": 72,
     "metadata": {},
     "output_type": "execute_result"
    }
   ],
   "source": [
    "mus"
   ]
  },
  {
   "cell_type": "code",
   "execution_count": 73,
   "metadata": {},
   "outputs": [
    {
     "data": {
      "text/plain": [
       "array([[0.001, 0.001, 0.001, ..., 0.001, 0.001, 0.001],\n",
       "       [0.002, 0.002, 0.002, ..., 0.002, 0.002, 0.002],\n",
       "       [0.003, 0.003, 0.003, ..., 0.003, 0.003, 0.003],\n",
       "       ...,\n",
       "       [0.597, 0.597, 0.597, ..., 0.597, 0.597, 0.597],\n",
       "       [0.598, 0.598, 0.598, ..., 0.598, 0.598, 0.598],\n",
       "       [0.599, 0.599, 0.599, ..., 0.599, 0.599, 0.599]])"
      ]
     },
     "execution_count": 73,
     "metadata": {},
     "output_type": "execute_result"
    }
   ],
   "source": [
    "sigs"
   ]
  },
  {
   "cell_type": "code",
   "execution_count": 28,
   "metadata": {},
   "outputs": [],
   "source": [
    "zs = []\n",
    "\n",
    "for i in range(len(fit)): # For planet\n",
    "#for i in range(1):    \n",
    "    z = []\n",
    "    for j in range(len(fit[0])): # For value 1-1000\n",
    "        z.append(norm_gauss(fit[i][j], mus, sigs))\n",
    "    zs.append(np.sum(z, axis=0))\n",
    "    \n",
    "    \n",
    "finzs = np.prod(zs, axis=0)\n",
    "#finzs = finzs/1000."
   ]
  },
  {
   "cell_type": "code",
   "execution_count": 49,
   "metadata": {},
   "outputs": [],
   "source": [
    "# plt.contourf(mus, sigs, z[0])\n",
    "# plt.colorbar()"
   ]
  },
  {
   "cell_type": "code",
   "execution_count": 32,
   "metadata": {},
   "outputs": [],
   "source": [
    "finzs = finzs/np.median(finzs)"
   ]
  },
  {
   "cell_type": "code",
   "execution_count": 42,
   "metadata": {},
   "outputs": [],
   "source": [
    "d = np.zeros((599, 100))"
   ]
  },
  {
   "cell_type": "code",
   "execution_count": 46,
   "metadata": {},
   "outputs": [
    {
     "data": {
      "image/png": "[encoded data removed]",
      "text/plain": [
       "<Figure size 432x288 with 2 Axes>"
      ]
     },
     "metadata": {
      "needs_background": "light"
     },
     "output_type": "display_data"
    }
   ],
   "source": [
    "# plt.contourf(mus,sigs,zs[0])\n",
    "# plt.title('1 planet with Mean: ' + str(setmeans[0]) + ' Sigma, ' + str(setsig[0]))\n",
    "# plt.xlabel('Mu')\n",
    "# plt.ylabel('Sigma')\n",
    "# plt.show()\n",
    "\n",
    "# plt.contourf(mus,sigs,zs[1])\n",
    "# plt.title('1 planet with Mean: ' + str(setmeans[1]) + ' Sigma, ' + str(setsig[1]))\n",
    "# plt.xlabel('Mu')\n",
    "# plt.ylabel('Sigma')\n",
    "# plt.show()\n",
    "\n",
    "# plt.contourf(mus,sigs,zs[2])\n",
    "# plt.title('1 planet with Mean: ' + str(setmeans[2]) + ' Sigma, ' + str(setsig[2]))\n",
    "# plt.xlabel('Mu')\n",
    "# plt.ylabel('Sigma')\n",
    "# plt.show()\n",
    "\n",
    "\n",
    "h = plt.contourf(mus,sigs,finzs)\n",
    "plt.colorbar()\n",
    "\n",
    "plt.title('Product of 3 Planets with MEAN(means): ' + str(round(np.mean(setmeans), 2)) + ' SIGMA(means):' + str(round(np.std(setmeans), 2)))\n",
    "plt.xlabel('Mu')\n",
    "plt.ylabel('Sigma')\n",
    "plt.show()"
   ]
  },
  {
   "cell_type": "code",
   "execution_count": 37,
   "metadata": {},
   "outputs": [
    {
     "data": {
      "image/png": "[encoded data removed]",
      "text/plain": [
       "<Figure size 432x288 with 2 Axes>"
      ]
     },
     "metadata": {
      "needs_background": "light"
     },
     "output_type": "display_data"
    }
   ],
   "source": [
    "h = plt.contourf(mus,sigs,finzs)\n",
    "plt.colorbar()\n",
    "\n",
    "plt.title('Product of 3 Planets with MEAN(means): ' + str(round(np.mean(setmeans), 2)) + ' SIGMA(means):' + str(round(np.std(setmeans), 2)))\n",
    "plt.xlabel('Mu')\n",
    "plt.ylabel('Sigma')\n",
    "plt.show()"
   ]
  },
  {
   "cell_type": "code",
   "execution_count": null,
   "metadata": {},
   "outputs": [],
   "source": []
  },
  {
   "cell_type": "code",
   "execution_count": null,
   "metadata": {},
   "outputs": [],
   "source": []
  },
  {
   "cell_type": "code",
   "execution_count": null,
   "metadata": {},
   "outputs": [],
   "source": []
  },
  {
   "cell_type": "code",
   "execution_count": null,
   "metadata": {},
   "outputs": [],
   "source": []
  }
 ],
 "metadata": {
  "kernelspec": {
   "display_name": "Python 3",
   "language": "python",
   "name": "python3"
  },
  "language_info": {
   "codemirror_mode": {
    "name": "ipython",
    "version": 3
   },
   "file_extension": ".py",
   "mimetype": "text/x-python",
   "name": "python",
   "nbconvert_exporter": "python",
   "pygments_lexer": "ipython3",
   "version": "3.8.5"
  }
 },
 "nbformat": 4,
 "nbformat_minor": 4
}
